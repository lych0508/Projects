{
  "nbformat": 4,
  "nbformat_minor": 0,
  "metadata": {
    "colab": {
      "name": "DATA255_Team1_StockPrediction.ipynb",
      "provenance": [],
      "collapsed_sections": []
    },
    "kernelspec": {
      "name": "python3",
      "display_name": "Python 3"
    },
    "accelerator": "GPU"
  },
  "cells": [
    {
      "cell_type": "markdown",
      "metadata": {
        "id": "VkMeVUBqfL0W"
      },
      "source": [
        "# DATA 255 Team 1 -- Stock Price Prediction (LSTM)\n",
        "In this project, we performed stock price prediction on Apple's stock 7 days in advance using Recurrent Neural Network. The network architecture is LSTM."
      ]
    },
    {
      "cell_type": "code",
      "metadata": {
        "id": "X1bC4eu-pNdC",
        "colab": {
          "base_uri": "https://localhost:8080/"
        },
        "outputId": "bdabd747-2093-4527-b279-483b3da89e3f"
      },
      "source": [
        "import numpy as np\n",
        "import pandas as pd\n",
        "import matplotlib.pyplot as plt\n",
        "from sklearn.preprocessing import MinMaxScaler\n",
        "import torch\n",
        "import torch.nn as nn\n",
        "from statsmodels.tsa.stattools import adfuller\n",
        "from statsmodels.tsa.arima_model import ARIMA"
      ],
      "execution_count": null,
      "outputs": [
        {
          "output_type": "stream",
          "text": [
            "/usr/local/lib/python3.6/dist-packages/statsmodels/tools/_testing.py:19: FutureWarning: pandas.util.testing is deprecated. Use the functions in the public API at pandas.testing instead.\n",
            "  import pandas.util.testing as tm\n"
          ],
          "name": "stderr"
        }
      ]
    },
    {
      "cell_type": "code",
      "metadata": {
        "id": "D3OQXHDPmp0A",
        "colab": {
          "base_uri": "https://localhost:8080/"
        },
        "outputId": "53d28584-8bbc-47ea-fe9c-584fcc938353"
      },
      "source": [
        "# download the data\n",
        "!wget https://raw.githubusercontent.com/tonylaioffer/stock-prediction-lstm-using-keras/master/data/sandp500/all_stocks_5yr.csv"
      ],
      "execution_count": null,
      "outputs": [
        {
          "output_type": "stream",
          "text": [
            "--2020-12-05 21:49:55--  https://raw.githubusercontent.com/tonylaioffer/stock-prediction-lstm-using-keras/master/data/sandp500/all_stocks_5yr.csv\n",
            "Resolving raw.githubusercontent.com (raw.githubusercontent.com)... 151.101.0.133, 151.101.64.133, 151.101.128.133, ...\n",
            "Connecting to raw.githubusercontent.com (raw.githubusercontent.com)|151.101.0.133|:443... connected.\n",
            "HTTP request sent, awaiting response... 200 OK\n",
            "Length: 29580549 (28M) [text/plain]\n",
            "Saving to: ‘all_stocks_5yr.csv.1’\n",
            "\n",
            "all_stocks_5yr.csv. 100%[===================>]  28.21M  68.1MB/s    in 0.4s    \n",
            "\n",
            "2020-12-05 21:49:56 (68.1 MB/s) - ‘all_stocks_5yr.csv.1’ saved [29580549/29580549]\n",
            "\n"
          ],
          "name": "stdout"
        }
      ]
    },
    {
      "cell_type": "markdown",
      "metadata": {
        "id": "WKfziCMJfY6Z"
      },
      "source": [
        "## Data Exploration and Visualization"
      ]
    },
    {
      "cell_type": "code",
      "metadata": {
        "id": "zPcAF2XNpICb",
        "colab": {
          "base_uri": "https://localhost:8080/",
          "height": 204
        },
        "outputId": "3bf5549c-9856-4ecf-9915-25b18d08dc8b"
      },
      "source": [
        "# load the data\n",
        "data = pd.read_csv('./all_stocks_5yr.csv')\n",
        "data.head()"
      ],
      "execution_count": null,
      "outputs": [
        {
          "output_type": "execute_result",
          "data": {
            "text/html": [
              "<div>\n",
              "<style scoped>\n",
              "    .dataframe tbody tr th:only-of-type {\n",
              "        vertical-align: middle;\n",
              "    }\n",
              "\n",
              "    .dataframe tbody tr th {\n",
              "        vertical-align: top;\n",
              "    }\n",
              "\n",
              "    .dataframe thead th {\n",
              "        text-align: right;\n",
              "    }\n",
              "</style>\n",
              "<table border=\"1\" class=\"dataframe\">\n",
              "  <thead>\n",
              "    <tr style=\"text-align: right;\">\n",
              "      <th></th>\n",
              "      <th>date</th>\n",
              "      <th>open</th>\n",
              "      <th>high</th>\n",
              "      <th>low</th>\n",
              "      <th>close</th>\n",
              "      <th>volume</th>\n",
              "      <th>Name</th>\n",
              "    </tr>\n",
              "  </thead>\n",
              "  <tbody>\n",
              "    <tr>\n",
              "      <th>0</th>\n",
              "      <td>2013-02-08</td>\n",
              "      <td>15.07</td>\n",
              "      <td>15.12</td>\n",
              "      <td>14.63</td>\n",
              "      <td>14.75</td>\n",
              "      <td>8407500</td>\n",
              "      <td>AAL</td>\n",
              "    </tr>\n",
              "    <tr>\n",
              "      <th>1</th>\n",
              "      <td>2013-02-11</td>\n",
              "      <td>14.89</td>\n",
              "      <td>15.01</td>\n",
              "      <td>14.26</td>\n",
              "      <td>14.46</td>\n",
              "      <td>8882000</td>\n",
              "      <td>AAL</td>\n",
              "    </tr>\n",
              "    <tr>\n",
              "      <th>2</th>\n",
              "      <td>2013-02-12</td>\n",
              "      <td>14.45</td>\n",
              "      <td>14.51</td>\n",
              "      <td>14.10</td>\n",
              "      <td>14.27</td>\n",
              "      <td>8126000</td>\n",
              "      <td>AAL</td>\n",
              "    </tr>\n",
              "    <tr>\n",
              "      <th>3</th>\n",
              "      <td>2013-02-13</td>\n",
              "      <td>14.30</td>\n",
              "      <td>14.94</td>\n",
              "      <td>14.25</td>\n",
              "      <td>14.66</td>\n",
              "      <td>10259500</td>\n",
              "      <td>AAL</td>\n",
              "    </tr>\n",
              "    <tr>\n",
              "      <th>4</th>\n",
              "      <td>2013-02-14</td>\n",
              "      <td>14.94</td>\n",
              "      <td>14.96</td>\n",
              "      <td>13.16</td>\n",
              "      <td>13.99</td>\n",
              "      <td>31879900</td>\n",
              "      <td>AAL</td>\n",
              "    </tr>\n",
              "  </tbody>\n",
              "</table>\n",
              "</div>"
            ],
            "text/plain": [
              "         date   open   high    low  close    volume Name\n",
              "0  2013-02-08  15.07  15.12  14.63  14.75   8407500  AAL\n",
              "1  2013-02-11  14.89  15.01  14.26  14.46   8882000  AAL\n",
              "2  2013-02-12  14.45  14.51  14.10  14.27   8126000  AAL\n",
              "3  2013-02-13  14.30  14.94  14.25  14.66  10259500  AAL\n",
              "4  2013-02-14  14.94  14.96  13.16  13.99  31879900  AAL"
            ]
          },
          "metadata": {
            "tags": []
          },
          "execution_count": 3
        }
      ]
    },
    {
      "cell_type": "code",
      "metadata": {
        "id": "rT3atsxfs_s5",
        "colab": {
          "base_uri": "https://localhost:8080/"
        },
        "outputId": "a1309b5f-6994-4888-d75e-fd4637749011"
      },
      "source": [
        "# check basic info of the dataset: size, missing values, data types\n",
        "data.info()"
      ],
      "execution_count": null,
      "outputs": [
        {
          "output_type": "stream",
          "text": [
            "<class 'pandas.core.frame.DataFrame'>\n",
            "RangeIndex: 619040 entries, 0 to 619039\n",
            "Data columns (total 7 columns):\n",
            " #   Column  Non-Null Count   Dtype  \n",
            "---  ------  --------------   -----  \n",
            " 0   date    619040 non-null  object \n",
            " 1   open    619029 non-null  float64\n",
            " 2   high    619032 non-null  float64\n",
            " 3   low     619032 non-null  float64\n",
            " 4   close   619040 non-null  float64\n",
            " 5   volume  619040 non-null  int64  \n",
            " 6   Name    619040 non-null  object \n",
            "dtypes: float64(4), int64(1), object(2)\n",
            "memory usage: 33.1+ MB\n"
          ],
          "name": "stdout"
        }
      ]
    },
    {
      "cell_type": "code",
      "metadata": {
        "id": "aia6LPgZ2eu5",
        "colab": {
          "base_uri": "https://localhost:8080/"
        },
        "outputId": "7583c6e0-c0b8-4de6-a7dc-67b65a5d27f1"
      },
      "source": [
        "# check for duplicates - none\n",
        "data.duplicated().sum()"
      ],
      "execution_count": null,
      "outputs": [
        {
          "output_type": "execute_result",
          "data": {
            "text/plain": [
              "0"
            ]
          },
          "metadata": {
            "tags": []
          },
          "execution_count": 5
        }
      ]
    },
    {
      "cell_type": "code",
      "metadata": {
        "id": "vVa7kkIqEiip",
        "colab": {
          "base_uri": "https://localhost:8080/"
        },
        "outputId": "fa864d92-f8e0-4005-bb23-61131c544b6a"
      },
      "source": [
        "# check for missing values\n",
        "data.isnull().sum()"
      ],
      "execution_count": null,
      "outputs": [
        {
          "output_type": "execute_result",
          "data": {
            "text/plain": [
              "date       0\n",
              "open      11\n",
              "high       8\n",
              "low        8\n",
              "close      0\n",
              "volume     0\n",
              "Name       0\n",
              "dtype: int64"
            ]
          },
          "metadata": {
            "tags": []
          },
          "execution_count": 6
        }
      ]
    },
    {
      "cell_type": "code",
      "metadata": {
        "id": "e-VdP4USqggO",
        "colab": {
          "base_uri": "https://localhost:8080/"
        },
        "outputId": "d38dc243-d68c-4321-f832-d1ba885fca80"
      },
      "source": [
        "# check how many stocks are included in the dataset\n",
        "data['Name'].nunique()"
      ],
      "execution_count": null,
      "outputs": [
        {
          "output_type": "execute_result",
          "data": {
            "text/plain": [
              "505"
            ]
          },
          "metadata": {
            "tags": []
          },
          "execution_count": 7
        }
      ]
    },
    {
      "cell_type": "code",
      "metadata": {
        "id": "M3dDIN7vqRKK",
        "colab": {
          "base_uri": "https://localhost:8080/"
        },
        "outputId": "64abaa6f-63ad-4c2e-db12-37f8f4d60a8a"
      },
      "source": [
        "# check number of dates included in the dataset\n",
        "data['date'].nunique()"
      ],
      "execution_count": null,
      "outputs": [
        {
          "output_type": "execute_result",
          "data": {
            "text/plain": [
              "1259"
            ]
          },
          "metadata": {
            "tags": []
          },
          "execution_count": 8
        }
      ]
    },
    {
      "cell_type": "code",
      "metadata": {
        "id": "neJyXmKmr84I",
        "colab": {
          "base_uri": "https://localhost:8080/"
        },
        "outputId": "a1dda45e-86ca-4dbb-f8a2-5d323d959742"
      },
      "source": [
        "# check range of dates\n",
        "print('earliest date: ', min(data['date']))\n",
        "print('latest date: ', max(data['date']))"
      ],
      "execution_count": null,
      "outputs": [
        {
          "output_type": "stream",
          "text": [
            "earliest date:  2013-02-08\n",
            "latest date:  2018-02-07\n"
          ],
          "name": "stdout"
        }
      ]
    },
    {
      "cell_type": "code",
      "metadata": {
        "id": "iJTF-urLqFJJ",
        "colab": {
          "base_uri": "https://localhost:8080/"
        },
        "outputId": "2992ff09-8988-48bd-9518-6051bb969c86"
      },
      "source": [
        "# not all stocks have data for each date in the above date range\n",
        "data['Name'].value_counts()"
      ],
      "execution_count": null,
      "outputs": [
        {
          "output_type": "execute_result",
          "data": {
            "text/plain": [
              "MSI     1259\n",
              "BAX     1259\n",
              "V       1259\n",
              "HRS     1259\n",
              "GIS     1259\n",
              "        ... \n",
              "DXC      215\n",
              "BHGE     152\n",
              "BHF      143\n",
              "DWDP     109\n",
              "APTV      44\n",
              "Name: Name, Length: 505, dtype: int64"
            ]
          },
          "metadata": {
            "tags": []
          },
          "execution_count": 10
        }
      ]
    },
    {
      "cell_type": "code",
      "metadata": {
        "id": "K3_SKFbNqmar",
        "colab": {
          "base_uri": "https://localhost:8080/",
          "height": 297
        },
        "outputId": "a804c9a0-e200-45b3-e683-38dc291b96b8"
      },
      "source": [
        "# check summary statistitics for numeric columns\n",
        "data.describe()"
      ],
      "execution_count": null,
      "outputs": [
        {
          "output_type": "execute_result",
          "data": {
            "text/html": [
              "<div>\n",
              "<style scoped>\n",
              "    .dataframe tbody tr th:only-of-type {\n",
              "        vertical-align: middle;\n",
              "    }\n",
              "\n",
              "    .dataframe tbody tr th {\n",
              "        vertical-align: top;\n",
              "    }\n",
              "\n",
              "    .dataframe thead th {\n",
              "        text-align: right;\n",
              "    }\n",
              "</style>\n",
              "<table border=\"1\" class=\"dataframe\">\n",
              "  <thead>\n",
              "    <tr style=\"text-align: right;\">\n",
              "      <th></th>\n",
              "      <th>open</th>\n",
              "      <th>high</th>\n",
              "      <th>low</th>\n",
              "      <th>close</th>\n",
              "      <th>volume</th>\n",
              "    </tr>\n",
              "  </thead>\n",
              "  <tbody>\n",
              "    <tr>\n",
              "      <th>count</th>\n",
              "      <td>619029.000000</td>\n",
              "      <td>619032.000000</td>\n",
              "      <td>619032.000000</td>\n",
              "      <td>619040.000000</td>\n",
              "      <td>6.190400e+05</td>\n",
              "    </tr>\n",
              "    <tr>\n",
              "      <th>mean</th>\n",
              "      <td>83.023334</td>\n",
              "      <td>83.778311</td>\n",
              "      <td>82.256096</td>\n",
              "      <td>83.043763</td>\n",
              "      <td>4.321823e+06</td>\n",
              "    </tr>\n",
              "    <tr>\n",
              "      <th>std</th>\n",
              "      <td>97.378769</td>\n",
              "      <td>98.207519</td>\n",
              "      <td>96.507421</td>\n",
              "      <td>97.389748</td>\n",
              "      <td>8.693610e+06</td>\n",
              "    </tr>\n",
              "    <tr>\n",
              "      <th>min</th>\n",
              "      <td>1.620000</td>\n",
              "      <td>1.690000</td>\n",
              "      <td>1.500000</td>\n",
              "      <td>1.590000</td>\n",
              "      <td>0.000000e+00</td>\n",
              "    </tr>\n",
              "    <tr>\n",
              "      <th>25%</th>\n",
              "      <td>40.220000</td>\n",
              "      <td>40.620000</td>\n",
              "      <td>39.830000</td>\n",
              "      <td>40.245000</td>\n",
              "      <td>1.070320e+06</td>\n",
              "    </tr>\n",
              "    <tr>\n",
              "      <th>50%</th>\n",
              "      <td>62.590000</td>\n",
              "      <td>63.150000</td>\n",
              "      <td>62.020000</td>\n",
              "      <td>62.620000</td>\n",
              "      <td>2.082094e+06</td>\n",
              "    </tr>\n",
              "    <tr>\n",
              "      <th>75%</th>\n",
              "      <td>94.370000</td>\n",
              "      <td>95.180000</td>\n",
              "      <td>93.540000</td>\n",
              "      <td>94.410000</td>\n",
              "      <td>4.284509e+06</td>\n",
              "    </tr>\n",
              "    <tr>\n",
              "      <th>max</th>\n",
              "      <td>2044.000000</td>\n",
              "      <td>2067.990000</td>\n",
              "      <td>2035.110000</td>\n",
              "      <td>2049.000000</td>\n",
              "      <td>6.182376e+08</td>\n",
              "    </tr>\n",
              "  </tbody>\n",
              "</table>\n",
              "</div>"
            ],
            "text/plain": [
              "                open           high            low          close        volume\n",
              "count  619029.000000  619032.000000  619032.000000  619040.000000  6.190400e+05\n",
              "mean       83.023334      83.778311      82.256096      83.043763  4.321823e+06\n",
              "std        97.378769      98.207519      96.507421      97.389748  8.693610e+06\n",
              "min         1.620000       1.690000       1.500000       1.590000  0.000000e+00\n",
              "25%        40.220000      40.620000      39.830000      40.245000  1.070320e+06\n",
              "50%        62.590000      63.150000      62.020000      62.620000  2.082094e+06\n",
              "75%        94.370000      95.180000      93.540000      94.410000  4.284509e+06\n",
              "max      2044.000000    2067.990000    2035.110000    2049.000000  6.182376e+08"
            ]
          },
          "metadata": {
            "tags": []
          },
          "execution_count": 11
        }
      ]
    },
    {
      "cell_type": "code",
      "metadata": {
        "id": "J38qqHQaqq4s",
        "colab": {
          "base_uri": "https://localhost:8080/",
          "height": 427
        },
        "outputId": "24ff865e-c68f-42a2-fd35-c4753bee9c27"
      },
      "source": [
        "# plot Apple stock\n",
        "apple = data[data['Name']=='AAPL']\n",
        "ax = apple.plot(x='date', y='close', figsize=(12,6), title='Daily Closing Price (Apple)', fontsize=12, legend=False)\n",
        "ax.set_xlabel('Date', fontsize=12)\n",
        "ax.set_ylabel('Price', fontsize=12)"
      ],
      "execution_count": null,
      "outputs": [
        {
          "output_type": "execute_result",
          "data": {
            "text/plain": [
              "Text(0, 0.5, 'Price')"
            ]
          },
          "metadata": {
            "tags": []
          },
          "execution_count": 12
        },
        {
          "output_type": "display_data",
          "data": {
            "image/png": "[encoded data removed]",
            "text/plain": [
              "<Figure size 864x432 with 1 Axes>"
            ]
          },
          "metadata": {
            "tags": [],
            "needs_background": "light"
          }
        }
      ]
    },
    {
      "cell_type": "code",
      "metadata": {
        "id": "QQE1fzTDu74f",
        "colab": {
          "base_uri": "https://localhost:8080/",
          "height": 427
        },
        "outputId": "5ab1ed8f-d2af-414b-dea6-f67c486a8b41"
      },
      "source": [
        "# plot facebook stock\n",
        "fb = data[data['Name']=='FB']\n",
        "ax = fb.plot(x='date', y='close', figsize=(12,6), title='Daily Closing Price (Facebook)', fontsize=12, legend=False)\n",
        "ax.set_xlabel('Date', fontsize=12)\n",
        "ax.set_ylabel('Price', fontsize=12)"
      ],
      "execution_count": null,
      "outputs": [
        {
          "output_type": "execute_result",
          "data": {
            "text/plain": [
              "Text(0, 0.5, 'Price')"
            ]
          },
          "metadata": {
            "tags": []
          },
          "execution_count": 13
        },
        {
          "output_type": "display_data",
          "data": {
            "image/png": "[encoded data removed]",
            "text/plain": [
              "<Figure size 864x432 with 1 Axes>"
            ]
          },
          "metadata": {
            "tags": [],
            "needs_background": "light"
          }
        }
      ]
    },
    {
      "cell_type": "code",
      "metadata": {
        "id": "n1jf4mM0va4r",
        "colab": {
          "base_uri": "https://localhost:8080/",
          "height": 427
        },
        "outputId": "83c709e3-d464-4497-9af0-50fb21a49605"
      },
      "source": [
        "# plot google stock\n",
        "google = data[data['Name']=='GOOGL']\n",
        "ax = google.plot(x='date', y='close', figsize=(12,6), title='Daily Closing Price (Google)', fontsize=12, legend=False)\n",
        "ax.set_xlabel('Date', fontsize=12)\n",
        "ax.set_ylabel('Price', fontsize=12)"
      ],
      "execution_count": null,
      "outputs": [
        {
          "output_type": "execute_result",
          "data": {
            "text/plain": [
              "Text(0, 0.5, 'Price')"
            ]
          },
          "metadata": {
            "tags": []
          },
          "execution_count": 14
        },
        {
          "output_type": "display_data",
          "data": {
            "image/png": "[encoded data removed]",
            "text/plain": [
              "<Figure size 864x432 with 1 Axes>"
            ]
          },
          "metadata": {
            "tags": [],
            "needs_background": "light"
          }
        }
      ]
    },
    {
      "cell_type": "markdown",
      "metadata": {
        "id": "p7iO5Vq3fciZ"
      },
      "source": [
        "## Data Preprocessing"
      ]
    },
    {
      "cell_type": "code",
      "metadata": {
        "id": "8VYzbvzUffHl"
      },
      "source": [
        "# extract Apple's stock data from the dataset\n",
        "dataset = data[data['Name']=='AAPL'].close.values"
      ],
      "execution_count": null,
      "outputs": []
    },
    {
      "cell_type": "markdown",
      "metadata": {
        "id": "bDvKJ9G8iN-R"
      },
      "source": [
        "#### Normalization"
      ]
    },
    {
      "cell_type": "code",
      "metadata": {
        "id": "Hx_eERSsiCF-"
      },
      "source": [
        "# Data normalization\n",
        "sc = MinMaxScaler(feature_range = (0, 1))\n",
        "dataset = dataset.reshape(dataset.shape[0], 1)\n",
        "dataset_sc = sc.fit_transform(dataset)"
      ],
      "execution_count": null,
      "outputs": []
    },
    {
      "cell_type": "markdown",
      "metadata": {
        "id": "M1JAA1HNiSKu"
      },
      "source": [
        "#### Cut time series into input/output pairs\n",
        "Apply a sliding window (window size = 7) to create input/output pairs for the RNN model. The input is a sequence of lenght 7 and output is a scalar value."
      ]
    },
    {
      "cell_type": "code",
      "metadata": {
        "id": "QJWfbm_XiSeI"
      },
      "source": [
        "# Define a function to process the data into n day look back slices\n",
        "def slidingWindow(data, lb):\n",
        "    X, y = [], []\n",
        "    for i in range(len(data) - lb - 1):\n",
        "        X.append(data[i: (i + lb), 0])\n",
        "        y.append(data[(i + lb), 0])\n",
        "    return np.array(X), np.array(y)"
      ],
      "execution_count": null,
      "outputs": []
    },
    {
      "cell_type": "code",
      "metadata": {
        "id": "T9iotyU3nfBA"
      },
      "source": [
        "# Process Apple's stock into 7 day look back slices\n",
        "X, y = slidingWindow(dataset_sc, 7)"
      ],
      "execution_count": null,
      "outputs": []
    },
    {
      "cell_type": "markdown",
      "metadata": {
        "id": "s00kgJEqmZ2G"
      },
      "source": [
        "#### Train-test split\n",
        "We'll use the last 1/5 of this time series data for validation.\n"
      ]
    },
    {
      "cell_type": "code",
      "metadata": {
        "colab": {
          "base_uri": "https://localhost:8080/"
        },
        "id": "xbrejQs8mtOL",
        "outputId": "98bd9577-e2c8-406c-aae8-d1eb62c028b4"
      },
      "source": [
        "# train test split\n",
        "X_train, X_test = X[:int(X.shape[0]*0.80)], X[int(X.shape[0]*0.80):]\n",
        "y_train, y_test = y[:int(y.shape[0]*0.80)], y[int(y.shape[0]*0.80):]\n",
        "print('X_train:', X_train.shape[0])\n",
        "print('X_test:', X_test.shape[0])\n",
        "print('y_train:', y_train.shape[0])\n",
        "print('y_test:', y_test.shape[0])\n",
        "\n",
        "# reshaping\n",
        "X_train = np.reshape(X_train, (X_train.shape[0], 1, X_train.shape[1]))\n",
        "X_test = np.reshape(X_test, (X_test.shape[0], 1, X_test.shape[1]))"
      ],
      "execution_count": null,
      "outputs": [
        {
          "output_type": "stream",
          "text": [
            "X_train: 1000\n",
            "X_test: 251\n",
            "y_train: 1000\n",
            "y_test: 251\n"
          ],
          "name": "stdout"
        }
      ]
    },
    {
      "cell_type": "markdown",
      "metadata": {
        "id": "bwlvdb96mtkY"
      },
      "source": [
        "## Model Training and Evaluation\n",
        "We will first build a LSTM model, then two other time series models (rolling average & ARIMA) to compare prediction results."
      ]
    },
    {
      "cell_type": "markdown",
      "metadata": {
        "id": "2W6I7FmfmzA1"
      },
      "source": [
        "### LSTM Model\n",
        "We built an RNN model with 2 hidden layers:\n",
        "- First layer uses LSTM module with 64 hidden units\n",
        "- Second layer uses fully connected module with 1 unit"
      ]
    },
    {
      "cell_type": "code",
      "metadata": {
        "id": "70dgKV2pmxEY"
      },
      "source": [
        "class RNN_model(nn.Module):\n",
        "    def __init__(self, i_size, h_size, n_layers, o_size, dropout=0.1, bidirectional=True):\n",
        "        super(RNN_model, self).__init__()\n",
        "        self.num_directions = bidirectional + 1\n",
        "        self.rnn = nn.LSTM(\n",
        "            input_size = i_size,\n",
        "            hidden_size = h_size,\n",
        "            num_layers = n_layers,\n",
        "            dropout = dropout,\n",
        "            bidirectional = bidirectional)\n",
        "        self.out = nn.Linear(h_size, o_size)\n",
        "\n",
        "    def forward(self, x, h_state):\n",
        "        r_out, hidden_state = self.rnn(x, h_state)\n",
        "        hidden_size = hidden_state[-1].size(-1)\n",
        "        r_out = r_out.view(-1, self.num_directions, hidden_size)\n",
        "        outs = self.out(r_out)\n",
        "        \n",
        "        return outs, hidden_state"
      ],
      "execution_count": null,
      "outputs": []
    },
    {
      "cell_type": "code",
      "metadata": {
        "colab": {
          "base_uri": "https://localhost:8080/"
        },
        "id": "Pp7XaEzqpd9o",
        "outputId": "16fb1040-d2ca-4704-f08b-9bea0ad1ded0"
      },
      "source": [
        "# specify global parameters\n",
        "input_size = 7\n",
        "hidden_size = 64\n",
        "num_layers = 3\n",
        "output_size = 1\n",
        "batch_size = 128\n",
        "\n",
        "# specify hyperparameters\n",
        "learning_rate = 0.001\n",
        "num_epochs = 300\n",
        "\n",
        "rnn = RNN_model(input_size, hidden_size, num_layers, output_size, bidirectional=False)\n",
        "# change colab runtime type to GPU\n",
        "rnn.cuda()\n",
        "optimizer = torch.optim.Adam(rnn.parameters(), lr=learning_rate)\n",
        "# use mean squared error loss\n",
        "criterion = nn.MSELoss()\n",
        "hidden_state = None\n",
        "\n",
        "rnn"
      ],
      "execution_count": null,
      "outputs": [
        {
          "output_type": "execute_result",
          "data": {
            "text/plain": [
              "RNN_model(\n",
              "  (rnn): LSTM(7, 64, num_layers=3, dropout=0.1)\n",
              "  (out): Linear(in_features=64, out_features=1, bias=True)\n",
              ")"
            ]
          },
          "metadata": {
            "tags": []
          },
          "execution_count": 21
        }
      ]
    },
    {
      "cell_type": "code",
      "metadata": {
        "colab": {
          "base_uri": "https://localhost:8080/"
        },
        "id": "FwGyQLrqpk0q",
        "outputId": "fbdfc44c-4fa9-457a-baa7-22d39a3fb235"
      },
      "source": [
        "history = []\n",
        "X_train_cuda = torch.tensor(X_train).float().cuda()\n",
        "y_train_cuda = torch.tensor(y_train).float().cuda()\n",
        "X_test_cuda = torch.tensor(X_test).float().cuda()\n",
        "y_test_cuda = torch.tensor(y_test).float().cuda()\n",
        "\n",
        "for epoch in range(num_epochs):\n",
        "    rnn.train()\n",
        "    output, _ = rnn(X_train_cuda, hidden_state) \n",
        "    loss = criterion(output[:,0,:].view(-1), y_train_cuda)\n",
        "    optimizer.zero_grad()\n",
        "    # backpropagation\n",
        "    loss.backward()\n",
        "    # update the parameters\n",
        "    optimizer.step()                    \n",
        "    \n",
        "    rnn.eval()\n",
        "    test_output, _ = rnn(X_test_cuda, hidden_state)\n",
        "    test_loss = criterion(test_output.view(-1), y_test_cuda)\n",
        "    print('epoch {}, train_loss {}, val_loss {}'.format(epoch, loss.item(), test_loss.item()))\n",
        "    history.append(loss.item())"
      ],
      "execution_count": null,
      "outputs": [
        {
          "output_type": "stream",
          "text": [
            "epoch 0, train_loss 0.22644303739070892, val_loss 0.7887001037597656\n",
            "epoch 1, train_loss 0.1996956318616867, val_loss 0.7338616251945496\n",
            "epoch 2, train_loss 0.17554664611816406, val_loss 0.6803891062736511\n",
            "epoch 3, train_loss 0.1525246948003769, val_loss 0.6266449093818665\n",
            "epoch 4, train_loss 0.13081882894039154, val_loss 0.5710315704345703\n",
            "epoch 5, train_loss 0.10939427465200424, val_loss 0.5120203495025635\n",
            "epoch 6, train_loss 0.0889427587389946, val_loss 0.4480733871459961\n",
            "epoch 7, train_loss 0.06922175735235214, val_loss 0.3777681887149811\n",
            "epoch 8, train_loss 0.05050840973854065, val_loss 0.3002183437347412\n",
            "epoch 9, train_loss 0.034657157957553864, val_loss 0.2164197564125061\n",
            "epoch 10, train_loss 0.02452394925057888, val_loss 0.13326644897460938\n",
            "epoch 11, train_loss 0.024531949311494827, val_loss 0.07318009436130524\n",
            "epoch 12, train_loss 0.03685539588332176, val_loss 0.05383896455168724\n",
            "epoch 13, train_loss 0.044234927743673325, val_loss 0.05858626589179039\n",
            "epoch 14, train_loss 0.041349396109580994, val_loss 0.07734808325767517\n",
            "epoch 15, train_loss 0.033368684351444244, val_loss 0.10451918095350266\n",
            "epoch 16, train_loss 0.026594441384077072, val_loss 0.13470177352428436\n",
            "epoch 17, train_loss 0.022530201822519302, val_loss 0.16333742439746857\n",
            "epoch 18, train_loss 0.021493516862392426, val_loss 0.18754203617572784\n",
            "epoch 19, train_loss 0.022217141464352608, val_loss 0.20612891018390656\n",
            "epoch 20, train_loss 0.02358662337064743, val_loss 0.21875885128974915\n",
            "epoch 21, train_loss 0.02414328046143055, val_loss 0.22551977634429932\n",
            "epoch 22, train_loss 0.024958979338407516, val_loss 0.22667954862117767\n",
            "epoch 23, train_loss 0.02550758793950081, val_loss 0.22257854044437408\n",
            "epoch 24, train_loss 0.02502351813018322, val_loss 0.2135252058506012\n",
            "epoch 25, train_loss 0.02420630492269993, val_loss 0.19989073276519775\n",
            "epoch 26, train_loss 0.022579355165362358, val_loss 0.18203194439411163\n",
            "epoch 27, train_loss 0.02072931081056595, val_loss 0.16047891974449158\n",
            "epoch 28, train_loss 0.018673112615942955, val_loss 0.1361057609319687\n",
            "epoch 29, train_loss 0.016793252900242805, val_loss 0.11021079123020172\n",
            "epoch 30, train_loss 0.015564167872071266, val_loss 0.08458781987428665\n",
            "epoch 31, train_loss 0.01458797324448824, val_loss 0.061519164592027664\n",
            "epoch 32, train_loss 0.014218781143426895, val_loss 0.04336218163371086\n",
            "epoch 33, train_loss 0.014624855481088161, val_loss 0.03167065232992172\n",
            "epoch 34, train_loss 0.015101145952939987, val_loss 0.026375535875558853\n",
            "epoch 35, train_loss 0.014625608921051025, val_loss 0.026377970352768898\n",
            "epoch 36, train_loss 0.01305486261844635, val_loss 0.030154522508382797\n",
            "epoch 37, train_loss 0.010841074399650097, val_loss 0.03630596399307251\n",
            "epoch 38, train_loss 0.00960551667958498, val_loss 0.04253550246357918\n",
            "epoch 39, train_loss 0.008575355634093285, val_loss 0.04656704515218735\n",
            "epoch 40, train_loss 0.008160191588103771, val_loss 0.04663950204849243\n",
            "epoch 41, train_loss 0.007607029750943184, val_loss 0.04231268912553787\n",
            "epoch 42, train_loss 0.0071943532675504684, val_loss 0.034284818917512894\n",
            "epoch 43, train_loss 0.005830208770930767, val_loss 0.024711566045880318\n",
            "epoch 44, train_loss 0.004729220177978277, val_loss 0.016571981832385063\n",
            "epoch 45, train_loss 0.0040449537336826324, val_loss 0.012395615689456463\n",
            "epoch 46, train_loss 0.004449577070772648, val_loss 0.011804965324699879\n",
            "epoch 47, train_loss 0.004435339011251926, val_loss 0.013355434872210026\n",
            "epoch 48, train_loss 0.00338412425480783, val_loss 0.016779713332653046\n",
            "epoch 49, train_loss 0.003052952466532588, val_loss 0.020694730803370476\n",
            "epoch 50, train_loss 0.0031787899788469076, val_loss 0.022798938676714897\n",
            "epoch 51, train_loss 0.0035126053262501955, val_loss 0.021885063499212265\n",
            "epoch 52, train_loss 0.003041510935872793, val_loss 0.019128210842609406\n",
            "epoch 53, train_loss 0.0026309762615710497, val_loss 0.016457611694931984\n",
            "epoch 54, train_loss 0.0025291829369962215, val_loss 0.015405169688165188\n",
            "epoch 55, train_loss 0.002853786339983344, val_loss 0.01619238406419754\n",
            "epoch 56, train_loss 0.0025298448745161295, val_loss 0.01867206208407879\n",
            "epoch 57, train_loss 0.0023556319065392017, val_loss 0.02258356288075447\n",
            "epoch 58, train_loss 0.0022332584485411644, val_loss 0.02622067742049694\n",
            "epoch 59, train_loss 0.002257008571177721, val_loss 0.028243258595466614\n",
            "epoch 60, train_loss 0.0022388892248272896, val_loss 0.028225675225257874\n",
            "epoch 61, train_loss 0.0020800908096134663, val_loss 0.02740262635052204\n",
            "epoch 62, train_loss 0.0019166930578649044, val_loss 0.026450887322425842\n",
            "epoch 63, train_loss 0.0018434296362102032, val_loss 0.026461699977517128\n",
            "epoch 64, train_loss 0.0018837744137272239, val_loss 0.02765296958386898\n",
            "epoch 65, train_loss 0.0019305000314489007, val_loss 0.02995346672832966\n",
            "epoch 66, train_loss 0.0016338832210749388, val_loss 0.03301774710416794\n",
            "epoch 67, train_loss 0.0016657172236591578, val_loss 0.036283474415540695\n",
            "epoch 68, train_loss 0.0016434824792668223, val_loss 0.03863171488046646\n",
            "epoch 69, train_loss 0.001678982051089406, val_loss 0.0395229198038578\n",
            "epoch 70, train_loss 0.0016443817876279354, val_loss 0.03938177973031998\n",
            "epoch 71, train_loss 0.0015806606970727444, val_loss 0.03849563002586365\n",
            "epoch 72, train_loss 0.001435845042578876, val_loss 0.03730951249599457\n",
            "epoch 73, train_loss 0.0017108150059357285, val_loss 0.036801788955926895\n",
            "epoch 74, train_loss 0.0015605295775458217, val_loss 0.03715742751955986\n",
            "epoch 75, train_loss 0.0015460752183571458, val_loss 0.03862898424267769\n",
            "epoch 76, train_loss 0.0014649230288341641, val_loss 0.04036284238100052\n",
            "epoch 77, train_loss 0.0013633078197017312, val_loss 0.04168292507529259\n",
            "epoch 78, train_loss 0.001588105340488255, val_loss 0.0422743484377861\n",
            "epoch 79, train_loss 0.0015697326743975282, val_loss 0.04179811477661133\n",
            "epoch 80, train_loss 0.0015273502795025706, val_loss 0.040557123720645905\n",
            "epoch 81, train_loss 0.0014155888929963112, val_loss 0.03924199566245079\n",
            "epoch 82, train_loss 0.0014578021364286542, val_loss 0.03808777779340744\n",
            "epoch 83, train_loss 0.001373177976347506, val_loss 0.0372263640165329\n",
            "epoch 84, train_loss 0.0013775351690128446, val_loss 0.036755770444869995\n",
            "epoch 85, train_loss 0.0014115060912445188, val_loss 0.03728343918919563\n",
            "epoch 86, train_loss 0.0013505211099982262, val_loss 0.03816346824169159\n",
            "epoch 87, train_loss 0.0012735622003674507, val_loss 0.03882196173071861\n",
            "epoch 88, train_loss 0.0014406353002414107, val_loss 0.0389571338891983\n",
            "epoch 89, train_loss 0.0013793526450172067, val_loss 0.038555752485990524\n",
            "epoch 90, train_loss 0.0013845199719071388, val_loss 0.037182118743658066\n",
            "epoch 91, train_loss 0.0013649356551468372, val_loss 0.0357525609433651\n",
            "epoch 92, train_loss 0.0014078083913773298, val_loss 0.03464984893798828\n",
            "epoch 93, train_loss 0.0014718485763296485, val_loss 0.033631421625614166\n",
            "epoch 94, train_loss 0.0013687610626220703, val_loss 0.033497415482997894\n",
            "epoch 95, train_loss 0.0013430715771391988, val_loss 0.03416312858462334\n",
            "epoch 96, train_loss 0.0012543054763227701, val_loss 0.035344839096069336\n",
            "epoch 97, train_loss 0.0014524934813380241, val_loss 0.036026887595653534\n",
            "epoch 98, train_loss 0.0012756239157170057, val_loss 0.0359257347881794\n",
            "epoch 99, train_loss 0.001329581718891859, val_loss 0.035343002527952194\n",
            "epoch 100, train_loss 0.0012722044484689832, val_loss 0.03450434282422066\n",
            "epoch 101, train_loss 0.0013127378188073635, val_loss 0.0337657630443573\n",
            "epoch 102, train_loss 0.0013918132754042745, val_loss 0.033335693180561066\n",
            "epoch 103, train_loss 0.0011961725540459156, val_loss 0.03304525092244148\n",
            "epoch 104, train_loss 0.0012741914251819253, val_loss 0.032799702137708664\n",
            "epoch 105, train_loss 0.0013846929650753736, val_loss 0.03263960778713226\n",
            "epoch 106, train_loss 0.0012596076121553779, val_loss 0.03294811025261879\n",
            "epoch 107, train_loss 0.0013281789142638445, val_loss 0.03342422842979431\n",
            "epoch 108, train_loss 0.0013093751622363925, val_loss 0.03334591165184975\n",
            "epoch 109, train_loss 0.0012787457089871168, val_loss 0.03309367224574089\n",
            "epoch 110, train_loss 0.001339643495157361, val_loss 0.03274312987923622\n",
            "epoch 111, train_loss 0.0012095480924472213, val_loss 0.032195109874010086\n",
            "epoch 112, train_loss 0.0012423241278156638, val_loss 0.031421445310115814\n",
            "epoch 113, train_loss 0.0012870694044977427, val_loss 0.030637256801128387\n",
            "epoch 114, train_loss 0.0012311022728681564, val_loss 0.029982930049300194\n",
            "epoch 115, train_loss 0.0012275121407583356, val_loss 0.0296701118350029\n",
            "epoch 116, train_loss 0.0013285473687574267, val_loss 0.029726462438702583\n",
            "epoch 117, train_loss 0.0012423141160979867, val_loss 0.029845712706446648\n",
            "epoch 118, train_loss 0.001217484357766807, val_loss 0.02977108024060726\n",
            "epoch 119, train_loss 0.0012029760982841253, val_loss 0.02983374521136284\n",
            "epoch 120, train_loss 0.0012061848537996411, val_loss 0.029248010367155075\n",
            "epoch 121, train_loss 0.0012847325997427106, val_loss 0.028454119339585304\n",
            "epoch 122, train_loss 0.0012249528663232923, val_loss 0.02754492126405239\n",
            "epoch 123, train_loss 0.0013000102480873466, val_loss 0.026972204446792603\n",
            "epoch 124, train_loss 0.0012655151076614857, val_loss 0.02685394696891308\n",
            "epoch 125, train_loss 0.0011906216386705637, val_loss 0.027074377983808517\n",
            "epoch 126, train_loss 0.0012800510739907622, val_loss 0.027384143322706223\n",
            "epoch 127, train_loss 0.0011819570790976286, val_loss 0.027248213067650795\n",
            "epoch 128, train_loss 0.0012339919339865446, val_loss 0.026639236137270927\n",
            "epoch 129, train_loss 0.0013256616657599807, val_loss 0.025843126699328423\n",
            "epoch 130, train_loss 0.0011777811450883746, val_loss 0.0248576607555151\n",
            "epoch 131, train_loss 0.0011961591662839055, val_loss 0.024467993527650833\n",
            "epoch 132, train_loss 0.0011915038339793682, val_loss 0.02466164343059063\n",
            "epoch 133, train_loss 0.0012180446647107601, val_loss 0.024835757911205292\n",
            "epoch 134, train_loss 0.0011530735064297915, val_loss 0.02480393275618553\n",
            "epoch 135, train_loss 0.0010574799962341785, val_loss 0.02494896948337555\n",
            "epoch 136, train_loss 0.0011889799498021603, val_loss 0.024745473638176918\n",
            "epoch 137, train_loss 0.0011063267011195421, val_loss 0.024294596165418625\n",
            "epoch 138, train_loss 0.00119199778418988, val_loss 0.023971684277057648\n",
            "epoch 139, train_loss 0.0012551040854305029, val_loss 0.023550741374492645\n",
            "epoch 140, train_loss 0.0011617826530709863, val_loss 0.02318296581506729\n",
            "epoch 141, train_loss 0.0011656017741188407, val_loss 0.023043284192681313\n",
            "epoch 142, train_loss 0.0011987664038315415, val_loss 0.023072892799973488\n",
            "epoch 143, train_loss 0.0011257961159572005, val_loss 0.02288661152124405\n",
            "epoch 144, train_loss 0.0010391949908807874, val_loss 0.022774118930101395\n",
            "epoch 145, train_loss 0.001129193464294076, val_loss 0.022700056433677673\n",
            "epoch 146, train_loss 0.0012325862189754844, val_loss 0.022580109536647797\n",
            "epoch 147, train_loss 0.0012636766768991947, val_loss 0.022367626428604126\n",
            "epoch 148, train_loss 0.0012296156492084265, val_loss 0.02213456854224205\n",
            "epoch 149, train_loss 0.0010895779123529792, val_loss 0.021615562960505486\n",
            "epoch 150, train_loss 0.001152046024799347, val_loss 0.02126208320260048\n",
            "epoch 151, train_loss 0.0011371352011337876, val_loss 0.02092406339943409\n",
            "epoch 152, train_loss 0.0011153875384479761, val_loss 0.021236253902316093\n",
            "epoch 153, train_loss 0.001075939042493701, val_loss 0.021046191453933716\n",
            "epoch 154, train_loss 0.001094428589567542, val_loss 0.02098403126001358\n",
            "epoch 155, train_loss 0.001107654650695622, val_loss 0.020806893706321716\n",
            "epoch 156, train_loss 0.0010808460647240281, val_loss 0.02042890340089798\n",
            "epoch 157, train_loss 0.001157909631729126, val_loss 0.01996573433279991\n",
            "epoch 158, train_loss 0.0010832493426278234, val_loss 0.019451241940259933\n",
            "epoch 159, train_loss 0.0011407375568524003, val_loss 0.01950916461646557\n",
            "epoch 160, train_loss 0.0011128087062388659, val_loss 0.019220488145947456\n",
            "epoch 161, train_loss 0.00116819201502949, val_loss 0.018901294097304344\n",
            "epoch 162, train_loss 0.0011904400307685137, val_loss 0.0184932928532362\n",
            "epoch 163, train_loss 0.0010518920607864857, val_loss 0.01844349130988121\n",
            "epoch 164, train_loss 0.000980660319328308, val_loss 0.018325451761484146\n",
            "epoch 165, train_loss 0.001007127109915018, val_loss 0.0186630692332983\n",
            "epoch 166, train_loss 0.0010599700035527349, val_loss 0.018291497603058815\n",
            "epoch 167, train_loss 0.0010091915028169751, val_loss 0.01816944219172001\n",
            "epoch 168, train_loss 0.0009781172266229987, val_loss 0.017706576734781265\n",
            "epoch 169, train_loss 0.0011322387726977468, val_loss 0.01712214946746826\n",
            "epoch 170, train_loss 0.0010500934440642595, val_loss 0.016888489946722984\n",
            "epoch 171, train_loss 0.0010595266940072179, val_loss 0.016967883333563805\n",
            "epoch 172, train_loss 0.0011426738929003477, val_loss 0.017107386142015457\n",
            "epoch 173, train_loss 0.0010488301049917936, val_loss 0.017013108357787132\n",
            "epoch 174, train_loss 0.0010991552844643593, val_loss 0.01702246069908142\n",
            "epoch 175, train_loss 0.0011363937519490719, val_loss 0.016402453184127808\n",
            "epoch 176, train_loss 0.0009908138308674097, val_loss 0.015474669635295868\n",
            "epoch 177, train_loss 0.0009613098227418959, val_loss 0.014820726588368416\n",
            "epoch 178, train_loss 0.0010339412838220596, val_loss 0.014498627744615078\n",
            "epoch 179, train_loss 0.0010203681886196136, val_loss 0.014946694485843182\n",
            "epoch 180, train_loss 0.0010327744530513883, val_loss 0.015790512785315514\n",
            "epoch 181, train_loss 0.0011300346814095974, val_loss 0.015830138698220253\n",
            "epoch 182, train_loss 0.0010445612715557218, val_loss 0.01489347219467163\n",
            "epoch 183, train_loss 0.0010490077547729015, val_loss 0.01402081549167633\n",
            "epoch 184, train_loss 0.0010437291348353028, val_loss 0.013333813287317753\n",
            "epoch 185, train_loss 0.0010633454658091068, val_loss 0.013313189148902893\n",
            "epoch 186, train_loss 0.0010466733947396278, val_loss 0.013608948327600956\n",
            "epoch 187, train_loss 0.0010037949541583657, val_loss 0.013966244645416737\n",
            "epoch 188, train_loss 0.0010551427258178592, val_loss 0.014168177731335163\n",
            "epoch 189, train_loss 0.0010236691450700164, val_loss 0.013660235330462456\n",
            "epoch 190, train_loss 0.000953646725974977, val_loss 0.012883741408586502\n",
            "epoch 191, train_loss 0.0010927938856184483, val_loss 0.011709247715771198\n",
            "epoch 192, train_loss 0.0009831881616264582, val_loss 0.011610553599894047\n",
            "epoch 193, train_loss 0.001072959043085575, val_loss 0.012317769229412079\n",
            "epoch 194, train_loss 0.0010131740709766746, val_loss 0.012759653851389885\n",
            "epoch 195, train_loss 0.0010278283152729273, val_loss 0.012123853899538517\n",
            "epoch 196, train_loss 0.0010314435930922627, val_loss 0.010884173214435577\n",
            "epoch 197, train_loss 0.000990576925687492, val_loss 0.010648403316736221\n",
            "epoch 198, train_loss 0.0009679641225375235, val_loss 0.010733467526733875\n",
            "epoch 199, train_loss 0.0011304958024993539, val_loss 0.010654273442924023\n",
            "epoch 200, train_loss 0.0010223196586593986, val_loss 0.011152606457471848\n",
            "epoch 201, train_loss 0.000985290389508009, val_loss 0.011018699035048485\n",
            "epoch 202, train_loss 0.00095569301629439, val_loss 0.010425846092402935\n",
            "epoch 203, train_loss 0.001032668282277882, val_loss 0.010043621063232422\n",
            "epoch 204, train_loss 0.0010362700559198856, val_loss 0.009930758737027645\n",
            "epoch 205, train_loss 0.0009707568096928298, val_loss 0.010193767957389355\n",
            "epoch 206, train_loss 0.0009216003818437457, val_loss 0.010157524608075619\n",
            "epoch 207, train_loss 0.0009641781798563898, val_loss 0.009995057247579098\n",
            "epoch 208, train_loss 0.0010032567661255598, val_loss 0.009999074041843414\n",
            "epoch 209, train_loss 0.0009737387299537659, val_loss 0.0098765529692173\n",
            "epoch 210, train_loss 0.0008402034291066229, val_loss 0.00965236034244299\n",
            "epoch 211, train_loss 0.0009601060883142054, val_loss 0.009403782896697521\n",
            "epoch 212, train_loss 0.0009984945645555854, val_loss 0.009208288043737411\n",
            "epoch 213, train_loss 0.000939043762627989, val_loss 0.009356618858873844\n",
            "epoch 214, train_loss 0.0008717798627912998, val_loss 0.009812058880925179\n",
            "epoch 215, train_loss 0.0009489195072092116, val_loss 0.009704992175102234\n",
            "epoch 216, train_loss 0.0009908401407301426, val_loss 0.00926822517067194\n",
            "epoch 217, train_loss 0.0009637227049097419, val_loss 0.008761688135564327\n",
            "epoch 218, train_loss 0.0009193492005579174, val_loss 0.008814184926450253\n",
            "epoch 219, train_loss 0.0009771668119356036, val_loss 0.008757388219237328\n",
            "epoch 220, train_loss 0.0009429818601347506, val_loss 0.008273360319435596\n",
            "epoch 221, train_loss 0.0009890564251691103, val_loss 0.007911144755780697\n",
            "epoch 222, train_loss 0.0009407005272805691, val_loss 0.007998120971024036\n",
            "epoch 223, train_loss 0.0008857620414346457, val_loss 0.008354420773684978\n",
            "epoch 224, train_loss 0.000981390243396163, val_loss 0.008128092624247074\n",
            "epoch 225, train_loss 0.000925216474570334, val_loss 0.007927924394607544\n",
            "epoch 226, train_loss 0.0009670053259469569, val_loss 0.007635435089468956\n",
            "epoch 227, train_loss 0.0010028152028098702, val_loss 0.0074209789745509624\n",
            "epoch 228, train_loss 0.0008729274850338697, val_loss 0.0072160689160227776\n",
            "epoch 229, train_loss 0.0009251058218069375, val_loss 0.0070527526549994946\n",
            "epoch 230, train_loss 0.0009893262758851051, val_loss 0.007123791147023439\n",
            "epoch 231, train_loss 0.001003791461698711, val_loss 0.0076141878962516785\n",
            "epoch 232, train_loss 0.0009728222503326833, val_loss 0.007456792984157801\n",
            "epoch 233, train_loss 0.0009564020438119769, val_loss 0.0072171688079833984\n",
            "epoch 234, train_loss 0.0010032468708232045, val_loss 0.0066546001471579075\n",
            "epoch 235, train_loss 0.0008944804430939257, val_loss 0.006802685558795929\n",
            "epoch 236, train_loss 0.0009844009764492512, val_loss 0.00732910493388772\n",
            "epoch 237, train_loss 0.000940396508667618, val_loss 0.007437732070684433\n",
            "epoch 238, train_loss 0.0009637422044761479, val_loss 0.007011317647993565\n",
            "epoch 239, train_loss 0.0009947087382897735, val_loss 0.006599497515708208\n",
            "epoch 240, train_loss 0.0009434068924747407, val_loss 0.0064758313819766045\n",
            "epoch 241, train_loss 0.0008901885594241321, val_loss 0.006738670635968447\n",
            "epoch 242, train_loss 0.0009626632672734559, val_loss 0.006865176372230053\n",
            "epoch 243, train_loss 0.0009342233533971012, val_loss 0.006666040048003197\n",
            "epoch 244, train_loss 0.0008641599561087787, val_loss 0.0065069193951785564\n",
            "epoch 245, train_loss 0.0010122797684744, val_loss 0.006327339448034763\n",
            "epoch 246, train_loss 0.0008747968822717667, val_loss 0.006469034124165773\n",
            "epoch 247, train_loss 0.000909268157556653, val_loss 0.0065126740373671055\n",
            "epoch 248, train_loss 0.0009176927851513028, val_loss 0.00630373926833272\n",
            "epoch 249, train_loss 0.0009524089400656521, val_loss 0.005956960376352072\n",
            "epoch 250, train_loss 0.0009422456496395171, val_loss 0.005935666151344776\n",
            "epoch 251, train_loss 0.0009358821553178132, val_loss 0.006256670691072941\n",
            "epoch 252, train_loss 0.0008870846359059215, val_loss 0.006282739341259003\n",
            "epoch 253, train_loss 0.0009626605897210538, val_loss 0.006098722107708454\n",
            "epoch 254, train_loss 0.0009109810926020145, val_loss 0.005743797402828932\n",
            "epoch 255, train_loss 0.0009604861261323094, val_loss 0.00585130974650383\n",
            "epoch 256, train_loss 0.0009260369697585702, val_loss 0.005964755080640316\n",
            "epoch 257, train_loss 0.0009788685711100698, val_loss 0.006183601450175047\n",
            "epoch 258, train_loss 0.0008887965814210474, val_loss 0.006093916483223438\n",
            "epoch 259, train_loss 0.0009391078492626548, val_loss 0.005973502993583679\n",
            "epoch 260, train_loss 0.0008552217623218894, val_loss 0.0058086649514734745\n",
            "epoch 261, train_loss 0.0009163977229036391, val_loss 0.0056506129913032055\n",
            "epoch 262, train_loss 0.0009358887327834964, val_loss 0.0057844119146466255\n",
            "epoch 263, train_loss 0.0009370005573146045, val_loss 0.0058614942245185375\n",
            "epoch 264, train_loss 0.0008941628038883209, val_loss 0.005884350743144751\n",
            "epoch 265, train_loss 0.0009190692799165845, val_loss 0.005876315291970968\n",
            "epoch 266, train_loss 0.0009743440896272659, val_loss 0.005963591858744621\n",
            "epoch 267, train_loss 0.0008310010889545083, val_loss 0.006313142832368612\n",
            "epoch 268, train_loss 0.0009468657081015408, val_loss 0.006035576108843088\n",
            "epoch 269, train_loss 0.0009155356092378497, val_loss 0.005702415481209755\n",
            "epoch 270, train_loss 0.0009701858507469296, val_loss 0.005680661648511887\n",
            "epoch 271, train_loss 0.0009099978487938643, val_loss 0.006031953264027834\n",
            "epoch 272, train_loss 0.0009077254217118025, val_loss 0.006148611661046743\n",
            "epoch 273, train_loss 0.000916161690838635, val_loss 0.006016934756189585\n",
            "epoch 274, train_loss 0.0008588227210566401, val_loss 0.00588201591745019\n",
            "epoch 275, train_loss 0.0008877218351699412, val_loss 0.005858275108039379\n",
            "epoch 276, train_loss 0.00094124476891011, val_loss 0.005601849406957626\n",
            "epoch 277, train_loss 0.0009052916429936886, val_loss 0.005663691554218531\n",
            "epoch 278, train_loss 0.0009298414224758744, val_loss 0.00590916583314538\n",
            "epoch 279, train_loss 0.0010068629635497928, val_loss 0.005892898887395859\n",
            "epoch 280, train_loss 0.0009510000236332417, val_loss 0.005662126932293177\n",
            "epoch 281, train_loss 0.0008583223097957671, val_loss 0.005545806605368853\n",
            "epoch 282, train_loss 0.0009602680802345276, val_loss 0.005572430323809385\n",
            "epoch 283, train_loss 0.0008543505682609975, val_loss 0.005578811280429363\n",
            "epoch 284, train_loss 0.0009055244154296815, val_loss 0.0056992159225046635\n",
            "epoch 285, train_loss 0.0010129290167242289, val_loss 0.005555076524615288\n",
            "epoch 286, train_loss 0.000861391716171056, val_loss 0.005567832849919796\n",
            "epoch 287, train_loss 0.0008855704218149185, val_loss 0.005573062226176262\n",
            "epoch 288, train_loss 0.0009559199679642916, val_loss 0.005516670644283295\n",
            "epoch 289, train_loss 0.0008856750791892409, val_loss 0.0054383850656449795\n",
            "epoch 290, train_loss 0.0009371404885314405, val_loss 0.005421137902885675\n",
            "epoch 291, train_loss 0.0008729262044653296, val_loss 0.005538526456803083\n",
            "epoch 292, train_loss 0.0009456665720790625, val_loss 0.005521105136722326\n",
            "epoch 293, train_loss 0.0009347798186354339, val_loss 0.005349932238459587\n",
            "epoch 294, train_loss 0.000798093737103045, val_loss 0.005322751123458147\n",
            "epoch 295, train_loss 0.0009301308309659362, val_loss 0.005393327213823795\n",
            "epoch 296, train_loss 0.0009296551579609513, val_loss 0.005348184145987034\n",
            "epoch 297, train_loss 0.0009354052017442882, val_loss 0.005398108158260584\n",
            "epoch 298, train_loss 0.0009361961274407804, val_loss 0.005641294177621603\n",
            "epoch 299, train_loss 0.0009086716454476118, val_loss 0.005382037255913019\n"
          ],
          "name": "stdout"
        }
      ]
    },
    {
      "cell_type": "code",
      "metadata": {
        "colab": {
          "base_uri": "https://localhost:8080/"
        },
        "id": "yxYnCz12x_VR",
        "outputId": "1b97fb29-aa35-4de9-ad16-acac2edd7b8f"
      },
      "source": [
        "rnn.out.weight "
      ],
      "execution_count": null,
      "outputs": [
        {
          "output_type": "execute_result",
          "data": {
            "text/plain": [
              "Parameter containing:\n",
              "tensor([[-0.0631, -0.0360,  0.0675, -0.1025, -0.0875,  0.0531, -0.0274, -0.0595,\n",
              "          0.0048, -0.1007, -0.0958,  0.0103, -0.0291,  0.0519,  0.0353, -0.0277,\n",
              "         -0.0536,  0.0217, -0.1061,  0.1254,  0.0495,  0.0815,  0.0145, -0.0076,\n",
              "         -0.0866, -0.0677, -0.0992,  0.1286,  0.1037,  0.1230, -0.0050, -0.0751,\n",
              "         -0.0318,  0.1218, -0.0296,  0.0759,  0.1067,  0.0767, -0.0825,  0.0242,\n",
              "          0.1240,  0.0360, -0.0276, -0.0487,  0.0272,  0.1064, -0.0028,  0.0328,\n",
              "          0.0661, -0.0217, -0.1066, -0.0472, -0.1155, -0.0948,  0.1119, -0.0040,\n",
              "         -0.1034, -0.0211, -0.0105,  0.0703,  0.0681,  0.0112,  0.1128, -0.0478]],\n",
              "       device='cuda:0', requires_grad=True)"
            ]
          },
          "metadata": {
            "tags": []
          },
          "execution_count": 23
        }
      ]
    },
    {
      "cell_type": "markdown",
      "metadata": {
        "id": "rghi8eGUqEA7"
      },
      "source": [
        "#### Check LSTM model performance"
      ]
    },
    {
      "cell_type": "code",
      "metadata": {
        "colab": {
          "base_uri": "https://localhost:8080/",
          "height": 337
        },
        "id": "hQ7mIQQfqJ0-",
        "outputId": "d006d250-7fe5-43ad-fda0-e01ed92d6b07"
      },
      "source": [
        "# plot mean squared error loss\n",
        "plt.figure(figsize=(8,5))\n",
        "plt.plot(history, )"
      ],
      "execution_count": null,
      "outputs": [
        {
          "output_type": "execute_result",
          "data": {
            "text/plain": [
              "[<matplotlib.lines.Line2D at 0x7f7fa41120f0>]"
            ]
          },
          "metadata": {
            "tags": []
          },
          "execution_count": 24
        },
        {
          "output_type": "display_data",
          "data": {
            "image/png": "[encoded data removed]",
            "text/plain": [
              "<Figure size 576x360 with 1 Axes>"
            ]
          },
          "metadata": {
            "tags": [],
            "needs_background": "light"
          }
        }
      ]
    },
    {
      "cell_type": "code",
      "metadata": {
        "colab": {
          "base_uri": "https://localhost:8080/",
          "height": 405
        },
        "id": "TU8_PASfyjD_",
        "outputId": "9bec78fa-d522-43a6-bd1a-8ff602a7b937"
      },
      "source": [
        "# plot original data\n",
        "plt.figure(figsize=(10,6))\n",
        "plt.plot(sc.inverse_transform(y.reshape(-1,1)), color='k')\n",
        "\n",
        "train_pred, hidden_state = rnn(X_train_cuda, None)\n",
        "# use hidden state from previous training data\n",
        "test_pred, _ = rnn(X_test_cuda, hidden_state)\n",
        "train_pred_cpu = train_pred.cpu().detach().numpy()\n",
        "test_pred_cpu = test_pred.cpu().detach().numpy()\n",
        "\n",
        "split_loc = int(X.shape[0] * 0.80) + 7 # window_size\n",
        "plt.plot(np.arange(7, split_loc, 1), sc.inverse_transform(train_pred_cpu.reshape(-1,1)), color='b')\n",
        "plt.plot(np.arange(split_loc, split_loc + len(test_pred_cpu), 1), sc.inverse_transform(test_pred_cpu.reshape(-1,1)), color='r')\n",
        "\n",
        "# label the graph properly\n",
        "plt.xlabel('Day')\n",
        "plt.ylabel(\"Closing Price of Apple's Stock\")\n",
        "plt.legend(['original series','training fit','testing fit'], loc='center left', bbox_to_anchor=(1, 0.5))"
      ],
      "execution_count": null,
      "outputs": [
        {
          "output_type": "execute_result",
          "data": {
            "text/plain": [
              "<matplotlib.legend.Legend at 0x7f7fa40fb9b0>"
            ]
          },
          "metadata": {
            "tags": []
          },
          "execution_count": 25
        },
        {
          "output_type": "display_data",
          "data": {
            "image/png": "[encoded data removed]",
            "text/plain": [
              "<Figure size 720x432 with 1 Axes>"
            ]
          },
          "metadata": {
            "tags": [],
            "needs_background": "light"
          }
        }
      ]
    },
    {
      "cell_type": "markdown",
      "metadata": {
        "id": "ydmqTI8byjvF"
      },
      "source": [
        "### Build Time Series Models\n",
        "- Rolling Average\n",
        "- ARIMA"
      ]
    },
    {
      "cell_type": "code",
      "metadata": {
        "colab": {
          "base_uri": "https://localhost:8080/"
        },
        "id": "r53gKnXyy0GK",
        "outputId": "8105f775-21b9-4261-a341-ca835257fdf2"
      },
      "source": [
        "# use rolling average \n",
        "y_ra = X_test.mean(axis=2).flatten()\n",
        "y_ra.shape"
      ],
      "execution_count": null,
      "outputs": [
        {
          "output_type": "execute_result",
          "data": {
            "text/plain": [
              "(251,)"
            ]
          },
          "metadata": {
            "tags": []
          },
          "execution_count": 26
        }
      ]
    },
    {
      "cell_type": "code",
      "metadata": {
        "colab": {
          "base_uri": "https://localhost:8080/"
        },
        "id": "shPlR7OfyqWQ",
        "outputId": "85d3a59e-c11b-465f-a30f-133ecaf018ed"
      },
      "source": [
        "# we use ARIMA model that doesn't need training, so we directly fit it on X_test and y_test\n",
        "dftest = adfuller(y_test, autolag='AIC')\n",
        "print(dftest[1])"
      ],
      "execution_count": null,
      "outputs": [
        {
          "output_type": "stream",
          "text": [
            "0.438884393816877\n"
          ],
          "name": "stdout"
        }
      ]
    },
    {
      "cell_type": "code",
      "metadata": {
        "colab": {
          "base_uri": "https://localhost:8080/"
        },
        "id": "Th5sh5Z2y1-L",
        "outputId": "c0aae628-7dbb-4347-f817-89ea44b0fdf1"
      },
      "source": [
        "# based on the above ADF prediction score, our series is stationary, so we can proceed with time series fitting\n",
        "model = ARIMA(X_test[:,0,-1], order=(2, 2, 2))  \n",
        "results_AR = model.fit(disp=-1)  \n",
        "final_prediction = results_AR.fittedvalues + y_ra[0:-2]  "
      ],
      "execution_count": null,
      "outputs": [
        {
          "output_type": "stream",
          "text": [
            "/usr/local/lib/python3.6/dist-packages/statsmodels/base/model.py:492: HessianInversionWarning: Inverting hessian failed, no bse or cov_params available\n",
            "  'available', HessianInversionWarning)\n"
          ],
          "name": "stderr"
        }
      ]
    },
    {
      "cell_type": "markdown",
      "metadata": {
        "id": "G5agL9-5y8dw"
      },
      "source": [
        "### Compare Model Performance"
      ]
    },
    {
      "cell_type": "code",
      "metadata": {
        "colab": {
          "base_uri": "https://localhost:8080/",
          "height": 391
        },
        "id": "u_4XSn-5y_cU",
        "outputId": "01e08308-0ac9-4c35-9e1d-267c525724b1"
      },
      "source": [
        "# plot predictions from 3 models along with the ground truth\n",
        "plt.figure(figsize=(10,6))\n",
        "plt.plot(sc.inverse_transform(y_test[0:].reshape(-1,1)), color='black', label='Ground Truth')\n",
        "plt.plot(sc.inverse_transform(final_prediction.reshape(-1,1)), color='red', label='ARIMA')\n",
        "plt.plot(sc.inverse_transform(y_ra[0:-1].reshape(-1,1)), color='green', label='Rolling Avg')\n",
        "plt.plot(sc.inverse_transform(test_pred_cpu.reshape(-1,1)), color='blue', label='LSTM')\n",
        "plt.legend()"
      ],
      "execution_count": null,
      "outputs": [
        {
          "output_type": "execute_result",
          "data": {
            "text/plain": [
              "<matplotlib.legend.Legend at 0x7f7fa0dc8b70>"
            ]
          },
          "metadata": {
            "tags": []
          },
          "execution_count": 29
        },
        {
          "output_type": "display_data",
          "data": {
            "image/png": "[encoded data removed]",
            "text/plain": [
              "<Figure size 720x432 with 1 Axes>"
            ]
          },
          "metadata": {
            "tags": [],
            "needs_background": "light"
          }
        }
      ]
    },
    {
      "cell_type": "code",
      "metadata": {
        "colab": {
          "base_uri": "https://localhost:8080/"
        },
        "id": "DX26XFBS2UeH",
        "outputId": "aea19a4d-9439-49a9-80fb-96524df06c9a"
      },
      "source": [
        "# compare mean squared error for 3 models\n",
        "# rolling average\n",
        "a = (y_ra - y_test)**2\n",
        "a = a.mean()\n",
        "\n",
        "# ARIMA\n",
        "b = (final_prediction - y_test[0:-2])**2\n",
        "b = b.mean()\n",
        "\n",
        "print(\"Rolling Avg MSE loss: %f\" %(a))\n",
        "print(\"ARIMA model MSE loss: %f\" %(b))\n",
        "print(\"LSTM model MSE loss: %f\" %(test_loss.item()))"
      ],
      "execution_count": null,
      "outputs": [
        {
          "output_type": "stream",
          "text": [
            "Rolling Avg MSE loss: 0.000659\n",
            "ARIMA model MSE loss: 0.001230\n",
            "LSTM model MSE loss: 0.005382\n"
          ],
          "name": "stdout"
        }
      ]
    },
    {
      "cell_type": "code",
      "metadata": {
        "id": "qriLPsR63xYJ"
      },
      "source": [
        ""
      ],
      "execution_count": null,
      "outputs": []
    }
  ]
}