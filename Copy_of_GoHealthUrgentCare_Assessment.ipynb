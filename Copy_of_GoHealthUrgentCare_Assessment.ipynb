{
  "nbformat": 4,
  "nbformat_minor": 0,
  "metadata": {
    "colab": {
      "provenance": [],
      "include_colab_link": true
    },
    "kernelspec": {
      "name": "python3",
      "display_name": "Python 3"
    },
    "language_info": {
      "name": "python"
    }
  },
  "cells": [
    {
      "cell_type": "markdown",
      "metadata": {
        "id": "view-in-github",
        "colab_type": "text"
      },
      "source": [
        "<a href=\"https://colab.research.google.com/github/lych0508/Projects/blob/main/Copy_of_GoHealthUrgentCare_Assessment.ipynb\" target=\"_parent\"><img src=\"https://colab.research.google.com/assets/colab-badge.svg\" alt=\"Open In Colab\"/></a>"
      ]
    },
    {
      "cell_type": "markdown",
      "source": [
        "# Introduction"
      ],
      "metadata": {
        "id": "EenVYKrWXDMU"
      }
    },
    {
      "cell_type": "markdown",
      "source": [
        "## Background"
      ],
      "metadata": {
        "id": "cBTFBz0-T2Iu"
      }
    },
    {
      "cell_type": "markdown",
      "source": [
        "You are on the People Analytics Team and are asked to help us understand certification compliance. \n",
        "\n",
        "You have data from a few places: \n",
        "\n",
        "> Employee Data - contains employee demographics; \n",
        "\n",
        "\n",
        "> certificationd data - contains data on certifications; \n",
        "\n",
        "\n",
        "> certification classifications - contains data on how to group certifications and roles they are applicable to.\n"
      ],
      "metadata": {
        "id": "F4yJIZHST94m"
      }
    },
    {
      "cell_type": "markdown",
      "source": [
        "## Objective\n",
        "\n",
        "\n",
        "\n",
        "\n",
        "\n",
        "\n",
        "\n",
        "\n"
      ],
      "metadata": {
        "id": "AcPPVi-CT919"
      }
    },
    {
      "cell_type": "markdown",
      "source": [
        "1.   Understand which employees are out of compliance (i.e. have expired certifications)\n",
        "2.   Sliced into each feature on segmentation analysis"
      ],
      "metadata": {
        "id": "fyt3GYosT9zU"
      }
    },
    {
      "cell_type": "markdown",
      "source": [
        "## Importing Libraries"
      ],
      "metadata": {
        "id": "cvQ55uaoW5ez"
      }
    },
    {
      "cell_type": "markdown",
      "source": [
        "### Libraries"
      ],
      "metadata": {
        "id": "XQp-SXSvawJL"
      }
    },
    {
      "cell_type": "code",
      "source": [
        "import pandas as pd\n",
        "import seaborn as sns\n",
        "import matplotlib.pyplot as plt\n",
        "import numpy as np\n",
        "from datetime import date"
      ],
      "metadata": {
        "id": "xzEUX7fTZh8u"
      },
      "execution_count": 1,
      "outputs": []
    },
    {
      "cell_type": "markdown",
      "source": [
        "### Loading data"
      ],
      "metadata": {
        "id": "ISYPUqW3bRa1"
      }
    },
    {
      "cell_type": "code",
      "source": [
        "import io\n",
        "import pandas as pd\n",
        "from google.colab import files"
      ],
      "metadata": {
        "id": "FvjlXuNhjaS9"
      },
      "execution_count": 2,
      "outputs": []
    },
    {
      "cell_type": "code",
      "source": [
        "uploaded = files.upload()"
      ],
      "metadata": {
        "colab": {
          "base_uri": "https://localhost:8080/",
          "height": 74
        },
        "id": "pwBygUmjpH78",
        "outputId": "20f05c21-89d6-40cc-c948-915c3799ad4f"
      },
      "execution_count": 3,
      "outputs": [
        {
          "output_type": "display_data",
          "data": {
            "text/plain": [
              "<IPython.core.display.HTML object>"
            ],
            "text/html": [
              "\n",
              "     <input type=\"file\" id=\"files-c8b22f81-2d8f-453a-9870-6a6eea46a335\" name=\"files[]\" multiple disabled\n",
              "        style=\"border:none\" />\n",
              "     <output id=\"result-c8b22f81-2d8f-453a-9870-6a6eea46a335\">\n",
              "      Upload widget is only available when the cell has been executed in the\n",
              "      current browser session. Please rerun this cell to enable.\n",
              "      </output>\n",
              "      <script>// Copyright 2017 Google LLC\n",
              "//\n",
              "// Licensed under the Apache License, Version 2.0 (the \"License\");\n",
              "// you may not use this file except in compliance with the License.\n",
              "// You may obtain a copy of the License at\n",
              "//\n",
              "//      http://www.apache.org/licenses/LICENSE-2.0\n",
              "//\n",
              "// Unless required by applicable law or agreed to in writing, software\n",
              "// distributed under the License is distributed on an \"AS IS\" BASIS,\n",
              "// WITHOUT WARRANTIES OR CONDITIONS OF ANY KIND, either express or implied.\n",
              "// See the License for the specific language governing permissions and\n",
              "// limitations under the License.\n",
              "\n",
              "/**\n",
              " * @fileoverview Helpers for google.colab Python module.\n",
              " */\n",
              "(function(scope) {\n",
              "function span(text, styleAttributes = {}) {\n",
              "  const element = document.createElement('span');\n",
              "  element.textContent = text;\n",
              "  for (const key of Object.keys(styleAttributes)) {\n",
              "    element.style[key] = styleAttributes[key];\n",
              "  }\n",
              "  return element;\n",
              "}\n",
              "\n",
              "// Max number of bytes which will be uploaded at a time.\n",
              "const MAX_PAYLOAD_SIZE = 100 * 1024;\n",
              "\n",
              "function _uploadFiles(inputId, outputId) {\n",
              "  const steps = uploadFilesStep(inputId, outputId);\n",
              "  const outputElement = document.getElementById(outputId);\n",
              "  // Cache steps on the outputElement to make it available for the next call\n",
              "  // to uploadFilesContinue from Python.\n",
              "  outputElement.steps = steps;\n",
              "\n",
              "  return _uploadFilesContinue(outputId);\n",
              "}\n",
              "\n",
              "// This is roughly an async generator (not supported in the browser yet),\n",
              "// where there are multiple asynchronous steps and the Python side is going\n",
              "// to poll for completion of each step.\n",
              "// This uses a Promise to block the python side on completion of each step,\n",
              "// then passes the result of the previous step as the input to the next step.\n",
              "function _uploadFilesContinue(outputId) {\n",
              "  const outputElement = document.getElementById(outputId);\n",
              "  const steps = outputElement.steps;\n",
              "\n",
              "  const next = steps.next(outputElement.lastPromiseValue);\n",
              "  return Promise.resolve(next.value.promise).then((value) => {\n",
              "    // Cache the last promise value to make it available to the next\n",
              "    // step of the generator.\n",
              "    outputElement.lastPromiseValue = value;\n",
              "    return next.value.response;\n",
              "  });\n",
              "}\n",
              "\n",
              "/**\n",
              " * Generator function which is called between each async step of the upload\n",
              " * process.\n",
              " * @param {string} inputId Element ID of the input file picker element.\n",
              " * @param {string} outputId Element ID of the output display.\n",
              " * @return {!Iterable<!Object>} Iterable of next steps.\n",
              " */\n",
              "function* uploadFilesStep(inputId, outputId) {\n",
              "  const inputElement = document.getElementById(inputId);\n",
              "  inputElement.disabled = false;\n",
              "\n",
              "  const outputElement = document.getElementById(outputId);\n",
              "  outputElement.innerHTML = '';\n",
              "\n",
              "  const pickedPromise = new Promise((resolve) => {\n",
              "    inputElement.addEventListener('change', (e) => {\n",
              "      resolve(e.target.files);\n",
              "    });\n",
              "  });\n",
              "\n",
              "  const cancel = document.createElement('button');\n",
              "  inputElement.parentElement.appendChild(cancel);\n",
              "  cancel.textContent = 'Cancel upload';\n",
              "  const cancelPromise = new Promise((resolve) => {\n",
              "    cancel.onclick = () => {\n",
              "      resolve(null);\n",
              "    };\n",
              "  });\n",
              "\n",
              "  // Wait for the user to pick the files.\n",
              "  const files = yield {\n",
              "    promise: Promise.race([pickedPromise, cancelPromise]),\n",
              "    response: {\n",
              "      action: 'starting',\n",
              "    }\n",
              "  };\n",
              "\n",
              "  cancel.remove();\n",
              "\n",
              "  // Disable the input element since further picks are not allowed.\n",
              "  inputElement.disabled = true;\n",
              "\n",
              "  if (!files) {\n",
              "    return {\n",
              "      response: {\n",
              "        action: 'complete',\n",
              "      }\n",
              "    };\n",
              "  }\n",
              "\n",
              "  for (const file of files) {\n",
              "    const li = document.createElement('li');\n",
              "    li.append(span(file.name, {fontWeight: 'bold'}));\n",
              "    li.append(span(\n",
              "        `(${file.type || 'n/a'}) - ${file.size} bytes, ` +\n",
              "        `last modified: ${\n",
              "            file.lastModifiedDate ? file.lastModifiedDate.toLocaleDateString() :\n",
              "                                    'n/a'} - `));\n",
              "    const percent = span('0% done');\n",
              "    li.appendChild(percent);\n",
              "\n",
              "    outputElement.appendChild(li);\n",
              "\n",
              "    const fileDataPromise = new Promise((resolve) => {\n",
              "      const reader = new FileReader();\n",
              "      reader.onload = (e) => {\n",
              "        resolve(e.target.result);\n",
              "      };\n",
              "      reader.readAsArrayBuffer(file);\n",
              "    });\n",
              "    // Wait for the data to be ready.\n",
              "    let fileData = yield {\n",
              "      promise: fileDataPromise,\n",
              "      response: {\n",
              "        action: 'continue',\n",
              "      }\n",
              "    };\n",
              "\n",
              "    // Use a chunked sending to avoid message size limits. See b/62115660.\n",
              "    let position = 0;\n",
              "    do {\n",
              "      const length = Math.min(fileData.byteLength - position, MAX_PAYLOAD_SIZE);\n",
              "      const chunk = new Uint8Array(fileData, position, length);\n",
              "      position += length;\n",
              "\n",
              "      const base64 = btoa(String.fromCharCode.apply(null, chunk));\n",
              "      yield {\n",
              "        response: {\n",
              "          action: 'append',\n",
              "          file: file.name,\n",
              "          data: base64,\n",
              "        },\n",
              "      };\n",
              "\n",
              "      let percentDone = fileData.byteLength === 0 ?\n",
              "          100 :\n",
              "          Math.round((position / fileData.byteLength) * 100);\n",
              "      percent.textContent = `${percentDone}% done`;\n",
              "\n",
              "    } while (position < fileData.byteLength);\n",
              "  }\n",
              "\n",
              "  // All done.\n",
              "  yield {\n",
              "    response: {\n",
              "      action: 'complete',\n",
              "    }\n",
              "  };\n",
              "}\n",
              "\n",
              "scope.google = scope.google || {};\n",
              "scope.google.colab = scope.google.colab || {};\n",
              "scope.google.colab._files = {\n",
              "  _uploadFiles,\n",
              "  _uploadFilesContinue,\n",
              "};\n",
              "})(self);\n",
              "</script> "
            ]
          },
          "metadata": {}
        },
        {
          "output_type": "stream",
          "name": "stdout",
          "text": [
            "Saving People_Analytics.xlsx to People_Analytics.xlsx\n"
          ]
        }
      ]
    },
    {
      "cell_type": "code",
      "source": [
        "xlsx_file = io.BytesIO(uploaded.get('People_Analytics.xlsx'))"
      ],
      "metadata": {
        "id": "ND5I3arBpN45"
      },
      "execution_count": 4,
      "outputs": []
    },
    {
      "cell_type": "code",
      "source": [
        "df = pd.read_excel(xlsx_file, 'Sheet1')"
      ],
      "metadata": {
        "id": "gnth48lPpbVW"
      },
      "execution_count": 5,
      "outputs": []
    },
    {
      "cell_type": "code",
      "source": [
        "df.head()"
      ],
      "metadata": {
        "colab": {
          "base_uri": "https://localhost:8080/",
          "height": 478
        },
        "id": "xrKm3piypmEb",
        "outputId": "851f0473-862d-4157-fe9d-549fcb206ba2"
      },
      "execution_count": 6,
      "outputs": [
        {
          "output_type": "execute_result",
          "data": {
            "text/plain": [
              "   Employee Number              Certification Certification Date Issued  \\\n",
              "0           100040         Basic Life Support                2022-08-16   \n",
              "1           100040  Cert Prov Order Entry Pro                2022-08-12   \n",
              "2           100071    Natl Certified Med Asst                2022-03-17   \n",
              "3           100080         Basic Life Support                2021-12-29   \n",
              "4           100080    Natl Certified Med Asst                2022-06-29   \n",
              "\n",
              "        Effective End Certification Status Hire Date Rehire Date  \\\n",
              "0 2023-02-16 23:59:00               Active       NaT         NaN   \n",
              "1 2023-08-12 23:59:00               Active       NaT         NaN   \n",
              "2 2023-03-17 23:59:00               Active       NaT         NaN   \n",
              "3 2023-12-29 23:59:00               Active       NaT         NaN   \n",
              "4 2023-07-14 23:59:00               Active       NaT         NaN   \n",
              "\n",
              "  Employee Start Date Pay Class Job Name Job Family Name Market  \\\n",
              "0                 NaT       NaN      NaN             NaN    NaN   \n",
              "1                 NaT       NaN      NaN             NaN    NaN   \n",
              "2                 NaT       NaN      NaN             NaN    NaN   \n",
              "3                 NaT       NaN      NaN             NaN    NaN   \n",
              "4                 NaT       NaN      NaN             NaN    NaN   \n",
              "\n",
              "  Source of hire Current Employee Rehired Employee Cert Status  \\\n",
              "0            NaN               No     NaN               Active   \n",
              "1            NaN               No     NaN               Active   \n",
              "2            NaN               No     NaN               Active   \n",
              "3            NaN               No     NaN               Active   \n",
              "4            NaN               No     NaN               Active   \n",
              "\n",
              "  Certification type Medical Assistant Requirement Rad Tech Requirement  \\\n",
              "0          First Aid                             Y                    Y   \n",
              "1     Medical Scribe                             N                    N   \n",
              "2  Medical Assistant                             Y                    N   \n",
              "3          First Aid                             Y                    Y   \n",
              "4  Medical Assistant                             Y                    N   \n",
              "\n",
              "  Medical Scribe Requirement  \n",
              "0                          Y  \n",
              "1                          Y  \n",
              "2                          N  \n",
              "3                          Y  \n",
              "4                          N  "
            ],
            "text/html": [
              "\n",
              "  <div id=\"df-b8669142-a0b0-49dc-9ac5-f7b8c7889d20\">\n",
              "    <div class=\"colab-df-container\">\n",
              "      <div>\n",
              "<style scoped>\n",
              "    .dataframe tbody tr th:only-of-type {\n",
              "        vertical-align: middle;\n",
              "    }\n",
              "\n",
              "    .dataframe tbody tr th {\n",
              "        vertical-align: top;\n",
              "    }\n",
              "\n",
              "    .dataframe thead th {\n",
              "        text-align: right;\n",
              "    }\n",
              "</style>\n",
              "<table border=\"1\" class=\"dataframe\">\n",
              "  <thead>\n",
              "    <tr style=\"text-align: right;\">\n",
              "      <th></th>\n",
              "      <th>Employee Number</th>\n",
              "      <th>Certification</th>\n",
              "      <th>Certification Date Issued</th>\n",
              "      <th>Effective End</th>\n",
              "      <th>Certification Status</th>\n",
              "      <th>Hire Date</th>\n",
              "      <th>Rehire Date</th>\n",
              "      <th>Employee Start Date</th>\n",
              "      <th>Pay Class</th>\n",
              "      <th>Job Name</th>\n",
              "      <th>Job Family Name</th>\n",
              "      <th>Market</th>\n",
              "      <th>Source of hire</th>\n",
              "      <th>Current Employee</th>\n",
              "      <th>Rehired</th>\n",
              "      <th>Employee Cert Status</th>\n",
              "      <th>Certification type</th>\n",
              "      <th>Medical Assistant Requirement</th>\n",
              "      <th>Rad Tech Requirement</th>\n",
              "      <th>Medical Scribe Requirement</th>\n",
              "    </tr>\n",
              "  </thead>\n",
              "  <tbody>\n",
              "    <tr>\n",
              "      <th>0</th>\n",
              "      <td>100040</td>\n",
              "      <td>Basic Life Support</td>\n",
              "      <td>2022-08-16</td>\n",
              "      <td>2023-02-16 23:59:00</td>\n",
              "      <td>Active</td>\n",
              "      <td>NaT</td>\n",
              "      <td>NaN</td>\n",
              "      <td>NaT</td>\n",
              "      <td>NaN</td>\n",
              "      <td>NaN</td>\n",
              "      <td>NaN</td>\n",
              "      <td>NaN</td>\n",
              "      <td>NaN</td>\n",
              "      <td>No</td>\n",
              "      <td>NaN</td>\n",
              "      <td>Active</td>\n",
              "      <td>First Aid</td>\n",
              "      <td>Y</td>\n",
              "      <td>Y</td>\n",
              "      <td>Y</td>\n",
              "    </tr>\n",
              "    <tr>\n",
              "      <th>1</th>\n",
              "      <td>100040</td>\n",
              "      <td>Cert Prov Order Entry Pro</td>\n",
              "      <td>2022-08-12</td>\n",
              "      <td>2023-08-12 23:59:00</td>\n",
              "      <td>Active</td>\n",
              "      <td>NaT</td>\n",
              "      <td>NaN</td>\n",
              "      <td>NaT</td>\n",
              "      <td>NaN</td>\n",
              "      <td>NaN</td>\n",
              "      <td>NaN</td>\n",
              "      <td>NaN</td>\n",
              "      <td>NaN</td>\n",
              "      <td>No</td>\n",
              "      <td>NaN</td>\n",
              "      <td>Active</td>\n",
              "      <td>Medical Scribe</td>\n",
              "      <td>N</td>\n",
              "      <td>N</td>\n",
              "      <td>Y</td>\n",
              "    </tr>\n",
              "    <tr>\n",
              "      <th>2</th>\n",
              "      <td>100071</td>\n",
              "      <td>Natl Certified Med Asst</td>\n",
              "      <td>2022-03-17</td>\n",
              "      <td>2023-03-17 23:59:00</td>\n",
              "      <td>Active</td>\n",
              "      <td>NaT</td>\n",
              "      <td>NaN</td>\n",
              "      <td>NaT</td>\n",
              "      <td>NaN</td>\n",
              "      <td>NaN</td>\n",
              "      <td>NaN</td>\n",
              "      <td>NaN</td>\n",
              "      <td>NaN</td>\n",
              "      <td>No</td>\n",
              "      <td>NaN</td>\n",
              "      <td>Active</td>\n",
              "      <td>Medical Assistant</td>\n",
              "      <td>Y</td>\n",
              "      <td>N</td>\n",
              "      <td>N</td>\n",
              "    </tr>\n",
              "    <tr>\n",
              "      <th>3</th>\n",
              "      <td>100080</td>\n",
              "      <td>Basic Life Support</td>\n",
              "      <td>2021-12-29</td>\n",
              "      <td>2023-12-29 23:59:00</td>\n",
              "      <td>Active</td>\n",
              "      <td>NaT</td>\n",
              "      <td>NaN</td>\n",
              "      <td>NaT</td>\n",
              "      <td>NaN</td>\n",
              "      <td>NaN</td>\n",
              "      <td>NaN</td>\n",
              "      <td>NaN</td>\n",
              "      <td>NaN</td>\n",
              "      <td>No</td>\n",
              "      <td>NaN</td>\n",
              "      <td>Active</td>\n",
              "      <td>First Aid</td>\n",
              "      <td>Y</td>\n",
              "      <td>Y</td>\n",
              "      <td>Y</td>\n",
              "    </tr>\n",
              "    <tr>\n",
              "      <th>4</th>\n",
              "      <td>100080</td>\n",
              "      <td>Natl Certified Med Asst</td>\n",
              "      <td>2022-06-29</td>\n",
              "      <td>2023-07-14 23:59:00</td>\n",
              "      <td>Active</td>\n",
              "      <td>NaT</td>\n",
              "      <td>NaN</td>\n",
              "      <td>NaT</td>\n",
              "      <td>NaN</td>\n",
              "      <td>NaN</td>\n",
              "      <td>NaN</td>\n",
              "      <td>NaN</td>\n",
              "      <td>NaN</td>\n",
              "      <td>No</td>\n",
              "      <td>NaN</td>\n",
              "      <td>Active</td>\n",
              "      <td>Medical Assistant</td>\n",
              "      <td>Y</td>\n",
              "      <td>N</td>\n",
              "      <td>N</td>\n",
              "    </tr>\n",
              "  </tbody>\n",
              "</table>\n",
              "</div>\n",
              "      <button class=\"colab-df-convert\" onclick=\"convertToInteractive('df-b8669142-a0b0-49dc-9ac5-f7b8c7889d20')\"\n",
              "              title=\"Convert this dataframe to an interactive table.\"\n",
              "              style=\"display:none;\">\n",
              "        \n",
              "  <svg xmlns=\"http://www.w3.org/2000/svg\" height=\"24px\"viewBox=\"0 0 24 24\"\n",
              "       width=\"24px\">\n",
              "    <path d=\"M0 0h24v24H0V0z\" fill=\"none\"/>\n",
              "    <path d=\"M18.56 5.44l.94 2.06.94-2.06 2.06-.94-2.06-.94-.94-2.06-.94 2.06-2.06.94zm-11 1L8.5 8.5l.94-2.06 2.06-.94-2.06-.94L8.5 2.5l-.94 2.06-2.06.94zm10 10l.94 2.06.94-2.06 2.06-.94-2.06-.94-.94-2.06-.94 2.06-2.06.94z\"/><path d=\"M17.41 7.96l-1.37-1.37c-.4-.4-.92-.59-1.43-.59-.52 0-1.04.2-1.43.59L10.3 9.45l-7.72 7.72c-.78.78-.78 2.05 0 2.83L4 21.41c.39.39.9.59 1.41.59.51 0 1.02-.2 1.41-.59l7.78-7.78 2.81-2.81c.8-.78.8-2.07 0-2.86zM5.41 20L4 18.59l7.72-7.72 1.47 1.35L5.41 20z\"/>\n",
              "  </svg>\n",
              "      </button>\n",
              "      \n",
              "  <style>\n",
              "    .colab-df-container {\n",
              "      display:flex;\n",
              "      flex-wrap:wrap;\n",
              "      gap: 12px;\n",
              "    }\n",
              "\n",
              "    .colab-df-convert {\n",
              "      background-color: #E8F0FE;\n",
              "      border: none;\n",
              "      border-radius: 50%;\n",
              "      cursor: pointer;\n",
              "      display: none;\n",
              "      fill: #1967D2;\n",
              "      height: 32px;\n",
              "      padding: 0 0 0 0;\n",
              "      width: 32px;\n",
              "    }\n",
              "\n",
              "    .colab-df-convert:hover {\n",
              "      background-color: #E2EBFA;\n",
              "      box-shadow: 0px 1px 2px rgba(60, 64, 67, 0.3), 0px 1px 3px 1px rgba(60, 64, 67, 0.15);\n",
              "      fill: #174EA6;\n",
              "    }\n",
              "\n",
              "    [theme=dark] .colab-df-convert {\n",
              "      background-color: #3B4455;\n",
              "      fill: #D2E3FC;\n",
              "    }\n",
              "\n",
              "    [theme=dark] .colab-df-convert:hover {\n",
              "      background-color: #434B5C;\n",
              "      box-shadow: 0px 1px 3px 1px rgba(0, 0, 0, 0.15);\n",
              "      filter: drop-shadow(0px 1px 2px rgba(0, 0, 0, 0.3));\n",
              "      fill: #FFFFFF;\n",
              "    }\n",
              "  </style>\n",
              "\n",
              "      <script>\n",
              "        const buttonEl =\n",
              "          document.querySelector('#df-b8669142-a0b0-49dc-9ac5-f7b8c7889d20 button.colab-df-convert');\n",
              "        buttonEl.style.display =\n",
              "          google.colab.kernel.accessAllowed ? 'block' : 'none';\n",
              "\n",
              "        async function convertToInteractive(key) {\n",
              "          const element = document.querySelector('#df-b8669142-a0b0-49dc-9ac5-f7b8c7889d20');\n",
              "          const dataTable =\n",
              "            await google.colab.kernel.invokeFunction('convertToInteractive',\n",
              "                                                     [key], {});\n",
              "          if (!dataTable) return;\n",
              "\n",
              "          const docLinkHtml = 'Like what you see? Visit the ' +\n",
              "            '<a target=\"_blank\" href=https://colab.research.google.com/notebooks/data_table.ipynb>data table notebook</a>'\n",
              "            + ' to learn more about interactive tables.';\n",
              "          element.innerHTML = '';\n",
              "          dataTable['output_type'] = 'display_data';\n",
              "          await google.colab.output.renderOutput(dataTable, element);\n",
              "          const docLink = document.createElement('div');\n",
              "          docLink.innerHTML = docLinkHtml;\n",
              "          element.appendChild(docLink);\n",
              "        }\n",
              "      </script>\n",
              "    </div>\n",
              "  </div>\n",
              "  "
            ]
          },
          "metadata": {},
          "execution_count": 6
        }
      ]
    },
    {
      "cell_type": "markdown",
      "source": [
        "#Exploratory data analysis"
      ],
      "metadata": {
        "id": "qMA4txIBvckL"
      }
    },
    {
      "cell_type": "markdown",
      "source": [
        "First, I check if the dataset has any the missing values and data type for furture analysis"
      ],
      "metadata": {
        "id": "Zc19U_9t1a5r"
      }
    },
    {
      "cell_type": "code",
      "source": [
        "df.info()\n"
      ],
      "metadata": {
        "colab": {
          "base_uri": "https://localhost:8080/"
        },
        "id": "SJ4cMzu-qNcq",
        "outputId": "2caa5941-5fcd-4875-acfa-d49e6a3fe610"
      },
      "execution_count": 7,
      "outputs": [
        {
          "output_type": "stream",
          "name": "stdout",
          "text": [
            "<class 'pandas.core.frame.DataFrame'>\n",
            "RangeIndex: 2690 entries, 0 to 2689\n",
            "Data columns (total 20 columns):\n",
            " #   Column                         Non-Null Count  Dtype         \n",
            "---  ------                         --------------  -----         \n",
            " 0   Employee Number                2690 non-null   int64         \n",
            " 1   Certification                  2502 non-null   object        \n",
            " 2   Certification Date Issued      2502 non-null   datetime64[ns]\n",
            " 3   Effective End                  2502 non-null   datetime64[ns]\n",
            " 4   Certification Status           2690 non-null   object        \n",
            " 5   Hire Date                      1219 non-null   datetime64[ns]\n",
            " 6   Rehire Date                    1219 non-null   object        \n",
            " 7   Employee Start Date            1219 non-null   datetime64[ns]\n",
            " 8   Pay Class                      1219 non-null   object        \n",
            " 9   Job Name                       1219 non-null   object        \n",
            " 10  Job Family Name                1219 non-null   object        \n",
            " 11  Market                         1219 non-null   object        \n",
            " 12  Source of hire                 1219 non-null   object        \n",
            " 13  Current Employee               2690 non-null   object        \n",
            " 14  Rehired                        1219 non-null   object        \n",
            " 15  Employee Cert Status           2690 non-null   object        \n",
            " 16  Certification type             2502 non-null   object        \n",
            " 17  Medical Assistant Requirement  2502 non-null   object        \n",
            " 18  Rad Tech Requirement           2502 non-null   object        \n",
            " 19  Medical Scribe Requirement     2502 non-null   object        \n",
            "dtypes: datetime64[ns](4), int64(1), object(15)\n",
            "memory usage: 420.4+ KB\n"
          ]
        }
      ]
    },
    {
      "cell_type": "code",
      "source": [
        "#employee number should be string\n",
        "#rehire date should be date \n",
        "df['Employee Number'] = df['Employee Number'].astype(str)\n",
        "df['Rehire Date']= pd.to_datetime(df['Rehire Date'], errors='coerce')\n"
      ],
      "metadata": {
        "id": "6WoYAwZb8o1h"
      },
      "execution_count": 8,
      "outputs": []
    },
    {
      "cell_type": "markdown",
      "source": [
        "After join these three dataset, I found there are missing values in hiring date. I believe these employess are not working at the company at more. So I will filter them out"
      ],
      "metadata": {
        "id": "QFtH4jdyueNc"
      }
    },
    {
      "cell_type": "code",
      "source": [
        "\n",
        "df = df.loc[df['Hire Date'].notnull()]\n",
        "df.info()"
      ],
      "metadata": {
        "colab": {
          "base_uri": "https://localhost:8080/"
        },
        "id": "4OdRcJZJuLXk",
        "outputId": "7ebf8fe1-3f9c-4297-913f-90f3e12d9963"
      },
      "execution_count": 9,
      "outputs": [
        {
          "output_type": "stream",
          "name": "stdout",
          "text": [
            "<class 'pandas.core.frame.DataFrame'>\n",
            "Int64Index: 1219 entries, 1471 to 2689\n",
            "Data columns (total 20 columns):\n",
            " #   Column                         Non-Null Count  Dtype         \n",
            "---  ------                         --------------  -----         \n",
            " 0   Employee Number                1219 non-null   object        \n",
            " 1   Certification                  1031 non-null   object        \n",
            " 2   Certification Date Issued      1031 non-null   datetime64[ns]\n",
            " 3   Effective End                  1031 non-null   datetime64[ns]\n",
            " 4   Certification Status           1219 non-null   object        \n",
            " 5   Hire Date                      1219 non-null   datetime64[ns]\n",
            " 6   Rehire Date                    1218 non-null   datetime64[ns]\n",
            " 7   Employee Start Date            1219 non-null   datetime64[ns]\n",
            " 8   Pay Class                      1219 non-null   object        \n",
            " 9   Job Name                       1219 non-null   object        \n",
            " 10  Job Family Name                1219 non-null   object        \n",
            " 11  Market                         1219 non-null   object        \n",
            " 12  Source of hire                 1219 non-null   object        \n",
            " 13  Current Employee               1219 non-null   object        \n",
            " 14  Rehired                        1219 non-null   object        \n",
            " 15  Employee Cert Status           1219 non-null   object        \n",
            " 16  Certification type             1031 non-null   object        \n",
            " 17  Medical Assistant Requirement  1031 non-null   object        \n",
            " 18  Rad Tech Requirement           1031 non-null   object        \n",
            " 19  Medical Scribe Requirement     1031 non-null   object        \n",
            "dtypes: datetime64[ns](5), object(15)\n",
            "memory usage: 200.0+ KB\n"
          ]
        }
      ]
    },
    {
      "cell_type": "markdown",
      "source": [
        "I assume there are some employees who don't have certifications, therefore there are some missing values in certification column. "
      ],
      "metadata": {
        "id": "nOfn_gzE8Fuk"
      }
    },
    {
      "cell_type": "code",
      "source": [
        "# filter employee with certification\n",
        "df1 = df.loc[df['Certification'].notnull()]\n",
        "df1.isnull().sum()"
      ],
      "metadata": {
        "colab": {
          "base_uri": "https://localhost:8080/"
        },
        "id": "mw-NY4_37duI",
        "outputId": "719ecbc9-2e08-4915-b15b-e3bbd27d8ade"
      },
      "execution_count": 10,
      "outputs": [
        {
          "output_type": "execute_result",
          "data": {
            "text/plain": [
              "Employee Number                  0\n",
              "Certification                    0\n",
              "Certification Date Issued        0\n",
              "Effective End                    0\n",
              "Certification Status             0\n",
              "Hire Date                        0\n",
              "Rehire Date                      1\n",
              "Employee Start Date              0\n",
              "Pay Class                        0\n",
              "Job Name                         0\n",
              "Job Family Name                  0\n",
              "Market                           0\n",
              "Source of hire                   0\n",
              "Current Employee                 0\n",
              "Rehired                          0\n",
              "Employee Cert Status             0\n",
              "Certification type               0\n",
              "Medical Assistant Requirement    0\n",
              "Rad Tech Requirement             0\n",
              "Medical Scribe Requirement       0\n",
              "dtype: int64"
            ]
          },
          "metadata": {},
          "execution_count": 10
        }
      ]
    },
    {
      "cell_type": "code",
      "source": [
        "\n",
        "df_nan = df1[df1['Rehire Date'].isnull()]\n",
        "df_nan "
      ],
      "metadata": {
        "colab": {
          "base_uri": "https://localhost:8080/",
          "height": 214
        },
        "id": "tWKcs_nY7dh_",
        "outputId": "eea41058-b1c6-479d-de5f-e26db7f4388a"
      },
      "execution_count": 11,
      "outputs": [
        {
          "output_type": "execute_result",
          "data": {
            "text/plain": [
              "     Employee Number Certification Certification Date Issued  \\\n",
              "2454          227496        No BLS                2022-07-05   \n",
              "\n",
              "           Effective End Certification Status  Hire Date Rehire Date  \\\n",
              "2454 2023-01-05 23:59:00               Active 2022-07-05         NaT   \n",
              "\n",
              "     Employee Start Date  Pay Class           Job Name    Job Family Name  \\\n",
              "2454          2022-07-05  Temporary  Medical Assistant  Medical Assistant   \n",
              "\n",
              "        Market Source of hire Current Employee  Rehired Employee Cert Status  \\\n",
              "2454  Market C         Indeed              Yes  Rehired               Active   \n",
              "\n",
              "     Certification type Medical Assistant Requirement Rad Tech Requirement  \\\n",
              "2454          First Aid                             Y                    Y   \n",
              "\n",
              "     Medical Scribe Requirement  \n",
              "2454                          Y  "
            ],
            "text/html": [
              "\n",
              "  <div id=\"df-c3c53505-7591-4341-b2b7-0bfdf82eabe4\">\n",
              "    <div class=\"colab-df-container\">\n",
              "      <div>\n",
              "<style scoped>\n",
              "    .dataframe tbody tr th:only-of-type {\n",
              "        vertical-align: middle;\n",
              "    }\n",
              "\n",
              "    .dataframe tbody tr th {\n",
              "        vertical-align: top;\n",
              "    }\n",
              "\n",
              "    .dataframe thead th {\n",
              "        text-align: right;\n",
              "    }\n",
              "</style>\n",
              "<table border=\"1\" class=\"dataframe\">\n",
              "  <thead>\n",
              "    <tr style=\"text-align: right;\">\n",
              "      <th></th>\n",
              "      <th>Employee Number</th>\n",
              "      <th>Certification</th>\n",
              "      <th>Certification Date Issued</th>\n",
              "      <th>Effective End</th>\n",
              "      <th>Certification Status</th>\n",
              "      <th>Hire Date</th>\n",
              "      <th>Rehire Date</th>\n",
              "      <th>Employee Start Date</th>\n",
              "      <th>Pay Class</th>\n",
              "      <th>Job Name</th>\n",
              "      <th>Job Family Name</th>\n",
              "      <th>Market</th>\n",
              "      <th>Source of hire</th>\n",
              "      <th>Current Employee</th>\n",
              "      <th>Rehired</th>\n",
              "      <th>Employee Cert Status</th>\n",
              "      <th>Certification type</th>\n",
              "      <th>Medical Assistant Requirement</th>\n",
              "      <th>Rad Tech Requirement</th>\n",
              "      <th>Medical Scribe Requirement</th>\n",
              "    </tr>\n",
              "  </thead>\n",
              "  <tbody>\n",
              "    <tr>\n",
              "      <th>2454</th>\n",
              "      <td>227496</td>\n",
              "      <td>No BLS</td>\n",
              "      <td>2022-07-05</td>\n",
              "      <td>2023-01-05 23:59:00</td>\n",
              "      <td>Active</td>\n",
              "      <td>2022-07-05</td>\n",
              "      <td>NaT</td>\n",
              "      <td>2022-07-05</td>\n",
              "      <td>Temporary</td>\n",
              "      <td>Medical Assistant</td>\n",
              "      <td>Medical Assistant</td>\n",
              "      <td>Market C</td>\n",
              "      <td>Indeed</td>\n",
              "      <td>Yes</td>\n",
              "      <td>Rehired</td>\n",
              "      <td>Active</td>\n",
              "      <td>First Aid</td>\n",
              "      <td>Y</td>\n",
              "      <td>Y</td>\n",
              "      <td>Y</td>\n",
              "    </tr>\n",
              "  </tbody>\n",
              "</table>\n",
              "</div>\n",
              "      <button class=\"colab-df-convert\" onclick=\"convertToInteractive('df-c3c53505-7591-4341-b2b7-0bfdf82eabe4')\"\n",
              "              title=\"Convert this dataframe to an interactive table.\"\n",
              "              style=\"display:none;\">\n",
              "        \n",
              "  <svg xmlns=\"http://www.w3.org/2000/svg\" height=\"24px\"viewBox=\"0 0 24 24\"\n",
              "       width=\"24px\">\n",
              "    <path d=\"M0 0h24v24H0V0z\" fill=\"none\"/>\n",
              "    <path d=\"M18.56 5.44l.94 2.06.94-2.06 2.06-.94-2.06-.94-.94-2.06-.94 2.06-2.06.94zm-11 1L8.5 8.5l.94-2.06 2.06-.94-2.06-.94L8.5 2.5l-.94 2.06-2.06.94zm10 10l.94 2.06.94-2.06 2.06-.94-2.06-.94-.94-2.06-.94 2.06-2.06.94z\"/><path d=\"M17.41 7.96l-1.37-1.37c-.4-.4-.92-.59-1.43-.59-.52 0-1.04.2-1.43.59L10.3 9.45l-7.72 7.72c-.78.78-.78 2.05 0 2.83L4 21.41c.39.39.9.59 1.41.59.51 0 1.02-.2 1.41-.59l7.78-7.78 2.81-2.81c.8-.78.8-2.07 0-2.86zM5.41 20L4 18.59l7.72-7.72 1.47 1.35L5.41 20z\"/>\n",
              "  </svg>\n",
              "      </button>\n",
              "      \n",
              "  <style>\n",
              "    .colab-df-container {\n",
              "      display:flex;\n",
              "      flex-wrap:wrap;\n",
              "      gap: 12px;\n",
              "    }\n",
              "\n",
              "    .colab-df-convert {\n",
              "      background-color: #E8F0FE;\n",
              "      border: none;\n",
              "      border-radius: 50%;\n",
              "      cursor: pointer;\n",
              "      display: none;\n",
              "      fill: #1967D2;\n",
              "      height: 32px;\n",
              "      padding: 0 0 0 0;\n",
              "      width: 32px;\n",
              "    }\n",
              "\n",
              "    .colab-df-convert:hover {\n",
              "      background-color: #E2EBFA;\n",
              "      box-shadow: 0px 1px 2px rgba(60, 64, 67, 0.3), 0px 1px 3px 1px rgba(60, 64, 67, 0.15);\n",
              "      fill: #174EA6;\n",
              "    }\n",
              "\n",
              "    [theme=dark] .colab-df-convert {\n",
              "      background-color: #3B4455;\n",
              "      fill: #D2E3FC;\n",
              "    }\n",
              "\n",
              "    [theme=dark] .colab-df-convert:hover {\n",
              "      background-color: #434B5C;\n",
              "      box-shadow: 0px 1px 3px 1px rgba(0, 0, 0, 0.15);\n",
              "      filter: drop-shadow(0px 1px 2px rgba(0, 0, 0, 0.3));\n",
              "      fill: #FFFFFF;\n",
              "    }\n",
              "  </style>\n",
              "\n",
              "      <script>\n",
              "        const buttonEl =\n",
              "          document.querySelector('#df-c3c53505-7591-4341-b2b7-0bfdf82eabe4 button.colab-df-convert');\n",
              "        buttonEl.style.display =\n",
              "          google.colab.kernel.accessAllowed ? 'block' : 'none';\n",
              "\n",
              "        async function convertToInteractive(key) {\n",
              "          const element = document.querySelector('#df-c3c53505-7591-4341-b2b7-0bfdf82eabe4');\n",
              "          const dataTable =\n",
              "            await google.colab.kernel.invokeFunction('convertToInteractive',\n",
              "                                                     [key], {});\n",
              "          if (!dataTable) return;\n",
              "\n",
              "          const docLinkHtml = 'Like what you see? Visit the ' +\n",
              "            '<a target=\"_blank\" href=https://colab.research.google.com/notebooks/data_table.ipynb>data table notebook</a>'\n",
              "            + ' to learn more about interactive tables.';\n",
              "          element.innerHTML = '';\n",
              "          dataTable['output_type'] = 'display_data';\n",
              "          await google.colab.output.renderOutput(dataTable, element);\n",
              "          const docLink = document.createElement('div');\n",
              "          docLink.innerHTML = docLinkHtml;\n",
              "          element.appendChild(docLink);\n",
              "        }\n",
              "      </script>\n",
              "    </div>\n",
              "  </div>\n",
              "  "
            ]
          },
          "metadata": {},
          "execution_count": 11
        }
      ]
    },
    {
      "cell_type": "code",
      "source": [
        "from pandas._libs import NaT\n",
        "# I go back to chekc the dataset, the rehire date = hire date\n",
        "df1['Rehire Date'] = df1['Rehire Date'].replace(NaT, '2022-07-05')\n",
        "df1.isnull().sum()"
      ],
      "metadata": {
        "colab": {
          "base_uri": "https://localhost:8080/"
        },
        "id": "KgjYaj-C_mRs",
        "outputId": "48beb3d6-2b54-4eec-c885-407daa0a97af"
      },
      "execution_count": 12,
      "outputs": [
        {
          "output_type": "stream",
          "name": "stderr",
          "text": [
            "/usr/local/lib/python3.7/dist-packages/ipykernel_launcher.py:3: SettingWithCopyWarning: \n",
            "A value is trying to be set on a copy of a slice from a DataFrame.\n",
            "Try using .loc[row_indexer,col_indexer] = value instead\n",
            "\n",
            "See the caveats in the documentation: https://pandas.pydata.org/pandas-docs/stable/user_guide/indexing.html#returning-a-view-versus-a-copy\n",
            "  This is separate from the ipykernel package so we can avoid doing imports until\n"
          ]
        },
        {
          "output_type": "execute_result",
          "data": {
            "text/plain": [
              "Employee Number                  0\n",
              "Certification                    0\n",
              "Certification Date Issued        0\n",
              "Effective End                    0\n",
              "Certification Status             0\n",
              "Hire Date                        0\n",
              "Rehire Date                      0\n",
              "Employee Start Date              0\n",
              "Pay Class                        0\n",
              "Job Name                         0\n",
              "Job Family Name                  0\n",
              "Market                           0\n",
              "Source of hire                   0\n",
              "Current Employee                 0\n",
              "Rehired                          0\n",
              "Employee Cert Status             0\n",
              "Certification type               0\n",
              "Medical Assistant Requirement    0\n",
              "Rad Tech Requirement             0\n",
              "Medical Scribe Requirement       0\n",
              "dtype: int64"
            ]
          },
          "metadata": {},
          "execution_count": 12
        }
      ]
    },
    {
      "cell_type": "code",
      "source": [
        "#number of expired cert\n",
        "expired_df = df1.loc[df1['Certification Status'] == 'Expired']\n",
        "expired_df"
      ],
      "metadata": {
        "colab": {
          "base_uri": "https://localhost:8080/",
          "height": 869
        },
        "id": "5mQxzWTO2jAS",
        "outputId": "c8818379-069f-4249-add3-2f1ded6101b7"
      },
      "execution_count": 13,
      "outputs": [
        {
          "output_type": "execute_result",
          "data": {
            "text/plain": [
              "     Employee Number            Certification Certification Date Issued  \\\n",
              "1474          105125       Basic Life Support                2020-10-22   \n",
              "1480          106012      CA Rad Tech License                2020-01-20   \n",
              "1519          106160            R.T.(R)(ARRT)                2021-10-12   \n",
              "1525          106171            R.T.(R)(ARRT)                2021-11-10   \n",
              "1542          109013            R.T.(R)(ARRT)                2021-10-05   \n",
              "...              ...                      ...                       ...   \n",
              "2360          227092                   No BLS                2022-05-14   \n",
              "2361          227099                   No BLS                2022-05-09   \n",
              "2362          227099          Non-Certifed MA                2022-05-09   \n",
              "2363          227109                   No BLS                2022-05-09   \n",
              "2573          227782  Natl Certified Med Asst                2003-10-22   \n",
              "\n",
              "           Effective End Certification Status  Hire Date Rehire Date  \\\n",
              "1474 2022-10-22 23:59:00              Expired 2017-01-09  2017-01-09   \n",
              "1480 2022-10-31 23:59:00              Expired 2017-01-04  2017-01-04   \n",
              "1519 2022-10-30 23:59:00              Expired 2019-06-24  2019-06-24   \n",
              "1525 2022-10-31 23:59:00              Expired 2019-09-16  2019-09-16   \n",
              "1542 2022-09-30 23:59:00              Expired 2017-06-26  2017-06-26   \n",
              "...                  ...                  ...        ...         ...   \n",
              "2360 2022-11-14 23:59:00              Expired 2022-05-14  2022-05-14   \n",
              "2361 2022-11-09 23:59:00              Expired 2022-05-09  2022-05-09   \n",
              "2362 2022-11-09 23:59:00              Expired 2022-05-09  2022-05-09   \n",
              "2363 2022-11-09 23:59:00              Expired 2022-05-16  2022-05-16   \n",
              "2573 2022-09-15 23:59:00              Expired 2022-08-02  2022-08-02   \n",
              "\n",
              "     Employee Start Date Pay Class                        Job Name  \\\n",
              "1474          2017-01-09        FT  Radiologic Technologist (Flex)   \n",
              "1480          2017-01-04        FT         Radiologic Technologist   \n",
              "1519          2019-06-24        FT         Radiologic Technologist   \n",
              "1525          2019-09-16        FT  Radiologic Technologist (Flex)   \n",
              "1542          2017-06-26        FT         Radiologic Technologist   \n",
              "...                  ...       ...                             ...   \n",
              "2360          2022-05-14        FT               Medical Assistant   \n",
              "2361          2022-05-09  Per Diem               Medical Assistant   \n",
              "2362          2022-05-09  Per Diem               Medical Assistant   \n",
              "2363          2022-05-16        FT               Medical Assistant   \n",
              "2573          2022-08-02        FT       Medical Assistant (Float)   \n",
              "\n",
              "        Job Family Name    Market       Source of hire Current Employee  \\\n",
              "1474           Rad Tech  Market B               Indeed              Yes   \n",
              "1480           Rad Tech  Market A               Indeed              Yes   \n",
              "1519           Rad Tech  Market A               Indeed              Yes   \n",
              "1525           Rad Tech  Market A               Indeed              Yes   \n",
              "1542           Rad Tech  Market B             Job Fair              Yes   \n",
              "...                 ...       ...                  ...              ...   \n",
              "2360  Medical Assistant  Market A               Indeed              Yes   \n",
              "2361  Medical Assistant  Market D             Job Fair              Yes   \n",
              "2362  Medical Assistant  Market D             Job Fair              Yes   \n",
              "2363  Medical Assistant  Market E               Indeed              Yes   \n",
              "2573  Medical Assistant  Market C  ClinicalCareers.com              Yes   \n",
              "\n",
              "          Rehired Employee Cert Status Certification type  \\\n",
              "1474  Non-Rehired              Expired          First Aid   \n",
              "1480  Non-Rehired              Expired           Rad Tech   \n",
              "1519  Non-Rehired              Expired           Rad Tech   \n",
              "1525  Non-Rehired              Expired           Rad Tech   \n",
              "1542  Non-Rehired              Expired           Rad Tech   \n",
              "...           ...                  ...                ...   \n",
              "2360  Non-Rehired              Expired          First Aid   \n",
              "2361  Non-Rehired              Expired          First Aid   \n",
              "2362  Non-Rehired              Expired  Medical Assistant   \n",
              "2363  Non-Rehired              Expired          First Aid   \n",
              "2573  Non-Rehired              Expired  Medical Assistant   \n",
              "\n",
              "     Medical Assistant Requirement Rad Tech Requirement  \\\n",
              "1474                             Y                    Y   \n",
              "1480                             N                    Y   \n",
              "1519                             N                    Y   \n",
              "1525                             N                    Y   \n",
              "1542                             N                    Y   \n",
              "...                            ...                  ...   \n",
              "2360                             Y                    Y   \n",
              "2361                             Y                    Y   \n",
              "2362                             Y                    N   \n",
              "2363                             Y                    Y   \n",
              "2573                             Y                    N   \n",
              "\n",
              "     Medical Scribe Requirement  \n",
              "1474                          Y  \n",
              "1480                          N  \n",
              "1519                          N  \n",
              "1525                          N  \n",
              "1542                          N  \n",
              "...                         ...  \n",
              "2360                          Y  \n",
              "2361                          Y  \n",
              "2362                          N  \n",
              "2363                          Y  \n",
              "2573                          N  \n",
              "\n",
              "[113 rows x 20 columns]"
            ],
            "text/html": [
              "\n",
              "  <div id=\"df-ff3c2e62-4790-4d8a-88fc-a19ff1c07434\">\n",
              "    <div class=\"colab-df-container\">\n",
              "      <div>\n",
              "<style scoped>\n",
              "    .dataframe tbody tr th:only-of-type {\n",
              "        vertical-align: middle;\n",
              "    }\n",
              "\n",
              "    .dataframe tbody tr th {\n",
              "        vertical-align: top;\n",
              "    }\n",
              "\n",
              "    .dataframe thead th {\n",
              "        text-align: right;\n",
              "    }\n",
              "</style>\n",
              "<table border=\"1\" class=\"dataframe\">\n",
              "  <thead>\n",
              "    <tr style=\"text-align: right;\">\n",
              "      <th></th>\n",
              "      <th>Employee Number</th>\n",
              "      <th>Certification</th>\n",
              "      <th>Certification Date Issued</th>\n",
              "      <th>Effective End</th>\n",
              "      <th>Certification Status</th>\n",
              "      <th>Hire Date</th>\n",
              "      <th>Rehire Date</th>\n",
              "      <th>Employee Start Date</th>\n",
              "      <th>Pay Class</th>\n",
              "      <th>Job Name</th>\n",
              "      <th>Job Family Name</th>\n",
              "      <th>Market</th>\n",
              "      <th>Source of hire</th>\n",
              "      <th>Current Employee</th>\n",
              "      <th>Rehired</th>\n",
              "      <th>Employee Cert Status</th>\n",
              "      <th>Certification type</th>\n",
              "      <th>Medical Assistant Requirement</th>\n",
              "      <th>Rad Tech Requirement</th>\n",
              "      <th>Medical Scribe Requirement</th>\n",
              "    </tr>\n",
              "  </thead>\n",
              "  <tbody>\n",
              "    <tr>\n",
              "      <th>1474</th>\n",
              "      <td>105125</td>\n",
              "      <td>Basic Life Support</td>\n",
              "      <td>2020-10-22</td>\n",
              "      <td>2022-10-22 23:59:00</td>\n",
              "      <td>Expired</td>\n",
              "      <td>2017-01-09</td>\n",
              "      <td>2017-01-09</td>\n",
              "      <td>2017-01-09</td>\n",
              "      <td>FT</td>\n",
              "      <td>Radiologic Technologist (Flex)</td>\n",
              "      <td>Rad Tech</td>\n",
              "      <td>Market B</td>\n",
              "      <td>Indeed</td>\n",
              "      <td>Yes</td>\n",
              "      <td>Non-Rehired</td>\n",
              "      <td>Expired</td>\n",
              "      <td>First Aid</td>\n",
              "      <td>Y</td>\n",
              "      <td>Y</td>\n",
              "      <td>Y</td>\n",
              "    </tr>\n",
              "    <tr>\n",
              "      <th>1480</th>\n",
              "      <td>106012</td>\n",
              "      <td>CA Rad Tech License</td>\n",
              "      <td>2020-01-20</td>\n",
              "      <td>2022-10-31 23:59:00</td>\n",
              "      <td>Expired</td>\n",
              "      <td>2017-01-04</td>\n",
              "      <td>2017-01-04</td>\n",
              "      <td>2017-01-04</td>\n",
              "      <td>FT</td>\n",
              "      <td>Radiologic Technologist</td>\n",
              "      <td>Rad Tech</td>\n",
              "      <td>Market A</td>\n",
              "      <td>Indeed</td>\n",
              "      <td>Yes</td>\n",
              "      <td>Non-Rehired</td>\n",
              "      <td>Expired</td>\n",
              "      <td>Rad Tech</td>\n",
              "      <td>N</td>\n",
              "      <td>Y</td>\n",
              "      <td>N</td>\n",
              "    </tr>\n",
              "    <tr>\n",
              "      <th>1519</th>\n",
              "      <td>106160</td>\n",
              "      <td>R.T.(R)(ARRT)</td>\n",
              "      <td>2021-10-12</td>\n",
              "      <td>2022-10-30 23:59:00</td>\n",
              "      <td>Expired</td>\n",
              "      <td>2019-06-24</td>\n",
              "      <td>2019-06-24</td>\n",
              "      <td>2019-06-24</td>\n",
              "      <td>FT</td>\n",
              "      <td>Radiologic Technologist</td>\n",
              "      <td>Rad Tech</td>\n",
              "      <td>Market A</td>\n",
              "      <td>Indeed</td>\n",
              "      <td>Yes</td>\n",
              "      <td>Non-Rehired</td>\n",
              "      <td>Expired</td>\n",
              "      <td>Rad Tech</td>\n",
              "      <td>N</td>\n",
              "      <td>Y</td>\n",
              "      <td>N</td>\n",
              "    </tr>\n",
              "    <tr>\n",
              "      <th>1525</th>\n",
              "      <td>106171</td>\n",
              "      <td>R.T.(R)(ARRT)</td>\n",
              "      <td>2021-11-10</td>\n",
              "      <td>2022-10-31 23:59:00</td>\n",
              "      <td>Expired</td>\n",
              "      <td>2019-09-16</td>\n",
              "      <td>2019-09-16</td>\n",
              "      <td>2019-09-16</td>\n",
              "      <td>FT</td>\n",
              "      <td>Radiologic Technologist (Flex)</td>\n",
              "      <td>Rad Tech</td>\n",
              "      <td>Market A</td>\n",
              "      <td>Indeed</td>\n",
              "      <td>Yes</td>\n",
              "      <td>Non-Rehired</td>\n",
              "      <td>Expired</td>\n",
              "      <td>Rad Tech</td>\n",
              "      <td>N</td>\n",
              "      <td>Y</td>\n",
              "      <td>N</td>\n",
              "    </tr>\n",
              "    <tr>\n",
              "      <th>1542</th>\n",
              "      <td>109013</td>\n",
              "      <td>R.T.(R)(ARRT)</td>\n",
              "      <td>2021-10-05</td>\n",
              "      <td>2022-09-30 23:59:00</td>\n",
              "      <td>Expired</td>\n",
              "      <td>2017-06-26</td>\n",
              "      <td>2017-06-26</td>\n",
              "      <td>2017-06-26</td>\n",
              "      <td>FT</td>\n",
              "      <td>Radiologic Technologist</td>\n",
              "      <td>Rad Tech</td>\n",
              "      <td>Market B</td>\n",
              "      <td>Job Fair</td>\n",
              "      <td>Yes</td>\n",
              "      <td>Non-Rehired</td>\n",
              "      <td>Expired</td>\n",
              "      <td>Rad Tech</td>\n",
              "      <td>N</td>\n",
              "      <td>Y</td>\n",
              "      <td>N</td>\n",
              "    </tr>\n",
              "    <tr>\n",
              "      <th>...</th>\n",
              "      <td>...</td>\n",
              "      <td>...</td>\n",
              "      <td>...</td>\n",
              "      <td>...</td>\n",
              "      <td>...</td>\n",
              "      <td>...</td>\n",
              "      <td>...</td>\n",
              "      <td>...</td>\n",
              "      <td>...</td>\n",
              "      <td>...</td>\n",
              "      <td>...</td>\n",
              "      <td>...</td>\n",
              "      <td>...</td>\n",
              "      <td>...</td>\n",
              "      <td>...</td>\n",
              "      <td>...</td>\n",
              "      <td>...</td>\n",
              "      <td>...</td>\n",
              "      <td>...</td>\n",
              "      <td>...</td>\n",
              "    </tr>\n",
              "    <tr>\n",
              "      <th>2360</th>\n",
              "      <td>227092</td>\n",
              "      <td>No BLS</td>\n",
              "      <td>2022-05-14</td>\n",
              "      <td>2022-11-14 23:59:00</td>\n",
              "      <td>Expired</td>\n",
              "      <td>2022-05-14</td>\n",
              "      <td>2022-05-14</td>\n",
              "      <td>2022-05-14</td>\n",
              "      <td>FT</td>\n",
              "      <td>Medical Assistant</td>\n",
              "      <td>Medical Assistant</td>\n",
              "      <td>Market A</td>\n",
              "      <td>Indeed</td>\n",
              "      <td>Yes</td>\n",
              "      <td>Non-Rehired</td>\n",
              "      <td>Expired</td>\n",
              "      <td>First Aid</td>\n",
              "      <td>Y</td>\n",
              "      <td>Y</td>\n",
              "      <td>Y</td>\n",
              "    </tr>\n",
              "    <tr>\n",
              "      <th>2361</th>\n",
              "      <td>227099</td>\n",
              "      <td>No BLS</td>\n",
              "      <td>2022-05-09</td>\n",
              "      <td>2022-11-09 23:59:00</td>\n",
              "      <td>Expired</td>\n",
              "      <td>2022-05-09</td>\n",
              "      <td>2022-05-09</td>\n",
              "      <td>2022-05-09</td>\n",
              "      <td>Per Diem</td>\n",
              "      <td>Medical Assistant</td>\n",
              "      <td>Medical Assistant</td>\n",
              "      <td>Market D</td>\n",
              "      <td>Job Fair</td>\n",
              "      <td>Yes</td>\n",
              "      <td>Non-Rehired</td>\n",
              "      <td>Expired</td>\n",
              "      <td>First Aid</td>\n",
              "      <td>Y</td>\n",
              "      <td>Y</td>\n",
              "      <td>Y</td>\n",
              "    </tr>\n",
              "    <tr>\n",
              "      <th>2362</th>\n",
              "      <td>227099</td>\n",
              "      <td>Non-Certifed MA</td>\n",
              "      <td>2022-05-09</td>\n",
              "      <td>2022-11-09 23:59:00</td>\n",
              "      <td>Expired</td>\n",
              "      <td>2022-05-09</td>\n",
              "      <td>2022-05-09</td>\n",
              "      <td>2022-05-09</td>\n",
              "      <td>Per Diem</td>\n",
              "      <td>Medical Assistant</td>\n",
              "      <td>Medical Assistant</td>\n",
              "      <td>Market D</td>\n",
              "      <td>Job Fair</td>\n",
              "      <td>Yes</td>\n",
              "      <td>Non-Rehired</td>\n",
              "      <td>Expired</td>\n",
              "      <td>Medical Assistant</td>\n",
              "      <td>Y</td>\n",
              "      <td>N</td>\n",
              "      <td>N</td>\n",
              "    </tr>\n",
              "    <tr>\n",
              "      <th>2363</th>\n",
              "      <td>227109</td>\n",
              "      <td>No BLS</td>\n",
              "      <td>2022-05-09</td>\n",
              "      <td>2022-11-09 23:59:00</td>\n",
              "      <td>Expired</td>\n",
              "      <td>2022-05-16</td>\n",
              "      <td>2022-05-16</td>\n",
              "      <td>2022-05-16</td>\n",
              "      <td>FT</td>\n",
              "      <td>Medical Assistant</td>\n",
              "      <td>Medical Assistant</td>\n",
              "      <td>Market E</td>\n",
              "      <td>Indeed</td>\n",
              "      <td>Yes</td>\n",
              "      <td>Non-Rehired</td>\n",
              "      <td>Expired</td>\n",
              "      <td>First Aid</td>\n",
              "      <td>Y</td>\n",
              "      <td>Y</td>\n",
              "      <td>Y</td>\n",
              "    </tr>\n",
              "    <tr>\n",
              "      <th>2573</th>\n",
              "      <td>227782</td>\n",
              "      <td>Natl Certified Med Asst</td>\n",
              "      <td>2003-10-22</td>\n",
              "      <td>2022-09-15 23:59:00</td>\n",
              "      <td>Expired</td>\n",
              "      <td>2022-08-02</td>\n",
              "      <td>2022-08-02</td>\n",
              "      <td>2022-08-02</td>\n",
              "      <td>FT</td>\n",
              "      <td>Medical Assistant (Float)</td>\n",
              "      <td>Medical Assistant</td>\n",
              "      <td>Market C</td>\n",
              "      <td>ClinicalCareers.com</td>\n",
              "      <td>Yes</td>\n",
              "      <td>Non-Rehired</td>\n",
              "      <td>Expired</td>\n",
              "      <td>Medical Assistant</td>\n",
              "      <td>Y</td>\n",
              "      <td>N</td>\n",
              "      <td>N</td>\n",
              "    </tr>\n",
              "  </tbody>\n",
              "</table>\n",
              "<p>113 rows × 20 columns</p>\n",
              "</div>\n",
              "      <button class=\"colab-df-convert\" onclick=\"convertToInteractive('df-ff3c2e62-4790-4d8a-88fc-a19ff1c07434')\"\n",
              "              title=\"Convert this dataframe to an interactive table.\"\n",
              "              style=\"display:none;\">\n",
              "        \n",
              "  <svg xmlns=\"http://www.w3.org/2000/svg\" height=\"24px\"viewBox=\"0 0 24 24\"\n",
              "       width=\"24px\">\n",
              "    <path d=\"M0 0h24v24H0V0z\" fill=\"none\"/>\n",
              "    <path d=\"M18.56 5.44l.94 2.06.94-2.06 2.06-.94-2.06-.94-.94-2.06-.94 2.06-2.06.94zm-11 1L8.5 8.5l.94-2.06 2.06-.94-2.06-.94L8.5 2.5l-.94 2.06-2.06.94zm10 10l.94 2.06.94-2.06 2.06-.94-2.06-.94-.94-2.06-.94 2.06-2.06.94z\"/><path d=\"M17.41 7.96l-1.37-1.37c-.4-.4-.92-.59-1.43-.59-.52 0-1.04.2-1.43.59L10.3 9.45l-7.72 7.72c-.78.78-.78 2.05 0 2.83L4 21.41c.39.39.9.59 1.41.59.51 0 1.02-.2 1.41-.59l7.78-7.78 2.81-2.81c.8-.78.8-2.07 0-2.86zM5.41 20L4 18.59l7.72-7.72 1.47 1.35L5.41 20z\"/>\n",
              "  </svg>\n",
              "      </button>\n",
              "      \n",
              "  <style>\n",
              "    .colab-df-container {\n",
              "      display:flex;\n",
              "      flex-wrap:wrap;\n",
              "      gap: 12px;\n",
              "    }\n",
              "\n",
              "    .colab-df-convert {\n",
              "      background-color: #E8F0FE;\n",
              "      border: none;\n",
              "      border-radius: 50%;\n",
              "      cursor: pointer;\n",
              "      display: none;\n",
              "      fill: #1967D2;\n",
              "      height: 32px;\n",
              "      padding: 0 0 0 0;\n",
              "      width: 32px;\n",
              "    }\n",
              "\n",
              "    .colab-df-convert:hover {\n",
              "      background-color: #E2EBFA;\n",
              "      box-shadow: 0px 1px 2px rgba(60, 64, 67, 0.3), 0px 1px 3px 1px rgba(60, 64, 67, 0.15);\n",
              "      fill: #174EA6;\n",
              "    }\n",
              "\n",
              "    [theme=dark] .colab-df-convert {\n",
              "      background-color: #3B4455;\n",
              "      fill: #D2E3FC;\n",
              "    }\n",
              "\n",
              "    [theme=dark] .colab-df-convert:hover {\n",
              "      background-color: #434B5C;\n",
              "      box-shadow: 0px 1px 3px 1px rgba(0, 0, 0, 0.15);\n",
              "      filter: drop-shadow(0px 1px 2px rgba(0, 0, 0, 0.3));\n",
              "      fill: #FFFFFF;\n",
              "    }\n",
              "  </style>\n",
              "\n",
              "      <script>\n",
              "        const buttonEl =\n",
              "          document.querySelector('#df-ff3c2e62-4790-4d8a-88fc-a19ff1c07434 button.colab-df-convert');\n",
              "        buttonEl.style.display =\n",
              "          google.colab.kernel.accessAllowed ? 'block' : 'none';\n",
              "\n",
              "        async function convertToInteractive(key) {\n",
              "          const element = document.querySelector('#df-ff3c2e62-4790-4d8a-88fc-a19ff1c07434');\n",
              "          const dataTable =\n",
              "            await google.colab.kernel.invokeFunction('convertToInteractive',\n",
              "                                                     [key], {});\n",
              "          if (!dataTable) return;\n",
              "\n",
              "          const docLinkHtml = 'Like what you see? Visit the ' +\n",
              "            '<a target=\"_blank\" href=https://colab.research.google.com/notebooks/data_table.ipynb>data table notebook</a>'\n",
              "            + ' to learn more about interactive tables.';\n",
              "          element.innerHTML = '';\n",
              "          dataTable['output_type'] = 'display_data';\n",
              "          await google.colab.output.renderOutput(dataTable, element);\n",
              "          const docLink = document.createElement('div');\n",
              "          docLink.innerHTML = docLinkHtml;\n",
              "          element.appendChild(docLink);\n",
              "        }\n",
              "      </script>\n",
              "    </div>\n",
              "  </div>\n",
              "  "
            ]
          },
          "metadata": {},
          "execution_count": 13
        }
      ]
    },
    {
      "cell_type": "code",
      "source": [
        "expired_df['Employee Number'].unique()"
      ],
      "metadata": {
        "colab": {
          "base_uri": "https://localhost:8080/"
        },
        "id": "b_JhZy8E2Xi7",
        "outputId": "b6a09a69-7581-4c7f-e55e-1ed886e25ee4"
      },
      "execution_count": 14,
      "outputs": [
        {
          "output_type": "execute_result",
          "data": {
            "text/plain": [
              "array(['105125', '106012', '106160', '106171', '109013', '109014',\n",
              "       '109024', '109034', '109075', '109098', '109127', '109138',\n",
              "       '109149', '111018', '111103', '111124', '111130', '200336',\n",
              "       '200510', '200849', '201522', '201569', '201729', '201840',\n",
              "       '201939', '202704', '202769', '202859', '203148', '203306',\n",
              "       '203319', '203490', '203777', '204056', '204298', '204320',\n",
              "       '204325', '204524', '214948', '215500', '215501', '215551',\n",
              "       '216307', '216373', '216393', '216669', '216680', '216700',\n",
              "       '216718', '216737', '216748', '216760', '216776', '216816',\n",
              "       '216818', '216849', '216897', '216904', '216906', '216907',\n",
              "       '216914', '216916', '216917', '216920', '226969', '226973',\n",
              "       '226974', '226987', '227007', '227009', '227011', '227019',\n",
              "       '227020', '227041', '227084', '227085', '227090', '227092',\n",
              "       '227099', '227109', '227782'], dtype=object)"
            ]
          },
          "metadata": {},
          "execution_count": 14
        }
      ]
    },
    {
      "cell_type": "code",
      "source": [
        "# employees who has more than one expired certification\n",
        "expired_df['Employee Number'].value_counts()[expired_df['Employee Number'].value_counts()>1]"
      ],
      "metadata": {
        "colab": {
          "base_uri": "https://localhost:8080/"
        },
        "id": "lEYh26NlKOIQ",
        "outputId": "0930e4ae-6e77-4f06-9c5b-8c33d9182370"
      },
      "execution_count": 15,
      "outputs": [
        {
          "output_type": "execute_result",
          "data": {
            "text/plain": [
              "215501    2\n",
              "216904    2\n",
              "226974    2\n",
              "216669    2\n",
              "216920    2\n",
              "216917    2\n",
              "216916    2\n",
              "216914    2\n",
              "216906    2\n",
              "216849    2\n",
              "200849    2\n",
              "216818    2\n",
              "216816    2\n",
              "204320    2\n",
              "204524    2\n",
              "215500    2\n",
              "216737    2\n",
              "216718    2\n",
              "226987    2\n",
              "226973    2\n",
              "227007    2\n",
              "109138    2\n",
              "227099    2\n",
              "109014    2\n",
              "227090    2\n",
              "227085    2\n",
              "109075    2\n",
              "227009    2\n",
              "109098    2\n",
              "109149    2\n",
              "227041    2\n",
              "227019    2\n",
              "Name: Employee Number, dtype: int64"
            ]
          },
          "metadata": {},
          "execution_count": 15
        }
      ]
    },
    {
      "cell_type": "markdown",
      "source": [
        "#Feature Engineering"
      ],
      "metadata": {
        "id": "knw9X5By3Hy5"
      }
    },
    {
      "cell_type": "code",
      "source": [
        "# Drop some useless columns\n",
        "to_drop = ['Employee Number','Certification Date Issued','Effective End','Hire Date', 'Rehire Date', 'Employee Start Date', 'Employee Cert Status']\n",
        "df2 = df1.drop(to_drop, axis=1)\n"
      ],
      "metadata": {
        "id": "ffzZjaaF3Ln4"
      },
      "execution_count": 16,
      "outputs": []
    },
    {
      "cell_type": "code",
      "source": [
        "# yes and no have to be converted to boolean values\n",
        "df2[\"Current Employee\"] = df2['Current Employee'] == 'Yes'\n",
        "df2[\"Medical Assistant Requirement\"] = df2['Medical Assistant Requirement'] == 'Y'\n",
        "df2[\"Medical Scribe Requirement\"] = df2['Medical Scribe Requirement'] == 'Y'\n",
        "df2[\"Rad Tech Requirement\"] = df2['Rad Tech Requirement'] == 'Y'\n",
        "df2[\"Certification Status\"] = df2['Certification Status'] == 'Active'\n",
        "df2[\"Rehired\"] = df2['Rehired'] == 'Rehired'\n",
        "df2.head()\n"
      ],
      "metadata": {
        "colab": {
          "base_uri": "https://localhost:8080/",
          "height": 354
        },
        "id": "lEzycaft3Lld",
        "outputId": "20495803-f67a-4dff-f8a9-3d9a4586b00f"
      },
      "execution_count": 17,
      "outputs": [
        {
          "output_type": "execute_result",
          "data": {
            "text/plain": [
              "            Certification  Certification Status Pay Class  \\\n",
              "1471   Basic Life Support                  True        FT   \n",
              "1472  CA Rad Tech License                  True        FT   \n",
              "1473        R.T.(R)(ARRT)                  True        FT   \n",
              "1474   Basic Life Support                 False        FT   \n",
              "1475  CT Rad Tech License                  True        FT   \n",
              "\n",
              "                                   Job Name Job Family Name    Market  \\\n",
              "1471  Team Leader (Radiologic Technologist)        Rad Tech  Market A   \n",
              "1472  Team Leader (Radiologic Technologist)        Rad Tech  Market A   \n",
              "1473  Team Leader (Radiologic Technologist)        Rad Tech  Market A   \n",
              "1474         Radiologic Technologist (Flex)        Rad Tech  Market B   \n",
              "1475         Radiologic Technologist (Flex)        Rad Tech  Market B   \n",
              "\n",
              "     Source of hire  Current Employee  Rehired Certification type  \\\n",
              "1471       Job Fair              True    False          First Aid   \n",
              "1472       Job Fair              True    False           Rad Tech   \n",
              "1473       Job Fair              True    False           Rad Tech   \n",
              "1474         Indeed              True    False          First Aid   \n",
              "1475         Indeed              True    False           Rad Tech   \n",
              "\n",
              "      Medical Assistant Requirement  Rad Tech Requirement  \\\n",
              "1471                           True                  True   \n",
              "1472                          False                  True   \n",
              "1473                          False                  True   \n",
              "1474                           True                  True   \n",
              "1475                          False                  True   \n",
              "\n",
              "      Medical Scribe Requirement  \n",
              "1471                        True  \n",
              "1472                       False  \n",
              "1473                       False  \n",
              "1474                        True  \n",
              "1475                       False  "
            ],
            "text/html": [
              "\n",
              "  <div id=\"df-8a0533c1-19f7-442a-b44c-d1aa1f3ca1e5\">\n",
              "    <div class=\"colab-df-container\">\n",
              "      <div>\n",
              "<style scoped>\n",
              "    .dataframe tbody tr th:only-of-type {\n",
              "        vertical-align: middle;\n",
              "    }\n",
              "\n",
              "    .dataframe tbody tr th {\n",
              "        vertical-align: top;\n",
              "    }\n",
              "\n",
              "    .dataframe thead th {\n",
              "        text-align: right;\n",
              "    }\n",
              "</style>\n",
              "<table border=\"1\" class=\"dataframe\">\n",
              "  <thead>\n",
              "    <tr style=\"text-align: right;\">\n",
              "      <th></th>\n",
              "      <th>Certification</th>\n",
              "      <th>Certification Status</th>\n",
              "      <th>Pay Class</th>\n",
              "      <th>Job Name</th>\n",
              "      <th>Job Family Name</th>\n",
              "      <th>Market</th>\n",
              "      <th>Source of hire</th>\n",
              "      <th>Current Employee</th>\n",
              "      <th>Rehired</th>\n",
              "      <th>Certification type</th>\n",
              "      <th>Medical Assistant Requirement</th>\n",
              "      <th>Rad Tech Requirement</th>\n",
              "      <th>Medical Scribe Requirement</th>\n",
              "    </tr>\n",
              "  </thead>\n",
              "  <tbody>\n",
              "    <tr>\n",
              "      <th>1471</th>\n",
              "      <td>Basic Life Support</td>\n",
              "      <td>True</td>\n",
              "      <td>FT</td>\n",
              "      <td>Team Leader (Radiologic Technologist)</td>\n",
              "      <td>Rad Tech</td>\n",
              "      <td>Market A</td>\n",
              "      <td>Job Fair</td>\n",
              "      <td>True</td>\n",
              "      <td>False</td>\n",
              "      <td>First Aid</td>\n",
              "      <td>True</td>\n",
              "      <td>True</td>\n",
              "      <td>True</td>\n",
              "    </tr>\n",
              "    <tr>\n",
              "      <th>1472</th>\n",
              "      <td>CA Rad Tech License</td>\n",
              "      <td>True</td>\n",
              "      <td>FT</td>\n",
              "      <td>Team Leader (Radiologic Technologist)</td>\n",
              "      <td>Rad Tech</td>\n",
              "      <td>Market A</td>\n",
              "      <td>Job Fair</td>\n",
              "      <td>True</td>\n",
              "      <td>False</td>\n",
              "      <td>Rad Tech</td>\n",
              "      <td>False</td>\n",
              "      <td>True</td>\n",
              "      <td>False</td>\n",
              "    </tr>\n",
              "    <tr>\n",
              "      <th>1473</th>\n",
              "      <td>R.T.(R)(ARRT)</td>\n",
              "      <td>True</td>\n",
              "      <td>FT</td>\n",
              "      <td>Team Leader (Radiologic Technologist)</td>\n",
              "      <td>Rad Tech</td>\n",
              "      <td>Market A</td>\n",
              "      <td>Job Fair</td>\n",
              "      <td>True</td>\n",
              "      <td>False</td>\n",
              "      <td>Rad Tech</td>\n",
              "      <td>False</td>\n",
              "      <td>True</td>\n",
              "      <td>False</td>\n",
              "    </tr>\n",
              "    <tr>\n",
              "      <th>1474</th>\n",
              "      <td>Basic Life Support</td>\n",
              "      <td>False</td>\n",
              "      <td>FT</td>\n",
              "      <td>Radiologic Technologist (Flex)</td>\n",
              "      <td>Rad Tech</td>\n",
              "      <td>Market B</td>\n",
              "      <td>Indeed</td>\n",
              "      <td>True</td>\n",
              "      <td>False</td>\n",
              "      <td>First Aid</td>\n",
              "      <td>True</td>\n",
              "      <td>True</td>\n",
              "      <td>True</td>\n",
              "    </tr>\n",
              "    <tr>\n",
              "      <th>1475</th>\n",
              "      <td>CT Rad Tech License</td>\n",
              "      <td>True</td>\n",
              "      <td>FT</td>\n",
              "      <td>Radiologic Technologist (Flex)</td>\n",
              "      <td>Rad Tech</td>\n",
              "      <td>Market B</td>\n",
              "      <td>Indeed</td>\n",
              "      <td>True</td>\n",
              "      <td>False</td>\n",
              "      <td>Rad Tech</td>\n",
              "      <td>False</td>\n",
              "      <td>True</td>\n",
              "      <td>False</td>\n",
              "    </tr>\n",
              "  </tbody>\n",
              "</table>\n",
              "</div>\n",
              "      <button class=\"colab-df-convert\" onclick=\"convertToInteractive('df-8a0533c1-19f7-442a-b44c-d1aa1f3ca1e5')\"\n",
              "              title=\"Convert this dataframe to an interactive table.\"\n",
              "              style=\"display:none;\">\n",
              "        \n",
              "  <svg xmlns=\"http://www.w3.org/2000/svg\" height=\"24px\"viewBox=\"0 0 24 24\"\n",
              "       width=\"24px\">\n",
              "    <path d=\"M0 0h24v24H0V0z\" fill=\"none\"/>\n",
              "    <path d=\"M18.56 5.44l.94 2.06.94-2.06 2.06-.94-2.06-.94-.94-2.06-.94 2.06-2.06.94zm-11 1L8.5 8.5l.94-2.06 2.06-.94-2.06-.94L8.5 2.5l-.94 2.06-2.06.94zm10 10l.94 2.06.94-2.06 2.06-.94-2.06-.94-.94-2.06-.94 2.06-2.06.94z\"/><path d=\"M17.41 7.96l-1.37-1.37c-.4-.4-.92-.59-1.43-.59-.52 0-1.04.2-1.43.59L10.3 9.45l-7.72 7.72c-.78.78-.78 2.05 0 2.83L4 21.41c.39.39.9.59 1.41.59.51 0 1.02-.2 1.41-.59l7.78-7.78 2.81-2.81c.8-.78.8-2.07 0-2.86zM5.41 20L4 18.59l7.72-7.72 1.47 1.35L5.41 20z\"/>\n",
              "  </svg>\n",
              "      </button>\n",
              "      \n",
              "  <style>\n",
              "    .colab-df-container {\n",
              "      display:flex;\n",
              "      flex-wrap:wrap;\n",
              "      gap: 12px;\n",
              "    }\n",
              "\n",
              "    .colab-df-convert {\n",
              "      background-color: #E8F0FE;\n",
              "      border: none;\n",
              "      border-radius: 50%;\n",
              "      cursor: pointer;\n",
              "      display: none;\n",
              "      fill: #1967D2;\n",
              "      height: 32px;\n",
              "      padding: 0 0 0 0;\n",
              "      width: 32px;\n",
              "    }\n",
              "\n",
              "    .colab-df-convert:hover {\n",
              "      background-color: #E2EBFA;\n",
              "      box-shadow: 0px 1px 2px rgba(60, 64, 67, 0.3), 0px 1px 3px 1px rgba(60, 64, 67, 0.15);\n",
              "      fill: #174EA6;\n",
              "    }\n",
              "\n",
              "    [theme=dark] .colab-df-convert {\n",
              "      background-color: #3B4455;\n",
              "      fill: #D2E3FC;\n",
              "    }\n",
              "\n",
              "    [theme=dark] .colab-df-convert:hover {\n",
              "      background-color: #434B5C;\n",
              "      box-shadow: 0px 1px 3px 1px rgba(0, 0, 0, 0.15);\n",
              "      filter: drop-shadow(0px 1px 2px rgba(0, 0, 0, 0.3));\n",
              "      fill: #FFFFFF;\n",
              "    }\n",
              "  </style>\n",
              "\n",
              "      <script>\n",
              "        const buttonEl =\n",
              "          document.querySelector('#df-8a0533c1-19f7-442a-b44c-d1aa1f3ca1e5 button.colab-df-convert');\n",
              "        buttonEl.style.display =\n",
              "          google.colab.kernel.accessAllowed ? 'block' : 'none';\n",
              "\n",
              "        async function convertToInteractive(key) {\n",
              "          const element = document.querySelector('#df-8a0533c1-19f7-442a-b44c-d1aa1f3ca1e5');\n",
              "          const dataTable =\n",
              "            await google.colab.kernel.invokeFunction('convertToInteractive',\n",
              "                                                     [key], {});\n",
              "          if (!dataTable) return;\n",
              "\n",
              "          const docLinkHtml = 'Like what you see? Visit the ' +\n",
              "            '<a target=\"_blank\" href=https://colab.research.google.com/notebooks/data_table.ipynb>data table notebook</a>'\n",
              "            + ' to learn more about interactive tables.';\n",
              "          element.innerHTML = '';\n",
              "          dataTable['output_type'] = 'display_data';\n",
              "          await google.colab.output.renderOutput(dataTable, element);\n",
              "          const docLink = document.createElement('div');\n",
              "          docLink.innerHTML = docLinkHtml;\n",
              "          element.appendChild(docLink);\n",
              "        }\n",
              "      </script>\n",
              "    </div>\n",
              "  </div>\n",
              "  "
            ]
          },
          "metadata": {},
          "execution_count": 17
        }
      ]
    },
    {
      "cell_type": "code",
      "source": [
        "df2[['Pay Class']].value_counts()"
      ],
      "metadata": {
        "colab": {
          "base_uri": "https://localhost:8080/"
        },
        "id": "myfvt8wz3LjI",
        "outputId": "b3dc7076-f1b0-4be4-ef97-055e3a0fea8e"
      },
      "execution_count": 18,
      "outputs": [
        {
          "output_type": "execute_result",
          "data": {
            "text/plain": [
              "Pay Class\n",
              "FT           641\n",
              "Per Diem     272\n",
              "Temporary     75\n",
              "PT            42\n",
              "Seasonal       1\n",
              "dtype: int64"
            ]
          },
          "metadata": {},
          "execution_count": 18
        }
      ]
    },
    {
      "cell_type": "code",
      "source": [
        "replace_values = {'PT' : \"Others\", 'Seasonal' : 'Others' } \n",
        "df2 = df2.replace({\"Pay Class\": replace_values})        "
      ],
      "metadata": {
        "id": "3cFvcXdSOGRv"
      },
      "execution_count": 19,
      "outputs": []
    },
    {
      "cell_type": "code",
      "source": [
        "df2[['Job Name']].value_counts()"
      ],
      "metadata": {
        "colab": {
          "base_uri": "https://localhost:8080/"
        },
        "id": "HmrJzHLc3Lgx",
        "outputId": "b52c4146-73f9-4d7f-8b39-d0d2e5b7a2a5"
      },
      "execution_count": 20,
      "outputs": [
        {
          "output_type": "execute_result",
          "data": {
            "text/plain": [
              "Job Name                                           \n",
              "Medical Assistant                                      366\n",
              "Radiologic Technologist                                282\n",
              "Medical Assistant (Float)                              127\n",
              "Advanced Clinical Associate                            117\n",
              "Radiologic Technologist (Flex)                          27\n",
              "Radiologic Technologist (Float)                         26\n",
              "Medical Assistant - Limited X-Ray                       23\n",
              "Team Leader (Radiologic Technologist)                   23\n",
              "Team Leader (Medical Assistant)                         21\n",
              "Medical Scribe                                           5\n",
              "Lead Medical Assistant                                   3\n",
              "Learning Coach (Medical Assistant)                       3\n",
              "Quality Assurance & Control Radiologic Technologist      3\n",
              "Lead Medical Assistant (DTE)                             2\n",
              "Lead Radiologic Technologist                             2\n",
              "Medical Assistant (DTE)                                  1\n",
              "dtype: int64"
            ]
          },
          "metadata": {},
          "execution_count": 20
        }
      ]
    },
    {
      "cell_type": "code",
      "source": [
        "replace_values = {'Medical Scribe': 'Others', 'Lead Medical Assistant' : 'Others', 'Learning Coach (Medical Assistant)' : 'Others', 'Quality Assurance & Control Radiologic Technologist' : 'Others', \n",
        "                  'Lead Medical Assistant (DTE)' : 'Others', 'Lead Radiologic Technologist' : 'Others', 'Medical Assistant (DTE)' : 'Others'} \n",
        "df2 = df2.replace({\"Job Name\": replace_values}) "
      ],
      "metadata": {
        "id": "ZUTv8942OEIw"
      },
      "execution_count": 21,
      "outputs": []
    },
    {
      "cell_type": "markdown",
      "source": [
        "#Model"
      ],
      "metadata": {
        "id": "Qhn0uYqd2Vk_"
      }
    },
    {
      "cell_type": "code",
      "source": [
        "X = df2.drop('Certification Status', 1)\n",
        "y = df2['Certification Status']"
      ],
      "metadata": {
        "colab": {
          "base_uri": "https://localhost:8080/"
        },
        "id": "PZFJ4ujs2XgR",
        "outputId": "f3e9b28c-e1b0-4550-9b0e-ff60a4ed398b"
      },
      "execution_count": 22,
      "outputs": [
        {
          "output_type": "stream",
          "name": "stderr",
          "text": [
            "/usr/local/lib/python3.7/dist-packages/ipykernel_launcher.py:1: FutureWarning: In a future version of pandas all arguments of DataFrame.drop except for the argument 'labels' will be keyword-only\n",
            "  \"\"\"Entry point for launching an IPython kernel.\n"
          ]
        }
      ]
    },
    {
      "cell_type": "code",
      "source": [
        "X = pd.get_dummies(X)\n"
      ],
      "metadata": {
        "id": "4D6qg_kQ2Xdn"
      },
      "execution_count": 23,
      "outputs": []
    },
    {
      "cell_type": "code",
      "source": [
        "from sklearn.model_selection import train_test_split\n",
        "X_train, X_cv, y_train, y_cv = train_test_split(X, y, test_size=0.3)"
      ],
      "metadata": {
        "id": "0xF1Bv-j2XbD"
      },
      "execution_count": 24,
      "outputs": []
    },
    {
      "cell_type": "code",
      "source": [
        "from sklearn.tree import DecisionTreeClassifier"
      ],
      "metadata": {
        "id": "zmtFTbzx2XYj"
      },
      "execution_count": 25,
      "outputs": []
    },
    {
      "cell_type": "code",
      "source": [
        "model = DecisionTreeClassifier(random_state=1)"
      ],
      "metadata": {
        "id": "rrYEo4wD2XWI"
      },
      "execution_count": 26,
      "outputs": []
    },
    {
      "cell_type": "code",
      "source": [
        "model.fit(X_train,y_train)"
      ],
      "metadata": {
        "colab": {
          "base_uri": "https://localhost:8080/"
        },
        "id": "YisZX8h-2XTv",
        "outputId": "6146602f-2041-492c-e9d4-6899b2e7125d"
      },
      "execution_count": 27,
      "outputs": [
        {
          "output_type": "execute_result",
          "data": {
            "text/plain": [
              "DecisionTreeClassifier(random_state=1)"
            ]
          },
          "metadata": {},
          "execution_count": 27
        }
      ]
    },
    {
      "cell_type": "code",
      "source": [
        "predictions = model.predict(X_cv)"
      ],
      "metadata": {
        "id": "im7ernln2XRF"
      },
      "execution_count": 28,
      "outputs": []
    },
    {
      "cell_type": "code",
      "source": [
        "from sklearn.metrics import accuracy_score, classification_report"
      ],
      "metadata": {
        "id": "y52G2IM12XOc"
      },
      "execution_count": 29,
      "outputs": []
    },
    {
      "cell_type": "code",
      "source": [
        "print(classification_report(y_cv, predictions))"
      ],
      "metadata": {
        "colab": {
          "base_uri": "https://localhost:8080/"
        },
        "id": "bqY7a7yOT3kN",
        "outputId": "3f8874ec-1c6a-4a7d-e006-1e5e9a450d77"
      },
      "execution_count": 30,
      "outputs": [
        {
          "output_type": "stream",
          "name": "stdout",
          "text": [
            "              precision    recall  f1-score   support\n",
            "\n",
            "       False       0.16      0.19      0.18        31\n",
            "        True       0.91      0.89      0.90       279\n",
            "\n",
            "    accuracy                           0.82       310\n",
            "   macro avg       0.54      0.54      0.54       310\n",
            "weighted avg       0.83      0.82      0.83       310\n",
            "\n"
          ]
        }
      ]
    },
    {
      "cell_type": "code",
      "source": [
        "print(accuracy_score(y_cv, predictions))"
      ],
      "metadata": {
        "colab": {
          "base_uri": "https://localhost:8080/"
        },
        "id": "_Mb3OOD2T3hS",
        "outputId": "767a1356-3076-44b6-e9d7-9b112f197566"
      },
      "execution_count": 31,
      "outputs": [
        {
          "output_type": "stream",
          "name": "stdout",
          "text": [
            "0.8193548387096774\n"
          ]
        }
      ]
    },
    {
      "cell_type": "code",
      "source": [
        "from sklearn.ensemble import RandomForestClassifier"
      ],
      "metadata": {
        "id": "Slk1-bZzT3fT"
      },
      "execution_count": 32,
      "outputs": []
    },
    {
      "cell_type": "code",
      "source": [
        "rfmodel = RandomForestClassifier(n_estimators=500)"
      ],
      "metadata": {
        "id": "y-LlLYmLT3cm"
      },
      "execution_count": 33,
      "outputs": []
    },
    {
      "cell_type": "code",
      "source": [
        "rfmodel.fit(X_train, y_train)"
      ],
      "metadata": {
        "colab": {
          "base_uri": "https://localhost:8080/"
        },
        "id": "_tITB7d3T3aF",
        "outputId": "b86a503d-adc9-46b3-efce-94cea2422ccb"
      },
      "execution_count": 34,
      "outputs": [
        {
          "output_type": "execute_result",
          "data": {
            "text/plain": [
              "RandomForestClassifier(n_estimators=500)"
            ]
          },
          "metadata": {},
          "execution_count": 34
        }
      ]
    },
    {
      "cell_type": "code",
      "source": [
        "rfpredictions = rfmodel.predict(X_cv)"
      ],
      "metadata": {
        "id": "xNQ60VlKT3Xs"
      },
      "execution_count": 35,
      "outputs": []
    },
    {
      "cell_type": "code",
      "source": [
        "print(accuracy_score(y_cv, rfpredictions))"
      ],
      "metadata": {
        "colab": {
          "base_uri": "https://localhost:8080/"
        },
        "id": "N8b72Qd-2XLf",
        "outputId": "0aef977b-f9f1-4c41-dfd9-88d6ba851d30"
      },
      "execution_count": 36,
      "outputs": [
        {
          "output_type": "stream",
          "name": "stdout",
          "text": [
            "0.8741935483870967\n"
          ]
        }
      ]
    },
    {
      "cell_type": "code",
      "source": [
        "print(classification_report(y_cv, rfpredictions))"
      ],
      "metadata": {
        "colab": {
          "base_uri": "https://localhost:8080/"
        },
        "id": "Bcblx5HGUGsB",
        "outputId": "a84c9c8b-6f1a-45df-cd17-ffb70b91459f"
      },
      "execution_count": 37,
      "outputs": [
        {
          "output_type": "stream",
          "name": "stdout",
          "text": [
            "              precision    recall  f1-score   support\n",
            "\n",
            "       False       0.17      0.06      0.09        31\n",
            "        True       0.90      0.96      0.93       279\n",
            "\n",
            "    accuracy                           0.87       310\n",
            "   macro avg       0.53      0.51      0.51       310\n",
            "weighted avg       0.83      0.87      0.85       310\n",
            "\n"
          ]
        }
      ]
    },
    {
      "cell_type": "markdown",
      "source": [
        "# Feature Importance"
      ],
      "metadata": {
        "id": "xNLnjy90U2Pr"
      }
    },
    {
      "cell_type": "code",
      "source": [
        "# check feature importance of random forest for feature selection\n",
        "forest = rfmodel.fit(X_train, y_train)\n",
        "\n",
        "importances = forest.feature_importances_\n",
        "\n",
        "# Print the feature ranking\n",
        "print(\"Feature importance ranking by Random Forest Model:\")\n",
        "for k,v in sorted(zip(map(lambda x: round(x, 4), importances), X.columns), reverse=True):\n",
        "    print (v + \": \" + str(k))"
      ],
      "metadata": {
        "colab": {
          "base_uri": "https://localhost:8080/"
        },
        "id": "xRe0oSHcUGpM",
        "outputId": "568370bb-e906-4d14-8e75-f5be191b5c27"
      },
      "execution_count": 38,
      "outputs": [
        {
          "output_type": "stream",
          "name": "stdout",
          "text": [
            "Feature importance ranking by Random Forest Model:\n",
            "Rehired: 0.074\n",
            "Source of hire_Indeed: 0.0562\n",
            "Pay Class_FT: 0.0506\n",
            "Source of hire_ClinicalCareers.com: 0.0488\n",
            "Market_Market B: 0.048\n",
            "Market_Market E: 0.0479\n",
            "Certification_No BLS: 0.0477\n",
            "Pay Class_Per Diem: 0.0461\n",
            "Market_Market A: 0.0447\n",
            "Market_Market D: 0.042\n",
            "Source of hire_Career site: 0.0379\n",
            "Market_Market C: 0.0326\n",
            "Certification_Basic Life Support: 0.0292\n",
            "Job Name_Medical Assistant: 0.0262\n",
            "Certification_Non-Certifed MA: 0.025\n",
            "Source of hire_Recruiter: 0.024\n",
            "Job Name_Radiologic Technologist: 0.0234\n",
            "Job Name_Medical Assistant - Limited X-Ray: 0.022\n",
            "Source of hire_Job Fair: 0.021\n",
            "Source of hire_Referral: 0.0194\n",
            "Pay Class_Temporary: 0.0176\n",
            "Job Name_Medical Assistant (Float): 0.0159\n",
            "Certification_R.T.(R)(ARRT): 0.0128\n",
            "Job Family Name_Medical Assistant: 0.0116\n",
            "Job Name_Radiologic Technologist (Flex): 0.0112\n",
            "Job Family Name_Rad Tech: 0.0103\n",
            "Job Name_Others: 0.01\n",
            "Certification_Certified Medical Assistant: 0.0098\n",
            "Certification type_First Aid: 0.0098\n",
            "Pay Class_Others: 0.0096\n",
            "Job Name_Team Leader (Radiologic Technologist): 0.0092\n",
            "Medical Scribe Requirement: 0.0089\n",
            "Job Name_Advanced Clinical Associate: 0.0086\n",
            "Job Family Name_Medical Scribe: 0.0079\n",
            "Job Name_Team Leader (Medical Assistant): 0.0076\n",
            "Certification_Natl Certified Med Asst: 0.0076\n",
            "Rad Tech Requirement: 0.0063\n",
            "Medical Assistant Requirement: 0.0059\n",
            "Certification_CT Rad Tech License: 0.0058\n",
            "Certification type_Medical Assistant: 0.0058\n",
            "Job Name_Radiologic Technologist (Float): 0.0054\n",
            "Certification_Registered Medical Asst: 0.0051\n",
            "Certification_MA Certification: 0.0049\n",
            "Certification type_Rad Tech: 0.0042\n",
            "Certification_Certified Medical Scribe: 0.0031\n",
            "Certification_ACA Certification: 0.0031\n",
            "Certification type_Medical Scribe: 0.003\n",
            "Certification_Cert Prov Order Entry Pro: 0.0029\n",
            "Certification_CA Rad Tech License: 0.0026\n",
            "Certification_Rad Tech License: 0.002\n",
            "Certification_Natl Emergency Med Tech: 0.0016\n",
            "Certification_ARRT Certification: 0.0014\n",
            "Certification_Certified Nursing Assistant: 0.0009\n",
            "Certification_AR Rad Tech License: 0.0005\n",
            "Certification_Natl Assoc CMA: 0.0001\n",
            "Certification_MD Rad Tech License: 0.0001\n",
            "Certification_American Assoc Med Asst: 0.0001\n",
            "Current Employee: 0.0\n",
            "Certification_NY Rad Tech License: 0.0\n",
            "Certification_MOEMT: 0.0\n",
            "Certification_CA Medical Asst License: 0.0\n"
          ]
        }
      ]
    },
    {
      "cell_type": "markdown",
      "source": [
        "#Summary"
      ],
      "metadata": {
        "id": "gvcGpPKxlExc"
      }
    },
    {
      "cell_type": "markdown",
      "source": [
        "\n",
        "- 11% of total employee have expired certifications\n",
        "- In general, the Job function, Market, Pay class and Sources of hire with the most employees will have the most expired certificates\n",
        "- Medical Assistant has highest number of expired certifications because it requires 14 certificates whereas Rad Tech and Medical Scribe only require 10 certificates each\n",
        "- BLS, Non-Certified MA and R.T.(R)(ARRT) are most likely to expire and they are needed by both Medical Assistant and Rad Tech\n",
        "- Market D has high expired certification because it only hires Medical Assistants\n",
        "- Rehired employees follow overall employee trend for certification compliance as it has 14% expiration rate whereas the overall company has 11%\n",
        "- Feature importance ranking using Random Forest matches our result, model accuracy 87%\n",
        "\n"
      ],
      "metadata": {
        "id": "HqTGIxMBl4O6"
      }
    }
  ]
}