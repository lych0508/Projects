{
  "nbformat": 4,
  "nbformat_minor": 0,
  "metadata": {
    "kernelspec": {
      "display_name": "Python 2",
      "language": "python",
      "name": "python2"
    },
    "language_info": {
      "codemirror_mode": {
        "name": "ipython",
        "version": 2
      },
      "file_extension": ".py",
      "mimetype": "text/x-python",
      "name": "python",
      "nbconvert_exporter": "python",
      "pygments_lexer": "ipython2",
      "version": "2.7.13"
    },
    "colab": {
      "name": "Amazon Prime Project.ipynb",
      "provenance": [],
      "collapsed_sections": []
    }
  },
  "cells": [
    {
      "cell_type": "markdown",
      "metadata": {
        "id": "hRJRV2O8MAO7"
      },
      "source": [
        "# Pre Load packages \n"
      ]
    },
    {
      "cell_type": "code",
      "metadata": {
        "id": "DMDoF1MtMAO8"
      },
      "source": [
        "# load packages\n",
        "%matplotlib inline\n",
        "import numpy as np\n",
        "import scipy\n",
        "import pandas as pd\n",
        "import matplotlib.pyplot as plt\n",
        "import statsmodels.formula.api as sm\n",
        "import seaborn as sns\n",
        "import sklearn as sl\n",
        "from sklearn import preprocessing\n",
        "pd.set_option('display.float_format', lambda x: '%.3f' % x)"
      ],
      "execution_count": 1,
      "outputs": []
    },
    {
      "cell_type": "code",
      "metadata": {
        "id": "8Ss0NDkFwlOf"
      },
      "source": [
        "!pip install -U -q PyDrive\n",
        "\n",
        "from pydrive.auth import GoogleAuth\n",
        "from pydrive.drive import GoogleDrive\n",
        "from google.colab import auth\n",
        "from oauth2client.client import GoogleCredentials\n",
        "\n",
        "auth.authenticate_user()\n",
        "gauth = GoogleAuth()\n",
        "gauth.credentials = GoogleCredentials.get_application_default()\n",
        "drive = GoogleDrive(gauth)"
      ],
      "execution_count": 2,
      "outputs": []
    },
    {
      "cell_type": "code",
      "metadata": {
        "colab": {
          "base_uri": "https://localhost:8080/",
          "height": 292
        },
        "id": "FdqxYHD5wstn",
        "outputId": "0a9ac769-266b-4bbb-a393-7fbc1e14ad1e"
      },
      "source": [
        "link = 'https://drive.google.com/open?id=1i72DZkm66HkqNsfSIHeUSch3yqtCPBm_'\n",
        "fluff, id = link.split('=')\n",
        "file = drive.CreateFile({'id':id}) # replace the id with id of file you want to access\n",
        "file.GetContentFile('TVdata.txt')  \n",
        "\n",
        "# Read file as panda dataframe\n",
        "import pandas as pd\n",
        "TV = pd.read_csv('TVdata.txt')\n",
        "TV.head()"
      ],
      "execution_count": 3,
      "outputs": [
        {
          "output_type": "execute_result",
          "data": {
            "text/plain": [
              "   video_id  cvt_per_day  weighted_categorical_position  \\\n",
              "0    385504   307127.606                              1   \n",
              "1    300175   270338.426                              1   \n",
              "2    361899   256165.867                              1   \n",
              "3    308314   196622.721                              3   \n",
              "4    307201   159841.652                              1   \n",
              "\n",
              "   weighted_horizontal_poition  import_id  release_year  \\\n",
              "0                            3  lionsgate          2013   \n",
              "1                            3  lionsgate          2013   \n",
              "2                            3      other          2012   \n",
              "3                            4  lionsgate          2008   \n",
              "4                            3  lionsgate          2013   \n",
              "\n",
              "                                          genres  imdb_votes    budget  \\\n",
              "0                          Action,Thriller,Drama       69614  15000000   \n",
              "1                          Comedy,Crime,Thriller       46705  15000000   \n",
              "2                                    Crime,Drama      197596  26000000   \n",
              "3  Thriller,Drama,War,Documentary,Mystery,Action      356339  15000000   \n",
              "4             Crime,Thriller,Mystery,Documentary       46720  27220000   \n",
              "\n",
              "   boxoffice  imdb_rating  duration_in_mins  metacritic_score       awards  \\\n",
              "0   42930462        6.500           112.301                51  other award   \n",
              "1    3301046        6.500            94.983                41     no award   \n",
              "2   37397291        7.300           115.764                58  other award   \n",
              "3   15700000        7.600           130.704                94        Oscar   \n",
              "4    8551228        6.400           105.546                37  other award   \n",
              "\n",
              "    mpaa  star_category  \n",
              "0  PG-13          1.710  \n",
              "1      R          3.250  \n",
              "2      R          2.647  \n",
              "3      R          1.667  \n",
              "4      R          3.067  "
            ],
            "text/html": [
              "<div>\n",
              "<style scoped>\n",
              "    .dataframe tbody tr th:only-of-type {\n",
              "        vertical-align: middle;\n",
              "    }\n",
              "\n",
              "    .dataframe tbody tr th {\n",
              "        vertical-align: top;\n",
              "    }\n",
              "\n",
              "    .dataframe thead th {\n",
              "        text-align: right;\n",
              "    }\n",
              "</style>\n",
              "<table border=\"1\" class=\"dataframe\">\n",
              "  <thead>\n",
              "    <tr style=\"text-align: right;\">\n",
              "      <th></th>\n",
              "      <th>video_id</th>\n",
              "      <th>cvt_per_day</th>\n",
              "      <th>weighted_categorical_position</th>\n",
              "      <th>weighted_horizontal_poition</th>\n",
              "      <th>import_id</th>\n",
              "      <th>release_year</th>\n",
              "      <th>genres</th>\n",
              "      <th>imdb_votes</th>\n",
              "      <th>budget</th>\n",
              "      <th>boxoffice</th>\n",
              "      <th>imdb_rating</th>\n",
              "      <th>duration_in_mins</th>\n",
              "      <th>metacritic_score</th>\n",
              "      <th>awards</th>\n",
              "      <th>mpaa</th>\n",
              "      <th>star_category</th>\n",
              "    </tr>\n",
              "  </thead>\n",
              "  <tbody>\n",
              "    <tr>\n",
              "      <th>0</th>\n",
              "      <td>385504</td>\n",
              "      <td>307127.606</td>\n",
              "      <td>1</td>\n",
              "      <td>3</td>\n",
              "      <td>lionsgate</td>\n",
              "      <td>2013</td>\n",
              "      <td>Action,Thriller,Drama</td>\n",
              "      <td>69614</td>\n",
              "      <td>15000000</td>\n",
              "      <td>42930462</td>\n",
              "      <td>6.500</td>\n",
              "      <td>112.301</td>\n",
              "      <td>51</td>\n",
              "      <td>other award</td>\n",
              "      <td>PG-13</td>\n",
              "      <td>1.710</td>\n",
              "    </tr>\n",
              "    <tr>\n",
              "      <th>1</th>\n",
              "      <td>300175</td>\n",
              "      <td>270338.426</td>\n",
              "      <td>1</td>\n",
              "      <td>3</td>\n",
              "      <td>lionsgate</td>\n",
              "      <td>2013</td>\n",
              "      <td>Comedy,Crime,Thriller</td>\n",
              "      <td>46705</td>\n",
              "      <td>15000000</td>\n",
              "      <td>3301046</td>\n",
              "      <td>6.500</td>\n",
              "      <td>94.983</td>\n",
              "      <td>41</td>\n",
              "      <td>no award</td>\n",
              "      <td>R</td>\n",
              "      <td>3.250</td>\n",
              "    </tr>\n",
              "    <tr>\n",
              "      <th>2</th>\n",
              "      <td>361899</td>\n",
              "      <td>256165.867</td>\n",
              "      <td>1</td>\n",
              "      <td>3</td>\n",
              "      <td>other</td>\n",
              "      <td>2012</td>\n",
              "      <td>Crime,Drama</td>\n",
              "      <td>197596</td>\n",
              "      <td>26000000</td>\n",
              "      <td>37397291</td>\n",
              "      <td>7.300</td>\n",
              "      <td>115.764</td>\n",
              "      <td>58</td>\n",
              "      <td>other award</td>\n",
              "      <td>R</td>\n",
              "      <td>2.647</td>\n",
              "    </tr>\n",
              "    <tr>\n",
              "      <th>3</th>\n",
              "      <td>308314</td>\n",
              "      <td>196622.721</td>\n",
              "      <td>3</td>\n",
              "      <td>4</td>\n",
              "      <td>lionsgate</td>\n",
              "      <td>2008</td>\n",
              "      <td>Thriller,Drama,War,Documentary,Mystery,Action</td>\n",
              "      <td>356339</td>\n",
              "      <td>15000000</td>\n",
              "      <td>15700000</td>\n",
              "      <td>7.600</td>\n",
              "      <td>130.704</td>\n",
              "      <td>94</td>\n",
              "      <td>Oscar</td>\n",
              "      <td>R</td>\n",
              "      <td>1.667</td>\n",
              "    </tr>\n",
              "    <tr>\n",
              "      <th>4</th>\n",
              "      <td>307201</td>\n",
              "      <td>159841.652</td>\n",
              "      <td>1</td>\n",
              "      <td>3</td>\n",
              "      <td>lionsgate</td>\n",
              "      <td>2013</td>\n",
              "      <td>Crime,Thriller,Mystery,Documentary</td>\n",
              "      <td>46720</td>\n",
              "      <td>27220000</td>\n",
              "      <td>8551228</td>\n",
              "      <td>6.400</td>\n",
              "      <td>105.546</td>\n",
              "      <td>37</td>\n",
              "      <td>other award</td>\n",
              "      <td>R</td>\n",
              "      <td>3.067</td>\n",
              "    </tr>\n",
              "  </tbody>\n",
              "</table>\n",
              "</div>"
            ]
          },
          "metadata": {},
          "execution_count": 3
        }
      ]
    },
    {
      "cell_type": "markdown",
      "metadata": {
        "id": "0UHJaKgsMAPL"
      },
      "source": [
        "# Pre Load data \n",
        "\n",
        "'Video_id' is defined as the index of each sample. 'cvt_per_day' is the metric, the rest of 14 columns are all characteristic features (numeric & categorical) of each video."
      ]
    },
    {
      "cell_type": "code",
      "metadata": {
        "id": "vNaF_8XZMAPT",
        "colab": {
          "base_uri": "https://localhost:8080/"
        },
        "outputId": "214f34e1-57cc-4946-ee6c-31b7f985eb6a"
      },
      "source": [
        "print 'Number of rows: ' + str(TV.shape[0])\n",
        "print 'Number of columns: ' + str(TV.shape[1])"
      ],
      "execution_count": 4,
      "outputs": [
        {
          "output_type": "stream",
          "text": [
            "Number of rows: 4226\n",
            "Number of columns: 16\n"
          ],
          "name": "stdout"
        }
      ]
    },
    {
      "cell_type": "markdown",
      "metadata": {
        "id": "Y0qivTDkMAPY"
      },
      "source": [
        "\n",
        "# 1 : Data Exploration\n",
        "\n",
        "## 1.1 Exclude erroneous data \n",
        "Each video should only appear once in the list, duplicated video will be removed."
      ]
    },
    {
      "cell_type": "code",
      "metadata": {
        "id": "0MkUyTNBMAPZ",
        "colab": {
          "base_uri": "https://localhost:8080/"
        },
        "outputId": "120bd3ba-1406-41ee-f630-4a579b93ddb8"
      },
      "source": [
        "# check duplicated entry\n",
        "if len(TV.set_index('video_id').index.get_duplicates()) == 0:\n",
        "    print 'There is no duplicated entry (video_id based).'\n",
        "    \n"
      ],
      "execution_count": 5,
      "outputs": [
        {
          "output_type": "stream",
          "text": [
            "There is no duplicated entry (video_id based).\n"
          ],
          "name": "stdout"
        },
        {
          "output_type": "stream",
          "text": [
            "/usr/local/lib/python2.7/dist-packages/ipykernel_launcher.py:2: FutureWarning: 'get_duplicates' is deprecated and will be removed in a future release. You can use idx[idx.duplicated()].unique() instead\n",
            "  \n"
          ],
          "name": "stderr"
        }
      ]
    },
    {
      "cell_type": "markdown",
      "metadata": {
        "id": "ey7hJfnPMAPc"
      },
      "source": [
        "## 1.2 Understand the numerical features\n",
        "### 1.2.1 Overview \n",
        "Note: video_id, release_year are not numerical features although they are represented by numbers."
      ]
    },
    {
      "cell_type": "code",
      "metadata": {
        "id": "4u7if4hbMAPd",
        "colab": {
          "base_uri": "https://localhost:8080/"
        },
        "outputId": "17696234-671d-4de9-8cdc-dc0b666f70e2"
      },
      "source": [
        "print TV.drop(['video_id', 'release_year'],axis=1).describe(percentiles = [.1, .25, .5, .75, .95])\n",
        "print((TV == 0).sum())\n",
        "print TV.dtypes"
      ],
      "execution_count": 6,
      "outputs": [
        {
          "output_type": "stream",
          "text": [
            "       cvt_per_day  weighted_categorical_position  \\\n",
            "count     4226.000                       4226.000   \n",
            "mean      4218.630                          7.783   \n",
            "std      13036.080                          6.134   \n",
            "min          2.188                          1.000   \n",
            "10%        141.985                          3.000   \n",
            "25%        351.169                          4.000   \n",
            "50%       1193.500                          6.000   \n",
            "75%       3356.789                          9.000   \n",
            "95%      14692.834                         22.000   \n",
            "max     307127.606                         41.000   \n",
            "\n",
            "       weighted_horizontal_poition  imdb_votes        budget     boxoffice  \\\n",
            "count                     4226.000    4226.000      4226.000      4226.000   \n",
            "mean                        28.104    6462.924   2150743.439   2536338.472   \n",
            "std                         11.864   31596.007   7176604.483   8243516.266   \n",
            "min                          1.000       0.000         0.000         0.000   \n",
            "10%                         13.000       8.000         0.000         0.000   \n",
            "25%                         20.000      81.000         0.000         0.000   \n",
            "50%                         28.000     535.000         0.000         0.000   \n",
            "75%                         36.000    3053.000   1500000.000         0.000   \n",
            "95%                         48.000   26199.500  12000000.000   8551228.000   \n",
            "max                         70.000  948630.000 107000000.000 184208848.000   \n",
            "\n",
            "       imdb_rating  duration_in_mins  metacritic_score  star_category  \n",
            "count     4226.000          4226.000          4226.000       4226.000  \n",
            "mean         5.257            89.556            15.974          0.955  \n",
            "std          2.123            21.086            26.205          0.955  \n",
            "min          0.000             4.037             0.000          0.000  \n",
            "10%          2.300            62.391             0.000          0.000  \n",
            "25%          4.300            82.602             0.000          0.000  \n",
            "50%          5.800            90.730             0.000          1.000  \n",
            "75%          6.800            99.500            41.000          1.667  \n",
            "95%          7.800           119.131            65.000          2.597  \n",
            "max         10.000           246.017           100.000          4.000  \n",
            "video_id                            0\n",
            "cvt_per_day                         0\n",
            "weighted_categorical_position       0\n",
            "weighted_horizontal_poition         0\n",
            "import_id                           0\n",
            "release_year                        0\n",
            "genres                              0\n",
            "imdb_votes                        344\n",
            "budget                           2454\n",
            "boxoffice                        3194\n",
            "imdb_rating                       344\n",
            "duration_in_mins                    0\n",
            "metacritic_score                 3012\n",
            "awards                              0\n",
            "mpaa                                0\n",
            "star_category                    1846\n",
            "dtype: int64\n",
            "video_id                           int64\n",
            "cvt_per_day                      float64\n",
            "weighted_categorical_position      int64\n",
            "weighted_horizontal_poition        int64\n",
            "import_id                         object\n",
            "release_year                       int64\n",
            "genres                            object\n",
            "imdb_votes                         int64\n",
            "budget                             int64\n",
            "boxoffice                          int64\n",
            "imdb_rating                      float64\n",
            "duration_in_mins                 float64\n",
            "metacritic_score                   int64\n",
            "awards                            object\n",
            "mpaa                              object\n",
            "star_category                    float64\n",
            "dtype: object\n"
          ],
          "name": "stdout"
        }
      ]
    },
    {
      "cell_type": "markdown",
      "metadata": {
        "id": "zaUTMQchMAPf"
      },
      "source": [
        "Among the 10 numerical features (not include video_id and release_year), 4 features have over 25% of missing data: budget, boxoffice, metacritic_score, star_category. 2 features have less than 10% of missing data: imdb_votes, imdb_rating."
      ]
    },
    {
      "cell_type": "markdown",
      "metadata": {
        "id": "--gupOAyMAPg"
      },
      "source": [
        "###  1.2.2 cvt_per_day feature "
      ]
    },
    {
      "cell_type": "code",
      "metadata": {
        "id": "fTiTFlNlMAPh",
        "colab": {
          "base_uri": "https://localhost:8080/",
          "height": 609
        },
        "outputId": "aca93e75-e701-48b2-c31b-81241d7cfc80"
      },
      "source": [
        "# cvt_per_day data explore\n",
        "plt.hist(TV['cvt_per_day'].values, bins = range(0,15000, 30), alpha = 0.5, color='r', label = 'cvt_per_day', normed = True)\n",
        "plt.legend(loc ='upper right')\n",
        "plt.title('Historgrams of cvt_per_day before data processing')\n",
        "plt.xlabel('cvt_per_day')\n",
        "plt.ylabel('density')\n",
        "plt.show()\n",
        "\n",
        "# log scale of y due to large variation\n",
        "plt.hist(TV['cvt_per_day'].values, log = True, bins = range(0,15000, 30), alpha = 0.5, color='g', label = 'cvt_per_day_log_scale', normed = True)\n",
        "plt.legend(loc ='upper right')\n",
        "plt.title('Historgrams of cvt_per_day before data processing')\n",
        "plt.xlabel('cvt_per_day_log_scale')\n",
        "plt.ylabel('density')\n",
        "plt.show()"
      ],
      "execution_count": 7,
      "outputs": [
        {
          "output_type": "stream",
          "text": [
            "/usr/local/lib/python2.7/dist-packages/matplotlib/axes/_axes.py:6571: UserWarning: The 'normed' kwarg is deprecated, and has been replaced by the 'density' kwarg.\n",
            "  warnings.warn(\"The 'normed' kwarg is deprecated, and has been \"\n"
          ],
          "name": "stderr"
        },
        {
          "output_type": "display_data",
          "data": {
            "image/png": "[encoded data removed]",
            "text/plain": [
              "<Figure size 432x288 with 1 Axes>"
            ]
          },
          "metadata": {
            "needs_background": "light"
          }
        },
        {
          "output_type": "display_data",
          "data": {
            "image/png": "[encoded data removed]",
            "text/plain": [
              "<Figure size 432x288 with 1 Axes>"
            ]
          },
          "metadata": {
            "needs_background": "light"
          }
        }
      ]
    },
    {
      "cell_type": "markdown",
      "metadata": {
        "id": "Pf2KQOdwMAPk"
      },
      "source": [
        "### 1.2.3 Correlation among numerical features"
      ]
    },
    {
      "cell_type": "code",
      "metadata": {
        "id": "fIC7aCm5MAPl",
        "colab": {
          "base_uri": "https://localhost:8080/",
          "height": 428
        },
        "outputId": "02786075-cd74-4a89-cf4c-6a7535ae79dd"
      },
      "source": [
        "# correlation of the numerical features \n",
        "corr = TV[['cvt_per_day','weighted_categorical_position','weighted_horizontal_poition'\n",
        "               ,'release_year', 'imdb_votes', 'budget', 'boxoffice' ,'imdb_rating', \n",
        "               'duration_in_mins', 'metacritic_score', 'star_category']].corr()\n",
        "\n",
        "sns.heatmap(corr, cmap=\"YlGnBu\")"
      ],
      "execution_count": 8,
      "outputs": [
        {
          "output_type": "execute_result",
          "data": {
            "text/plain": [
              "<matplotlib.axes._subplots.AxesSubplot at 0x7f7b48478390>"
            ]
          },
          "metadata": {},
          "execution_count": 8
        },
        {
          "output_type": "display_data",
          "data": {
            "image/png": "[encoded data removed]",
            "text/plain": [
              "<Figure size 432x288 with 2 Axes>"
            ]
          },
          "metadata": {
            "needs_background": "light"
          }
        }
      ]
    },
    {
      "cell_type": "code",
      "metadata": {
        "id": "L70kQBhFMAPn",
        "colab": {
          "base_uri": "https://localhost:8080/",
          "height": 390
        },
        "outputId": "fba04bd9-49fe-463e-8d57-bc33b6c3f773"
      },
      "source": [
        "corr"
      ],
      "execution_count": 9,
      "outputs": [
        {
          "output_type": "execute_result",
          "data": {
            "text/plain": [
              "                               cvt_per_day  weighted_categorical_position  \\\n",
              "cvt_per_day                          1.000                         -0.148   \n",
              "weighted_categorical_position       -0.148                          1.000   \n",
              "weighted_horizontal_poition         -0.302                         -0.084   \n",
              "release_year                         0.046                         -0.069   \n",
              "imdb_votes                           0.298                         -0.064   \n",
              "budget                               0.316                         -0.090   \n",
              "boxoffice                            0.312                         -0.074   \n",
              "imdb_rating                          0.059                         -0.116   \n",
              "duration_in_mins                     0.152                         -0.174   \n",
              "metacritic_score                     0.249                         -0.044   \n",
              "star_category                        0.247                         -0.123   \n",
              "\n",
              "                               weighted_horizontal_poition  release_year  \\\n",
              "cvt_per_day                                         -0.302         0.046   \n",
              "weighted_categorical_position                       -0.084        -0.069   \n",
              "weighted_horizontal_poition                          1.000         0.027   \n",
              "release_year                                         0.027         1.000   \n",
              "imdb_votes                                          -0.221        -0.083   \n",
              "budget                                              -0.211        -0.040   \n",
              "boxoffice                                           -0.245        -0.128   \n",
              "imdb_rating                                         -0.162        -0.199   \n",
              "duration_in_mins                                    -0.102        -0.097   \n",
              "metacritic_score                                    -0.255        -0.167   \n",
              "star_category                                       -0.168        -0.198   \n",
              "\n",
              "                               imdb_votes  budget  boxoffice  imdb_rating  \\\n",
              "cvt_per_day                         0.298   0.316      0.312        0.059   \n",
              "weighted_categorical_position      -0.064  -0.090     -0.074       -0.116   \n",
              "weighted_horizontal_poition        -0.221  -0.211     -0.245       -0.162   \n",
              "release_year                       -0.083  -0.040     -0.128       -0.199   \n",
              "imdb_votes                          1.000   0.273      0.531        0.163   \n",
              "budget                              0.273   1.000      0.505        0.106   \n",
              "boxoffice                           0.531   0.505      1.000        0.164   \n",
              "imdb_rating                         0.163   0.106      0.164        1.000   \n",
              "duration_in_mins                    0.156   0.251      0.226        0.344   \n",
              "metacritic_score                    0.322   0.315      0.465        0.347   \n",
              "star_category                       0.225   0.322      0.322        0.192   \n",
              "\n",
              "                               duration_in_mins  metacritic_score  \\\n",
              "cvt_per_day                               0.152             0.249   \n",
              "weighted_categorical_position            -0.174            -0.044   \n",
              "weighted_horizontal_poition              -0.102            -0.255   \n",
              "release_year                             -0.097            -0.167   \n",
              "imdb_votes                                0.156             0.322   \n",
              "budget                                    0.251             0.315   \n",
              "boxoffice                                 0.226             0.465   \n",
              "imdb_rating                               0.344             0.347   \n",
              "duration_in_mins                          1.000             0.327   \n",
              "metacritic_score                          0.327             1.000   \n",
              "star_category                             0.309             0.452   \n",
              "\n",
              "                               star_category  \n",
              "cvt_per_day                            0.247  \n",
              "weighted_categorical_position         -0.123  \n",
              "weighted_horizontal_poition           -0.168  \n",
              "release_year                          -0.198  \n",
              "imdb_votes                             0.225  \n",
              "budget                                 0.322  \n",
              "boxoffice                              0.322  \n",
              "imdb_rating                            0.192  \n",
              "duration_in_mins                       0.309  \n",
              "metacritic_score                       0.452  \n",
              "star_category                          1.000  "
            ],
            "text/html": [
              "<div>\n",
              "<style scoped>\n",
              "    .dataframe tbody tr th:only-of-type {\n",
              "        vertical-align: middle;\n",
              "    }\n",
              "\n",
              "    .dataframe tbody tr th {\n",
              "        vertical-align: top;\n",
              "    }\n",
              "\n",
              "    .dataframe thead th {\n",
              "        text-align: right;\n",
              "    }\n",
              "</style>\n",
              "<table border=\"1\" class=\"dataframe\">\n",
              "  <thead>\n",
              "    <tr style=\"text-align: right;\">\n",
              "      <th></th>\n",
              "      <th>cvt_per_day</th>\n",
              "      <th>weighted_categorical_position</th>\n",
              "      <th>weighted_horizontal_poition</th>\n",
              "      <th>release_year</th>\n",
              "      <th>imdb_votes</th>\n",
              "      <th>budget</th>\n",
              "      <th>boxoffice</th>\n",
              "      <th>imdb_rating</th>\n",
              "      <th>duration_in_mins</th>\n",
              "      <th>metacritic_score</th>\n",
              "      <th>star_category</th>\n",
              "    </tr>\n",
              "  </thead>\n",
              "  <tbody>\n",
              "    <tr>\n",
              "      <th>cvt_per_day</th>\n",
              "      <td>1.000</td>\n",
              "      <td>-0.148</td>\n",
              "      <td>-0.302</td>\n",
              "      <td>0.046</td>\n",
              "      <td>0.298</td>\n",
              "      <td>0.316</td>\n",
              "      <td>0.312</td>\n",
              "      <td>0.059</td>\n",
              "      <td>0.152</td>\n",
              "      <td>0.249</td>\n",
              "      <td>0.247</td>\n",
              "    </tr>\n",
              "    <tr>\n",
              "      <th>weighted_categorical_position</th>\n",
              "      <td>-0.148</td>\n",
              "      <td>1.000</td>\n",
              "      <td>-0.084</td>\n",
              "      <td>-0.069</td>\n",
              "      <td>-0.064</td>\n",
              "      <td>-0.090</td>\n",
              "      <td>-0.074</td>\n",
              "      <td>-0.116</td>\n",
              "      <td>-0.174</td>\n",
              "      <td>-0.044</td>\n",
              "      <td>-0.123</td>\n",
              "    </tr>\n",
              "    <tr>\n",
              "      <th>weighted_horizontal_poition</th>\n",
              "      <td>-0.302</td>\n",
              "      <td>-0.084</td>\n",
              "      <td>1.000</td>\n",
              "      <td>0.027</td>\n",
              "      <td>-0.221</td>\n",
              "      <td>-0.211</td>\n",
              "      <td>-0.245</td>\n",
              "      <td>-0.162</td>\n",
              "      <td>-0.102</td>\n",
              "      <td>-0.255</td>\n",
              "      <td>-0.168</td>\n",
              "    </tr>\n",
              "    <tr>\n",
              "      <th>release_year</th>\n",
              "      <td>0.046</td>\n",
              "      <td>-0.069</td>\n",
              "      <td>0.027</td>\n",
              "      <td>1.000</td>\n",
              "      <td>-0.083</td>\n",
              "      <td>-0.040</td>\n",
              "      <td>-0.128</td>\n",
              "      <td>-0.199</td>\n",
              "      <td>-0.097</td>\n",
              "      <td>-0.167</td>\n",
              "      <td>-0.198</td>\n",
              "    </tr>\n",
              "    <tr>\n",
              "      <th>imdb_votes</th>\n",
              "      <td>0.298</td>\n",
              "      <td>-0.064</td>\n",
              "      <td>-0.221</td>\n",
              "      <td>-0.083</td>\n",
              "      <td>1.000</td>\n",
              "      <td>0.273</td>\n",
              "      <td>0.531</td>\n",
              "      <td>0.163</td>\n",
              "      <td>0.156</td>\n",
              "      <td>0.322</td>\n",
              "      <td>0.225</td>\n",
              "    </tr>\n",
              "    <tr>\n",
              "      <th>budget</th>\n",
              "      <td>0.316</td>\n",
              "      <td>-0.090</td>\n",
              "      <td>-0.211</td>\n",
              "      <td>-0.040</td>\n",
              "      <td>0.273</td>\n",
              "      <td>1.000</td>\n",
              "      <td>0.505</td>\n",
              "      <td>0.106</td>\n",
              "      <td>0.251</td>\n",
              "      <td>0.315</td>\n",
              "      <td>0.322</td>\n",
              "    </tr>\n",
              "    <tr>\n",
              "      <th>boxoffice</th>\n",
              "      <td>0.312</td>\n",
              "      <td>-0.074</td>\n",
              "      <td>-0.245</td>\n",
              "      <td>-0.128</td>\n",
              "      <td>0.531</td>\n",
              "      <td>0.505</td>\n",
              "      <td>1.000</td>\n",
              "      <td>0.164</td>\n",
              "      <td>0.226</td>\n",
              "      <td>0.465</td>\n",
              "      <td>0.322</td>\n",
              "    </tr>\n",
              "    <tr>\n",
              "      <th>imdb_rating</th>\n",
              "      <td>0.059</td>\n",
              "      <td>-0.116</td>\n",
              "      <td>-0.162</td>\n",
              "      <td>-0.199</td>\n",
              "      <td>0.163</td>\n",
              "      <td>0.106</td>\n",
              "      <td>0.164</td>\n",
              "      <td>1.000</td>\n",
              "      <td>0.344</td>\n",
              "      <td>0.347</td>\n",
              "      <td>0.192</td>\n",
              "    </tr>\n",
              "    <tr>\n",
              "      <th>duration_in_mins</th>\n",
              "      <td>0.152</td>\n",
              "      <td>-0.174</td>\n",
              "      <td>-0.102</td>\n",
              "      <td>-0.097</td>\n",
              "      <td>0.156</td>\n",
              "      <td>0.251</td>\n",
              "      <td>0.226</td>\n",
              "      <td>0.344</td>\n",
              "      <td>1.000</td>\n",
              "      <td>0.327</td>\n",
              "      <td>0.309</td>\n",
              "    </tr>\n",
              "    <tr>\n",
              "      <th>metacritic_score</th>\n",
              "      <td>0.249</td>\n",
              "      <td>-0.044</td>\n",
              "      <td>-0.255</td>\n",
              "      <td>-0.167</td>\n",
              "      <td>0.322</td>\n",
              "      <td>0.315</td>\n",
              "      <td>0.465</td>\n",
              "      <td>0.347</td>\n",
              "      <td>0.327</td>\n",
              "      <td>1.000</td>\n",
              "      <td>0.452</td>\n",
              "    </tr>\n",
              "    <tr>\n",
              "      <th>star_category</th>\n",
              "      <td>0.247</td>\n",
              "      <td>-0.123</td>\n",
              "      <td>-0.168</td>\n",
              "      <td>-0.198</td>\n",
              "      <td>0.225</td>\n",
              "      <td>0.322</td>\n",
              "      <td>0.322</td>\n",
              "      <td>0.192</td>\n",
              "      <td>0.309</td>\n",
              "      <td>0.452</td>\n",
              "      <td>1.000</td>\n",
              "    </tr>\n",
              "  </tbody>\n",
              "</table>\n",
              "</div>"
            ]
          },
          "metadata": {},
          "execution_count": 9
        }
      ]
    },
    {
      "cell_type": "markdown",
      "metadata": {
        "id": "fBEuIgA8MAPq"
      },
      "source": [
        "## 1.3 Understand the categorical features¶ \n",
        "### 1.3.1 simple categorical features (import_id, mpaa, awards)"
      ]
    },
    {
      "cell_type": "code",
      "metadata": {
        "id": "FZvMoJ16MAPr",
        "colab": {
          "base_uri": "https://localhost:8080/",
          "height": 1000
        },
        "outputId": "5c0039cd-2b9b-4fee-f347-7905c64e1d5b"
      },
      "source": [
        "sns.stripplot(x='import_id', y='cvt_per_day', data=TV, jitter=True)\n",
        "plt.show()\n",
        "print TV['import_id'].value_counts().reset_index()\n",
        "\n",
        "sns.stripplot(x='mpaa', y='cvt_per_day', data=TV, jitter=True)\n",
        "plt.show()\n",
        "print TV['mpaa'].value_counts().reset_index()\n",
        "\n",
        "sns.stripplot(x='awards', y='cvt_per_day', data=TV, jitter=True)\n",
        "plt.show()\n",
        "print TV['awards'].value_counts().reset_index()"
      ],
      "execution_count": 10,
      "outputs": [
        {
          "output_type": "display_data",
          "data": {
            "image/png": "[encoded data removed]",
            "text/plain": [
              "<Figure size 432x288 with 1 Axes>"
            ]
          },
          "metadata": {
            "needs_background": "light"
          }
        },
        {
          "output_type": "stream",
          "text": [
            "       index  import_id\n",
            "0      other       2963\n",
            "1  lionsgate        677\n",
            "2        mgm        445\n",
            "3  paramount        141\n"
          ],
          "name": "stdout"
        },
        {
          "output_type": "display_data",
          "data": {
            "image/png": "[encoded data removed]",
            "text/plain": [
              "<Figure size 432x288 with 1 Axes>"
            ]
          },
          "metadata": {
            "needs_background": "light"
          }
        },
        {
          "output_type": "stream",
          "text": [
            "      index  mpaa\n",
            "0  NotRated  2158\n",
            "1         R  1158\n",
            "2     PG-13   426\n",
            "3        PG   353\n",
            "4         G   125\n",
            "5     NC-17     6\n"
          ],
          "name": "stdout"
        },
        {
          "output_type": "display_data",
          "data": {
            "image/png": "[encoded data removed]",
            "text/plain": [
              "<Figure size 432x288 with 1 Axes>"
            ]
          },
          "metadata": {
            "needs_background": "light"
          }
        },
        {
          "output_type": "stream",
          "text": [
            "          index  awards\n",
            "0      no award    2569\n",
            "1   other award    1453\n",
            "2         Oscar     141\n",
            "3  Golden Globe      44\n",
            "4         BAFTA      19\n"
          ],
          "name": "stdout"
        }
      ]
    },
    {
      "cell_type": "markdown",
      "metadata": {
        "id": "-YqxcSdNMAPu"
      },
      "source": [
        "### 1.3.2 Distribution of splited genres\n",
        "Some videos belongs to more than 1 genre, the genre of each video is splited, this would help emphasize the effect of each individual genre."
      ]
    },
    {
      "cell_type": "code",
      "metadata": {
        "id": "dKcJzEpUMAPv",
        "colab": {
          "base_uri": "https://localhost:8080/",
          "height": 381
        },
        "outputId": "66aca794-e006-4b5e-d101-fed5381e85af"
      },
      "source": [
        "# generes explore, split the genre of each video\n",
        "gen_split = TV['genres'].str.get_dummies(sep=',').sum()\n",
        "gen_split.sort_values(ascending=False).plot.bar()"
      ],
      "execution_count": 11,
      "outputs": [
        {
          "output_type": "execute_result",
          "data": {
            "text/plain": [
              "<matplotlib.axes._subplots.AxesSubplot at 0x7f7b481b5a50>"
            ]
          },
          "metadata": {},
          "execution_count": 11
        },
        {
          "output_type": "display_data",
          "data": {
            "image/png": "[encoded data removed]",
            "text/plain": [
              "<Figure size 432x288 with 1 Axes>"
            ]
          },
          "metadata": {
            "needs_background": "light"
          }
        }
      ]
    },
    {
      "cell_type": "markdown",
      "metadata": {
        "id": "csRtAtiLMAPz"
      },
      "source": [
        "6 genres including Anime, Reality, Lifestyle, Adult, LGBT, Holiday have low frequencies. Therefore, during feature processing, they will be grouped together as: 'Misc_gen' in the feature 'genres'."
      ]
    },
    {
      "cell_type": "markdown",
      "metadata": {
        "id": "FF_4iE2sMAPz"
      },
      "source": [
        "### 1.3.3 Distribution of release_year\n",
        "The release year of video varies through a wide range. Considering the popularity of a video usually decays over time, the release_year should be bucketed based on the release_year range. "
      ]
    },
    {
      "cell_type": "code",
      "metadata": {
        "id": "Xo5mJ9sHMAP0",
        "colab": {
          "base_uri": "https://localhost:8080/",
          "height": 551
        },
        "outputId": "da8546be-42d5-4acf-8259-e6b3bd577593"
      },
      "source": [
        "plt.figure(1)\n",
        "plt.hist(TV['release_year'].values, bins = range(1910, 2017, 1), alpha = 0.5, color='r', label = 'release_year', normed = True)\n",
        "plt.legend(loc ='upper left')\n",
        "plt.title('Historgrams of release_year before data processing')\n",
        "plt.xlabel('release_year')\n",
        "plt.ylabel('density')\n",
        "plt.show()\n",
        "\n",
        "print TV['release_year'].describe(percentiles = [.1, .2, .3, .4,.5, .6, .7, .8, .9])"
      ],
      "execution_count": 12,
      "outputs": [
        {
          "output_type": "display_data",
          "data": {
            "image/png": "[encoded data removed]",
            "text/plain": [
              "<Figure size 432x288 with 1 Axes>"
            ]
          },
          "metadata": {
            "needs_background": "light"
          }
        },
        {
          "output_type": "stream",
          "text": [
            "count   4226.000\n",
            "mean    2001.057\n",
            "std       17.497\n",
            "min     1916.000\n",
            "10%     1974.000\n",
            "20%     1991.000\n",
            "30%     2001.000\n",
            "40%     2006.000\n",
            "50%     2008.000\n",
            "60%     2010.000\n",
            "70%     2012.000\n",
            "80%     2013.000\n",
            "90%     2014.000\n",
            "max     2017.000\n",
            "Name: release_year, dtype: float64\n"
          ],
          "name": "stdout"
        }
      ]
    },
    {
      "cell_type": "markdown",
      "metadata": {
        "id": "-jfbfCmDMAP3"
      },
      "source": [
        "# Part 2: Feature Preprocessing"
      ]
    },
    {
      "cell_type": "markdown",
      "metadata": {
        "id": "PcEIMhQiMAP4"
      },
      "source": [
        "## 2.1 Categorical features\n",
        "There are 5 categorical features: import_id, mpaa, awards, genres, and release_year. There is no missing data in them. They can be converted into dummy/indicators.\n",
        "\n",
        "The first 3 have relatively small sub-types, they can be easily converted to dummies.\n",
        "\n",
        "The 'genres' have 27 different sub-types, 6 of them are rarely observed (refer to previous section). It's reasonable to group these 6 into 1. Note: a video may have more than one genre, in the feature preprocessing, all genres are handled individually.\n",
        "\n",
        "The release_year is bined into 10 buckets based on the year range between 1917 and 2017."
      ]
    },
    {
      "cell_type": "code",
      "metadata": {
        "id": "sHU59ECVMAP5"
      },
      "source": [
        "# Convert 3 Categorical variables into dummy variables\n",
        "d_import_id = pd.get_dummies(TV['import_id']).astype(np.int64)\n",
        "d_mpaa = pd.get_dummies(TV['mpaa']).astype(np.int64)\n",
        "d_awards = pd.get_dummies(TV['awards']).astype(np.int64)"
      ],
      "execution_count": 13,
      "outputs": []
    },
    {
      "cell_type": "code",
      "metadata": {
        "id": "cRlcGyJrMAP8"
      },
      "source": [
        "# Convert 'genres' into dummy variables\n",
        "d_genres = pd.DataFrame() \n",
        "for genre in ['Action', 'Adult', 'Adventure', 'Animation', 'Anime', 'Comedy', 'Crime', 'Documentary', 'Drama'\n",
        "          , 'Fantasy', 'Foreign/International', 'Holiday', 'Horror', 'Independent', 'Kids & Family', 'LGBT', \n",
        "          'Lifestyle', 'Music', 'Musicals','Mystery', 'Reality', 'Romance','Sci-Fi', 'Sport', 'Thriller', 'War', \n",
        "          'Western']:\n",
        "    gen_lst = []\n",
        "    for i in range(4226):        \n",
        "        if genre in TV['genres'][i]:\n",
        "            gen_lst.append(1)    \n",
        "        else: \n",
        "            gen_lst.append(0)  \n",
        "    d_genres[genre] = pd.Series(gen_lst).values\n",
        "    \n",
        "# combine 6 smallest genres into a new genre 'Misc_gen'. Use bitwise operation '|', then drop these 6 columns.\n",
        "d_genres['Misc_gen'] = d_genres['Anime']|d_genres['Reality']|d_genres['Lifestyle']|d_genres['Adult']|d_genres['LGBT']|d_genres['Holiday']\n",
        "d_genres.drop(['Anime', 'Reality','Lifestyle', 'Adult','LGBT','Holiday'], inplace=True, axis=1)"
      ],
      "execution_count": 14,
      "outputs": []
    },
    {
      "cell_type": "code",
      "metadata": {
        "id": "yRMJ2oeRMAP_"
      },
      "source": [
        "# bin release_year and convert into dummies\n",
        "bin_year = [1916, 1974, 1991, 2001, 2006, 2008, 2010, 2012, 2013, 2014,2017]\n",
        "year_range = ['1916-1974', '1974-1991', '1991-2001', '2001-2006','2006-2008','2008-2010','2010-2012','2012-2013',\n",
        "              '2013-2014','2014-2017']\n",
        "year_bin = pd.cut(TV['release_year'], bin_year, labels=year_range)\n",
        "d_year = pd.get_dummies(year_bin).astype(np.int64)"
      ],
      "execution_count": 15,
      "outputs": []
    },
    {
      "cell_type": "code",
      "metadata": {
        "scrolled": true,
        "id": "Q7MmF32eMAQD",
        "colab": {
          "base_uri": "https://localhost:8080/"
        },
        "outputId": "01d08a34-550f-4ff9-a5a1-06cf4c41ba0c"
      },
      "source": [
        "# new dataframe, drop the previous categorical features, add new dummy variables, check for null\n",
        "TV_temp = TV.drop(['import_id', 'mpaa','awards','genres', 'release_year'], axis=1)\n",
        "newTV = pd.concat([TV_temp, d_import_id, d_mpaa, d_awards, d_genres, d_year], axis=1)\n",
        "print newTV.shape\n",
        "print pd.isnull(newTV).any(1).nonzero()[0]\n",
        "print newTV.head()\n",
        "newTV_0 = newTV.copy() # a copy of newTV"
      ],
      "execution_count": 16,
      "outputs": [
        {
          "output_type": "stream",
          "text": [
            "(4226, 58)\n",
            "[]\n",
            "   video_id  cvt_per_day  weighted_categorical_position  \\\n",
            "0    385504   307127.606                              1   \n",
            "1    300175   270338.426                              1   \n",
            "2    361899   256165.867                              1   \n",
            "3    308314   196622.721                              3   \n",
            "4    307201   159841.652                              1   \n",
            "\n",
            "   weighted_horizontal_poition  imdb_votes    budget  boxoffice  imdb_rating  \\\n",
            "0                            3       69614  15000000   42930462        6.500   \n",
            "1                            3       46705  15000000    3301046        6.500   \n",
            "2                            3      197596  26000000   37397291        7.300   \n",
            "3                            4      356339  15000000   15700000        7.600   \n",
            "4                            3       46720  27220000    8551228        6.400   \n",
            "\n",
            "   duration_in_mins  metacritic_score  ...  1916-1974  1974-1991  1991-2001  \\\n",
            "0           112.301                51  ...          0          0          0   \n",
            "1            94.983                41  ...          0          0          0   \n",
            "2           115.764                58  ...          0          0          0   \n",
            "3           130.704                94  ...          0          0          0   \n",
            "4           105.546                37  ...          0          0          0   \n",
            "\n",
            "   2001-2006  2006-2008  2008-2010  2010-2012  2012-2013  2013-2014  2014-2017  \n",
            "0          0          0          0          0          1          0          0  \n",
            "1          0          0          0          0          1          0          0  \n",
            "2          0          0          0          1          0          0          0  \n",
            "3          0          1          0          0          0          0          0  \n",
            "4          0          0          0          0          1          0          0  \n",
            "\n",
            "[5 rows x 58 columns]\n"
          ],
          "name": "stdout"
        },
        {
          "output_type": "stream",
          "text": [
            "/usr/local/lib/python2.7/dist-packages/ipykernel_launcher.py:5: FutureWarning: Series.nonzero() is deprecated and will be removed in a future version.Use Series.to_numpy().nonzero() instead\n",
            "  \"\"\"\n"
          ],
          "name": "stderr"
        }
      ]
    },
    {
      "cell_type": "code",
      "metadata": {
        "id": "0qPr9r2tMAQG"
      },
      "source": [
        ""
      ],
      "execution_count": null,
      "outputs": []
    },
    {
      "cell_type": "markdown",
      "metadata": {
        "id": "ZG_vfo93MAQJ"
      },
      "source": [
        "Feature space holds 4226 observations and 58 features in total.\n",
        "\n",
        "There is NO null data. newTV_0 is kepted as the raw dataframe before any further feature processing, e.g. replace 0 with null, missing data fill etc. "
      ]
    },
    {
      "cell_type": "markdown",
      "metadata": {
        "id": "3IBlJGhpMAQM"
      },
      "source": [
        "## 2.2 Handling of missing data \n",
        "Among the 10 numerical features (not include video_id), 4 features have over 25% of missing values (shown as '0', which is not possible in reality): budget, boxoffice, metacritic_score, star_category. 2 features have less than 10% of missing data: imdb_votes, imdb_rating.\n",
        "\n",
        "There are 3242 samples have at least one missing data."
      ]
    },
    {
      "cell_type": "code",
      "metadata": {
        "id": "UgNQEwVwMAQP",
        "colab": {
          "base_uri": "https://localhost:8080/"
        },
        "outputId": "919ce092-5561-44e9-ad90-88941da5dfd9"
      },
      "source": [
        "# mark zero values as NaN\n",
        "newTV[['budget','boxoffice','metacritic_score', 'star_category','imdb_votes', 'imdb_rating']] = newTV[['budget','boxoffice','metacritic_score', 'star_category','imdb_votes', 'imdb_rating']].replace(0, np.nan)\n",
        "\n",
        "# count the number of NaN values in each column\n",
        "print newTV.isnull().sum()\n",
        "\n",
        "#count the number videos who have at least one missing data \n",
        "print 'videos having at least one null: ', newTV.isnull().any(axis=1).sum()"
      ],
      "execution_count": 17,
      "outputs": [
        {
          "output_type": "stream",
          "text": [
            "video_id                            0\n",
            "cvt_per_day                         0\n",
            "weighted_categorical_position       0\n",
            "weighted_horizontal_poition         0\n",
            "imdb_votes                        344\n",
            "budget                           2454\n",
            "boxoffice                        3194\n",
            "imdb_rating                       344\n",
            "duration_in_mins                    0\n",
            "metacritic_score                 3012\n",
            "star_category                    1846\n",
            "lionsgate                           0\n",
            "mgm                                 0\n",
            "other                               0\n",
            "paramount                           0\n",
            "G                                   0\n",
            "NC-17                               0\n",
            "NotRated                            0\n",
            "PG                                  0\n",
            "PG-13                               0\n",
            "R                                   0\n",
            "BAFTA                               0\n",
            "Golden Globe                        0\n",
            "Oscar                               0\n",
            "no award                            0\n",
            "other award                         0\n",
            "Action                              0\n",
            "Adventure                           0\n",
            "Animation                           0\n",
            "Comedy                              0\n",
            "Crime                               0\n",
            "Documentary                         0\n",
            "Drama                               0\n",
            "Fantasy                             0\n",
            "Foreign/International               0\n",
            "Horror                              0\n",
            "Independent                         0\n",
            "Kids & Family                       0\n",
            "Music                               0\n",
            "Musicals                            0\n",
            "Mystery                             0\n",
            "Romance                             0\n",
            "Sci-Fi                              0\n",
            "Sport                               0\n",
            "Thriller                            0\n",
            "War                                 0\n",
            "Western                             0\n",
            "Misc_gen                            0\n",
            "1916-1974                           0\n",
            "1974-1991                           0\n",
            "1991-2001                           0\n",
            "2001-2006                           0\n",
            "2006-2008                           0\n",
            "2008-2010                           0\n",
            "2010-2012                           0\n",
            "2012-2013                           0\n",
            "2013-2014                           0\n",
            "2014-2017                           0\n",
            "dtype: int64\n",
            "videos having at least one null:  3242\n"
          ],
          "name": "stdout"
        }
      ]
    },
    {
      "cell_type": "markdown",
      "metadata": {
        "id": "VPGFiLKLMAQX"
      },
      "source": [
        "### 2.2.1 Filling missing data with mean value\n",
        "For imdb_voates and imdb_rating, they always show 'null' together, which is reasonable, since when a imdb_votes is missing, the imdb_rating is mostly also missing. For all 6 features with missiong data, the 1st attempt is to fill in with their mean value."
      ]
    },
    {
      "cell_type": "code",
      "metadata": {
        "id": "-kFTtNxaMAQY"
      },
      "source": [
        "# fill missing values with the column mean\n",
        "newTV_i1 = newTV.copy()\n",
        "newTV_i1['budget'].fillna(newTV_i1['budget'].mean(), inplace=True)\n",
        "newTV_i1['boxoffice'].fillna(newTV_i1['boxoffice'].mean(), inplace=True)\n",
        "newTV_i1['metacritic_score'].fillna(newTV_i1['metacritic_score'].mean(), inplace=True)\n",
        "newTV_i1['star_category'].fillna(newTV_i1['star_category'].mean(), inplace=True)\n",
        "newTV_i1['imdb_votes'].fillna(newTV_i1['imdb_votes'].mean(), inplace=True)\n",
        "newTV_i1['imdb_rating'].fillna(newTV_i1['imdb_rating'].mean(), inplace=True)"
      ],
      "execution_count": 18,
      "outputs": []
    },
    {
      "cell_type": "markdown",
      "metadata": {
        "id": "qkSzS9XyMAQc"
      },
      "source": [
        "newTV_i1 have the feature processing as: fill the missing data in budget, boxoffice, metacritic_score, star_category, imdb_votes, imdb_rating with mean. It will be tested in the upcoming models. "
      ]
    },
    {
      "cell_type": "markdown",
      "metadata": {
        "id": "Gjfvy8HbMAQd"
      },
      "source": [
        "## 2.3 Feature scaling\n",
        "The impact of different scaling methods on the model performance is small. In the following model training and selections, the standard scaling (sc) data is used. "
      ]
    },
    {
      "cell_type": "code",
      "metadata": {
        "id": "HAQ9sziHMAQe",
        "colab": {
          "base_uri": "https://localhost:8080/",
          "height": 338
        },
        "outputId": "f3aa4914-da21-4c07-856e-dda00baf248f"
      },
      "source": [
        "#Standard scaling\n",
        "scale_lst = ['weighted_categorical_position', 'weighted_horizontal_poition', 'budget','boxoffice', \n",
        "             'imdb_votes','imdb_rating','duration_in_mins', 'metacritic_score','star_category']\n",
        "newTV_sc = newTV_i1.copy()\n",
        "\n",
        "sc_scale = preprocessing.StandardScaler().fit(newTV_sc[scale_lst])\n",
        "newTV_sc[scale_lst] = sc_scale.transform(newTV_sc[scale_lst])\n",
        "\n",
        "newTV_sc.head()"
      ],
      "execution_count": 19,
      "outputs": [
        {
          "output_type": "stream",
          "text": [
            "/usr/local/lib/python2.7/dist-packages/sklearn/preprocessing/data.py:645: DataConversionWarning: Data with input dtype int64, float64 were all converted to float64 by StandardScaler.\n",
            "  return self.partial_fit(X, y)\n",
            "/usr/local/lib/python2.7/dist-packages/ipykernel_launcher.py:7: DataConversionWarning: Data with input dtype int64, float64 were all converted to float64 by StandardScaler.\n",
            "  import sys\n"
          ],
          "name": "stderr"
        },
        {
          "output_type": "execute_result",
          "data": {
            "text/plain": [
              "   video_id  cvt_per_day  weighted_categorical_position  \\\n",
              "0    385504   307127.606                         -1.106   \n",
              "1    300175   270338.426                         -1.106   \n",
              "2    361899   256165.867                         -1.106   \n",
              "3    308314   196622.721                         -0.780   \n",
              "4    307201   159841.652                         -1.106   \n",
              "\n",
              "   weighted_horizontal_poition  imdb_votes  budget  boxoffice  imdb_rating  \\\n",
              "0                       -2.116       1.984   1.470      4.696        0.542   \n",
              "1                       -2.116       1.258   1.470     -1.022        0.542   \n",
              "2                       -2.116       6.043   3.108      3.898        1.100   \n",
              "3                       -2.032      11.077   1.470      0.767        1.309   \n",
              "4                       -2.116       1.258   3.290     -0.265        0.472   \n",
              "\n",
              "   duration_in_mins  metacritic_score  ...  1916-1974  1974-1991  1991-2001  \\\n",
              "0             1.079            -0.630  ...          0          0          0   \n",
              "1             0.257            -1.997  ...          0          0          0   \n",
              "2             1.243             0.327  ...          0          0          0   \n",
              "3             1.952             5.250  ...          0          0          0   \n",
              "4             0.758            -2.544  ...          0          0          0   \n",
              "\n",
              "   2001-2006  2006-2008  2008-2010  2010-2012  2012-2013  2013-2014  2014-2017  \n",
              "0          0          0          0          0          1          0          0  \n",
              "1          0          0          0          0          1          0          0  \n",
              "2          0          0          0          1          0          0          0  \n",
              "3          0          1          0          0          0          0          0  \n",
              "4          0          0          0          0          1          0          0  \n",
              "\n",
              "[5 rows x 58 columns]"
            ],
            "text/html": [
              "<div>\n",
              "<style scoped>\n",
              "    .dataframe tbody tr th:only-of-type {\n",
              "        vertical-align: middle;\n",
              "    }\n",
              "\n",
              "    .dataframe tbody tr th {\n",
              "        vertical-align: top;\n",
              "    }\n",
              "\n",
              "    .dataframe thead th {\n",
              "        text-align: right;\n",
              "    }\n",
              "</style>\n",
              "<table border=\"1\" class=\"dataframe\">\n",
              "  <thead>\n",
              "    <tr style=\"text-align: right;\">\n",
              "      <th></th>\n",
              "      <th>video_id</th>\n",
              "      <th>cvt_per_day</th>\n",
              "      <th>weighted_categorical_position</th>\n",
              "      <th>weighted_horizontal_poition</th>\n",
              "      <th>imdb_votes</th>\n",
              "      <th>budget</th>\n",
              "      <th>boxoffice</th>\n",
              "      <th>imdb_rating</th>\n",
              "      <th>duration_in_mins</th>\n",
              "      <th>metacritic_score</th>\n",
              "      <th>...</th>\n",
              "      <th>1916-1974</th>\n",
              "      <th>1974-1991</th>\n",
              "      <th>1991-2001</th>\n",
              "      <th>2001-2006</th>\n",
              "      <th>2006-2008</th>\n",
              "      <th>2008-2010</th>\n",
              "      <th>2010-2012</th>\n",
              "      <th>2012-2013</th>\n",
              "      <th>2013-2014</th>\n",
              "      <th>2014-2017</th>\n",
              "    </tr>\n",
              "  </thead>\n",
              "  <tbody>\n",
              "    <tr>\n",
              "      <th>0</th>\n",
              "      <td>385504</td>\n",
              "      <td>307127.606</td>\n",
              "      <td>-1.106</td>\n",
              "      <td>-2.116</td>\n",
              "      <td>1.984</td>\n",
              "      <td>1.470</td>\n",
              "      <td>4.696</td>\n",
              "      <td>0.542</td>\n",
              "      <td>1.079</td>\n",
              "      <td>-0.630</td>\n",
              "      <td>...</td>\n",
              "      <td>0</td>\n",
              "      <td>0</td>\n",
              "      <td>0</td>\n",
              "      <td>0</td>\n",
              "      <td>0</td>\n",
              "      <td>0</td>\n",
              "      <td>0</td>\n",
              "      <td>1</td>\n",
              "      <td>0</td>\n",
              "      <td>0</td>\n",
              "    </tr>\n",
              "    <tr>\n",
              "      <th>1</th>\n",
              "      <td>300175</td>\n",
              "      <td>270338.426</td>\n",
              "      <td>-1.106</td>\n",
              "      <td>-2.116</td>\n",
              "      <td>1.258</td>\n",
              "      <td>1.470</td>\n",
              "      <td>-1.022</td>\n",
              "      <td>0.542</td>\n",
              "      <td>0.257</td>\n",
              "      <td>-1.997</td>\n",
              "      <td>...</td>\n",
              "      <td>0</td>\n",
              "      <td>0</td>\n",
              "      <td>0</td>\n",
              "      <td>0</td>\n",
              "      <td>0</td>\n",
              "      <td>0</td>\n",
              "      <td>0</td>\n",
              "      <td>1</td>\n",
              "      <td>0</td>\n",
              "      <td>0</td>\n",
              "    </tr>\n",
              "    <tr>\n",
              "      <th>2</th>\n",
              "      <td>361899</td>\n",
              "      <td>256165.867</td>\n",
              "      <td>-1.106</td>\n",
              "      <td>-2.116</td>\n",
              "      <td>6.043</td>\n",
              "      <td>3.108</td>\n",
              "      <td>3.898</td>\n",
              "      <td>1.100</td>\n",
              "      <td>1.243</td>\n",
              "      <td>0.327</td>\n",
              "      <td>...</td>\n",
              "      <td>0</td>\n",
              "      <td>0</td>\n",
              "      <td>0</td>\n",
              "      <td>0</td>\n",
              "      <td>0</td>\n",
              "      <td>0</td>\n",
              "      <td>1</td>\n",
              "      <td>0</td>\n",
              "      <td>0</td>\n",
              "      <td>0</td>\n",
              "    </tr>\n",
              "    <tr>\n",
              "      <th>3</th>\n",
              "      <td>308314</td>\n",
              "      <td>196622.721</td>\n",
              "      <td>-0.780</td>\n",
              "      <td>-2.032</td>\n",
              "      <td>11.077</td>\n",
              "      <td>1.470</td>\n",
              "      <td>0.767</td>\n",
              "      <td>1.309</td>\n",
              "      <td>1.952</td>\n",
              "      <td>5.250</td>\n",
              "      <td>...</td>\n",
              "      <td>0</td>\n",
              "      <td>0</td>\n",
              "      <td>0</td>\n",
              "      <td>0</td>\n",
              "      <td>1</td>\n",
              "      <td>0</td>\n",
              "      <td>0</td>\n",
              "      <td>0</td>\n",
              "      <td>0</td>\n",
              "      <td>0</td>\n",
              "    </tr>\n",
              "    <tr>\n",
              "      <th>4</th>\n",
              "      <td>307201</td>\n",
              "      <td>159841.652</td>\n",
              "      <td>-1.106</td>\n",
              "      <td>-2.116</td>\n",
              "      <td>1.258</td>\n",
              "      <td>3.290</td>\n",
              "      <td>-0.265</td>\n",
              "      <td>0.472</td>\n",
              "      <td>0.758</td>\n",
              "      <td>-2.544</td>\n",
              "      <td>...</td>\n",
              "      <td>0</td>\n",
              "      <td>0</td>\n",
              "      <td>0</td>\n",
              "      <td>0</td>\n",
              "      <td>0</td>\n",
              "      <td>0</td>\n",
              "      <td>0</td>\n",
              "      <td>1</td>\n",
              "      <td>0</td>\n",
              "      <td>0</td>\n",
              "    </tr>\n",
              "  </tbody>\n",
              "</table>\n",
              "<p>5 rows × 58 columns</p>\n",
              "</div>"
            ]
          },
          "metadata": {},
          "execution_count": 19
        }
      ]
    },
    {
      "cell_type": "code",
      "metadata": {
        "id": "jEvM-vEuMAQp",
        "colab": {
          "base_uri": "https://localhost:8080/"
        },
        "outputId": "119f2d67-68bd-4de4-b3ac-74515a667485"
      },
      "source": [
        "# MinMax scaling\n",
        "newTV_mm = newTV_i1.copy()\n",
        "mm_scale = preprocessing.MinMaxScaler().fit(newTV_mm[scale_lst])\n",
        "newTV_mm[scale_lst] = mm_scale.transform(newTV_mm[scale_lst])"
      ],
      "execution_count": 20,
      "outputs": [
        {
          "output_type": "stream",
          "text": [
            "/usr/local/lib/python2.7/dist-packages/sklearn/preprocessing/data.py:334: DataConversionWarning: Data with input dtype int64, float64 were all converted to float64 by MinMaxScaler.\n",
            "  return self.partial_fit(X, y)\n"
          ],
          "name": "stderr"
        }
      ]
    },
    {
      "cell_type": "code",
      "metadata": {
        "id": "VnLjI1H_MAQs"
      },
      "source": [
        "# Robust scaling\n",
        "newTV_rs = newTV_i1.copy()\n",
        "rs_scale = preprocessing.RobustScaler().fit(newTV_mm[scale_lst])\n",
        "newTV_rs[scale_lst] = rs_scale.transform(newTV_rs[scale_lst])"
      ],
      "execution_count": 21,
      "outputs": []
    },
    {
      "cell_type": "markdown",
      "metadata": {
        "id": "1BCFCslQMAQv"
      },
      "source": [
        "# Part 3: Model Training \n",
        "\n",
        "85% of the samples will be used to train all the models, and 15% is reserved for test the models in next section."
      ]
    },
    {
      "cell_type": "code",
      "metadata": {
        "colab": {
          "base_uri": "https://localhost:8080/"
        },
        "id": "P8V4QlhsyCD_",
        "outputId": "0f95a72c-6c94-4eb1-a29c-2514a3702ea6"
      },
      "source": [
        "pip install sklearn"
      ],
      "execution_count": 24,
      "outputs": [
        {
          "output_type": "stream",
          "text": [
            "Requirement already satisfied: sklearn in /usr/local/lib/python2.7/dist-packages (0.0)\n",
            "Requirement already satisfied: scikit-learn in /usr/local/lib/python2.7/dist-packages (from sklearn) (0.20.3)\n",
            "Requirement already satisfied: scipy>=0.13.3 in /usr/local/lib/python2.7/dist-packages (from scikit-learn->sklearn) (1.2.2)\n",
            "Requirement already satisfied: numpy>=1.8.2 in /usr/local/lib/python2.7/dist-packages (from scikit-learn->sklearn) (1.16.4)\n"
          ],
          "name": "stdout"
        }
      ]
    },
    {
      "cell_type": "code",
      "metadata": {
        "id": "U1Ex4ATrMAQx"
      },
      "source": [
        "# The 15% test data will kept aside, they won't be seen by the models until final test/comparison.\n",
        "from sklearn.model_selection import train_test_split\n",
        "model_train, model_test = train_test_split(newTV_sc, test_size=0.15, random_state = 3)\n",
        "model_train_x = model_train.drop(['video_id', 'cvt_per_day'], axis = 1)\n",
        "model_test_x = model_test.drop(['video_id', 'cvt_per_day'], axis = 1)\n",
        "model_train_y = model_train['cvt_per_day']\n",
        "model_test_y = model_test['cvt_per_day']"
      ],
      "execution_count": 27,
      "outputs": []
    },
    {
      "cell_type": "markdown",
      "metadata": {
        "id": "mTvJDc28MAQ2"
      },
      "source": [
        "## 3.1 Linear models"
      ]
    },
    {
      "cell_type": "markdown",
      "metadata": {
        "id": "9x3TyC3SMAQ3"
      },
      "source": [
        "###  3.1.1 Lasso linear regression\n",
        "#### 1) All featuers are linear"
      ]
    },
    {
      "cell_type": "code",
      "metadata": {
        "id": "chbD_tWgMAQ4",
        "colab": {
          "base_uri": "https://localhost:8080/",
          "height": 312
        },
        "outputId": "75230e2e-7068-4b54-add7-156c0f53054a"
      },
      "source": [
        "#from sklearn.model_selection import train_test_split\n",
        "from sklearn import linear_model\n",
        "from sklearn.linear_model import LinearRegression, Lasso, Ridge\n",
        "from sklearn.metrics import mean_squared_error, r2_score\n",
        "from math import sqrt\n",
        "\n",
        "lr_train, lr_validate = train_test_split(model_train, test_size=0.15, random_state = 0)\n",
        "\n",
        "lr_train_x = lr_train.drop(['video_id', 'cvt_per_day'], axis = 1)\n",
        "lr_validate_x = lr_validate.drop(['video_id', 'cvt_per_day'], axis = 1)\n",
        "lr_train_y = lr_train['cvt_per_day']\n",
        "lr_validate_y = lr_validate['cvt_per_day']\n",
        "\n",
        "alphas = np.logspace (-0.3, 2.5, num=150)\n",
        "# alphas= [0.000000001]\n",
        "scores = np.empty_like(alphas)\n",
        "opt_a = float('-inf')\n",
        "max_score = float('-inf')\n",
        "for i, a in enumerate(alphas):\n",
        "    lasso = linear_model.Lasso()\n",
        "    lasso.set_params(alpha = a)\n",
        "    lasso.fit(lr_train_x, lr_train_y)\n",
        "    scores[i] = lasso.score(lr_validate_x, lr_validate_y)\n",
        "    if scores[i] > max_score:\n",
        "        max_score = scores[i]\n",
        "        opt_a = a\n",
        "        lasso_save = lasso\n",
        "plt.plot(alphas, scores, color='b', linestyle='dashed', marker='o',markerfacecolor='blue', markersize=6)\n",
        "plt.xlabel('alpha')\n",
        "plt.ylabel('score')\n",
        "plt.grid(True)\n",
        "plt.title('score vs. alpha')\n",
        "plt.show()\n",
        "print 'The optimaized alpha and score of Lasso linear is: ', opt_a, max_score"
      ],
      "execution_count": 30,
      "outputs": [
        {
          "output_type": "display_data",
          "data": {
            "image/png": "[encoded data removed]",
            "text/plain": [
              "<Figure size 432x288 with 1 Axes>"
            ]
          },
          "metadata": {
            "needs_background": "light"
          }
        },
        {
          "output_type": "stream",
          "text": [
            "The optimaized alpha and score of Lasso linear is:  122.06107238906554 0.36457853302954246\n"
          ],
          "name": "stdout"
        }
      ]
    },
    {
      "cell_type": "code",
      "metadata": {
        "id": "mtRGw2GIMAQ8",
        "colab": {
          "base_uri": "https://localhost:8080/"
        },
        "outputId": "a98fa54c-07bb-4a26-86e7-628cdfd6ebca"
      },
      "source": [
        "# combine the validate data and training data, use the optimal alpha, re-train the model\n",
        "lasso_f = linear_model.Lasso()\n",
        "lasso_f.set_params(alpha = opt_a)\n",
        "lasso_f.fit(model_train_x, model_train_y)\n",
        "\n",
        "# lasso_f is the Lasso model (linear feature), to be tested with final test data."
      ],
      "execution_count": 31,
      "outputs": [
        {
          "output_type": "execute_result",
          "data": {
            "text/plain": [
              "Lasso(alpha=122.06107238906554, copy_X=True, fit_intercept=True,\n",
              "   max_iter=1000, normalize=False, positive=False, precompute=False,\n",
              "   random_state=None, selection='cyclic', tol=0.0001, warm_start=False)"
            ]
          },
          "metadata": {},
          "execution_count": 31
        }
      ]
    },
    {
      "cell_type": "markdown",
      "metadata": {
        "id": "NYYf9H0CMARA"
      },
      "source": [
        "#### 2) Ploynomial features"
      ]
    },
    {
      "cell_type": "code",
      "metadata": {
        "id": "yozmCbZ7MARC",
        "colab": {
          "base_uri": "https://localhost:8080/",
          "height": 417
        },
        "outputId": "31ce6691-32dd-41f7-e803-2d25e97b9a19"
      },
      "source": [
        "from sklearn.preprocessing import PolynomialFeatures\n",
        "\n",
        "poly = PolynomialFeatures(2)\n",
        "\n",
        "lr_train, lr_validate = train_test_split(model_train, test_size=0.15, random_state = 0)\n",
        "\n",
        "lr_train_x = lr_train.drop(['video_id', 'cvt_per_day'], axis = 1)\n",
        "lr_validate_x = lr_validate.drop(['video_id', 'cvt_per_day'], axis = 1)\n",
        "\n",
        "lr_train_xp = poly.fit_transform(lr_train_x)\n",
        "lr_validate_xp = poly.fit_transform(lr_validate_x)\n",
        "lr_train_y = lr_train['cvt_per_day']\n",
        "lr_validate_y = lr_validate['cvt_per_day']\n",
        "\n",
        "# lr_train_xp = pd.DataFrame(data=lr_train_xp, index=data[:], columns=data[0,1:]) \n",
        "\n",
        "alphas = np.logspace (-2.6, 2.5, num=80)\n",
        "# alphas= [1]\n",
        "scores = np.empty_like(alphas)\n",
        "opt_a = float('-inf')\n",
        "max_score = float('-inf')\n",
        "for i, a in enumerate(alphas):\n",
        "    lasso = linear_model.Lasso()\n",
        "    lasso.set_params(alpha = a)\n",
        "    lasso.fit(lr_train_xp, lr_train_y)\n",
        "    scores[i] = lasso.score(lr_validate_xp, lr_validate_y)\n",
        "    if scores[i] > max_score:\n",
        "        max_score = scores[i]\n",
        "        opt_a = a\n",
        "        lasso_save = lasso\n",
        "        \n",
        "plt.plot(alphas, scores, color='b', linestyle='dashed', marker='o',markerfacecolor='blue', markersize=6)\n",
        "plt.xlabel('alpha')\n",
        "plt.ylabel('score')\n",
        "plt.grid(True)\n",
        "plt.title('score vs. alpha')\n",
        "plt.show()\n",
        "print 'The optimaized alpha and score of Lasso polynomial is: ', opt_a, max_score\n",
        "\n",
        "# combine the validate data and training data, use the optimal alpha, re-train the model\n",
        "lr_train_xp1 = poly.fit_transform(model_train_x)\n",
        "\n",
        "lasso_fp = linear_model.Lasso()\n",
        "lasso_fp.set_params(alpha = opt_a)\n",
        "lasso_fp.fit(lr_train_xp1, model_train_y)\n",
        "\n",
        "# lasso_fp is the Lasso model (polynomial feature), to be tested with test data."
      ],
      "execution_count": 32,
      "outputs": [
        {
          "output_type": "stream",
          "text": [
            "/usr/local/lib/python2.7/dist-packages/sklearn/linear_model/coordinate_descent.py:492: ConvergenceWarning: Objective did not converge. You might want to increase the number of iterations. Fitting data with very small alpha may cause precision problems.\n",
            "  ConvergenceWarning)\n"
          ],
          "name": "stderr"
        },
        {
          "output_type": "display_data",
          "data": {
            "image/png": "[encoded data removed]",
            "text/plain": [
              "<Figure size 432x288 with 1 Axes>"
            ]
          },
          "metadata": {
            "needs_background": "light"
          }
        },
        {
          "output_type": "stream",
          "text": [
            "The optimaized alpha and score of Lasso polynomial is:  150.38869469554086 0.5764942758055258\n"
          ],
          "name": "stdout"
        },
        {
          "output_type": "execute_result",
          "data": {
            "text/plain": [
              "Lasso(alpha=150.38869469554086, copy_X=True, fit_intercept=True,\n",
              "   max_iter=1000, normalize=False, positive=False, precompute=False,\n",
              "   random_state=None, selection='cyclic', tol=0.0001, warm_start=False)"
            ]
          },
          "metadata": {},
          "execution_count": 32
        }
      ]
    },
    {
      "cell_type": "code",
      "metadata": {
        "id": "MdzM7EtvMARJ",
        "colab": {
          "base_uri": "https://localhost:8080/"
        },
        "outputId": "3bee6d43-4a46-41b8-fd34-24beeeb3e092"
      },
      "source": [
        "# combine the validate data and training data, use the optimal alpha, re-train the model\n",
        "lr_train_xp1 = poly.fit_transform(model_train_x)\n",
        "\n",
        "lasso_fp = linear_model.Lasso()\n",
        "lasso_fp.set_params(alpha = opt_a)\n",
        "lasso_fp.fit(lr_train_xp1, model_train_y)\n",
        "\n",
        "# lasso_fp is the Lasso model (polynomial feature), to be tested with test data."
      ],
      "execution_count": 33,
      "outputs": [
        {
          "output_type": "execute_result",
          "data": {
            "text/plain": [
              "Lasso(alpha=150.38869469554086, copy_X=True, fit_intercept=True,\n",
              "   max_iter=1000, normalize=False, positive=False, precompute=False,\n",
              "   random_state=None, selection='cyclic', tol=0.0001, warm_start=False)"
            ]
          },
          "metadata": {},
          "execution_count": 33
        }
      ]
    },
    {
      "cell_type": "markdown",
      "metadata": {
        "id": "Azgi5qPgMARM"
      },
      "source": [
        "### 3.1.2 Ridge linear regression\n",
        "#### 1) All featuers are linear"
      ]
    },
    {
      "cell_type": "code",
      "metadata": {
        "id": "d0XwlVnaMARN",
        "colab": {
          "base_uri": "https://localhost:8080/",
          "height": 312
        },
        "outputId": "87330e23-9b80-454c-9385-f87fcef11e07"
      },
      "source": [
        "# Use the same training data set as Lasso (linear features)\n",
        "lr_train, lr_validate = train_test_split(model_train, test_size=0.15, random_state = 0)\n",
        "\n",
        "alphas = np.logspace (-10, 3, num=150)\n",
        "# alphas= [0.000000001]\n",
        "scores = np.empty_like(alphas)\n",
        "opt_a = float('-inf')\n",
        "max_score = float('-inf')\n",
        "for i, a in enumerate(alphas):\n",
        "    ridge = linear_model.Ridge()\n",
        "    ridge.set_params(alpha = a)\n",
        "    ridge.fit(lr_train_x, lr_train_y)\n",
        "    scores[i] = ridge.score(lr_validate_x, lr_validate_y)\n",
        "    if scores[i] > max_score:\n",
        "        max_score = scores[i]\n",
        "        opt_a = a\n",
        "        ridge_save = ridge\n",
        "plt.plot(alphas, scores, color='r', linestyle='dashed', marker='o',markerfacecolor='r', markersize=6)\n",
        "plt.xlabel('alpha')\n",
        "plt.ylabel('score')\n",
        "plt.grid(True)\n",
        "plt.title('score vs. alpha')\n",
        "plt.show()\n",
        "print max_score, opt_a\n"
      ],
      "execution_count": 34,
      "outputs": [
        {
          "output_type": "display_data",
          "data": {
            "image/png": "[encoded data removed]",
            "text/plain": [
              "<Figure size 432x288 with 1 Axes>"
            ]
          },
          "metadata": {
            "needs_background": "light"
          }
        },
        {
          "output_type": "stream",
          "text": [
            "0.35284634333100784 163.97026580002054\n"
          ],
          "name": "stdout"
        }
      ]
    },
    {
      "cell_type": "code",
      "metadata": {
        "id": "fHT9b56XMARQ",
        "colab": {
          "base_uri": "https://localhost:8080/"
        },
        "outputId": "8f523895-6f1a-4063-bcf8-68398f67cdd4"
      },
      "source": [
        "# add the 15% validate data, use the optimal alpha, re-train the model\n",
        "\n",
        "ridge_f = linear_model.Ridge()\n",
        "ridge_f.set_params(alpha = opt_a)\n",
        "ridge_f.fit(model_train_x, model_train_y)\n",
        "\n",
        "# ridge_f is the Ridge model (linear feature), to be tested with test data."
      ],
      "execution_count": 35,
      "outputs": [
        {
          "output_type": "execute_result",
          "data": {
            "text/plain": [
              "Ridge(alpha=163.97026580002054, copy_X=True, fit_intercept=True,\n",
              "   max_iter=None, normalize=False, random_state=None, solver='auto',\n",
              "   tol=0.001)"
            ]
          },
          "metadata": {},
          "execution_count": 35
        }
      ]
    },
    {
      "cell_type": "markdown",
      "metadata": {
        "id": "ctqgZFCEMARU"
      },
      "source": [
        "#### 2) Polynomial featuers"
      ]
    },
    {
      "cell_type": "code",
      "metadata": {
        "id": "vSA9wUi6MARW",
        "colab": {
          "base_uri": "https://localhost:8080/",
          "height": 312
        },
        "outputId": "d39e8bf8-ff14-449d-8298-dbbb7267878a"
      },
      "source": [
        "# Use the same training data set as Lasso (polynomial features)\n",
        "from sklearn.preprocessing import PolynomialFeatures\n",
        "poly = PolynomialFeatures(2)\n",
        "\n",
        "lr_train, lr_validate = train_test_split(model_train, test_size=0.15, random_state = 0)\n",
        "\n",
        "lr_train_x = lr_train.drop(['video_id', 'cvt_per_day'], axis = 1)\n",
        "lr_validate_x = lr_validate.drop(['video_id', 'cvt_per_day'], axis = 1)\n",
        "lr_train_y = lr_train['cvt_per_day']\n",
        "lr_validate_y = lr_validate['cvt_per_day']\n",
        "\n",
        "lr_train_xp = poly.fit_transform(lr_train_x)\n",
        "lr_validate_xp = poly.fit_transform(lr_validate_x)\n",
        "\n",
        "alphas = np.logspace (-2, 2, num=20)\n",
        "# alphas= [1]\n",
        "scores = np.empty_like(alphas)\n",
        "opt_a = float('-inf')\n",
        "max_score = float('-inf')\n",
        "for i, a in enumerate(alphas):\n",
        "    ridge = linear_model.Ridge()\n",
        "    ridge.set_params(alpha = a)\n",
        "    ridge.fit(lr_train_xp, lr_train_y)\n",
        "    scores[i] = ridge.score(lr_validate_xp, lr_validate_y)\n",
        "    if scores[i] > max_score:\n",
        "        max_score = scores[i]\n",
        "        opt_a = a\n",
        "        ridge_save = ridge\n",
        "        \n",
        "plt.plot(alphas, scores, color='brown', linestyle='dashed', marker='o',markerfacecolor='g', markersize=6)\n",
        "plt.xlabel('alpha')\n",
        "plt.ylabel('score')\n",
        "plt.grid(True)\n",
        "plt.title('score vs. alpha')\n",
        "plt.show()\n",
        "print max_score, opt_a\n",
        "\n"
      ],
      "execution_count": 36,
      "outputs": [
        {
          "output_type": "display_data",
          "data": {
            "image/png": "[encoded data removed]",
            "text/plain": [
              "<Figure size 432x288 with 1 Axes>"
            ]
          },
          "metadata": {
            "needs_background": "light"
          }
        },
        {
          "output_type": "stream",
          "text": [
            "0.4718899469062102 14.38449888287663\n"
          ],
          "name": "stdout"
        }
      ]
    },
    {
      "cell_type": "code",
      "metadata": {
        "id": "MLmDGl-qMARc",
        "colab": {
          "base_uri": "https://localhost:8080/"
        },
        "outputId": "161bd029-9c94-43f6-c4d0-841dee1bfecd"
      },
      "source": [
        "# add the 15% validate data, use the optimal alpha, re-train the model\n",
        "lr_train_xp1 = poly.fit_transform(model_train_x)\n",
        "\n",
        "ridge_fp = linear_model.Ridge()\n",
        "ridge_fp.set_params(alpha = opt_a)\n",
        "ridge_fp.fit(lr_train_xp1, model_train_y)\n",
        "\n",
        "# ridge_fp is the Ridge model (polynomial feature), to be tested with test data."
      ],
      "execution_count": 37,
      "outputs": [
        {
          "output_type": "execute_result",
          "data": {
            "text/plain": [
              "Ridge(alpha=14.38449888287663, copy_X=True, fit_intercept=True, max_iter=None,\n",
              "   normalize=False, random_state=None, solver='auto', tol=0.001)"
            ]
          },
          "metadata": {},
          "execution_count": 37
        }
      ]
    },
    {
      "cell_type": "markdown",
      "metadata": {
        "id": "_t-10uoyMARg"
      },
      "source": [
        "## 3.2: Non-linear model\n",
        "Random forest with Gridsearch cross-validation is used. The 'mean_scores' is used to narrow down the paramenters of n_estimator (number of trees in the forest) and Max_depth (maximum depth of the tree)."
      ]
    },
    {
      "cell_type": "markdown",
      "metadata": {
        "id": "0ZNPeNBHMARh"
      },
      "source": [
        "### Random forest"
      ]
    },
    {
      "cell_type": "code",
      "metadata": {
        "id": "eMZnKjf_MARh",
        "colab": {
          "base_uri": "https://localhost:8080/"
        },
        "outputId": "c7173ba8-b56b-40b2-ea2c-ecfb350d78de"
      },
      "source": [
        "from sklearn.ensemble import RandomForestRegressor\n",
        "from sklearn.model_selection import cross_val_score\n",
        "from sklearn.model_selection import cross_validate\n",
        "# from sklearn.grid_search import GridSearchCV\n",
        "from sklearn.model_selection import GridSearchCV\n",
        "\n",
        "rf_train, rf_test = train_test_split(model_train, test_size=0.15, random_state = 0)\n",
        "\n",
        "rf_train_x = rf_train.drop(['video_id', 'cvt_per_day'], axis = 1)\n",
        "rf_test_x = rf_test.drop(['video_id', 'cvt_per_day'], axis = 1)\n",
        "rf_train_y = rf_train['cvt_per_day']\n",
        "rf_test_y = rf_test['cvt_per_day']\n",
        "\n",
        "param_grid = {\n",
        "                 'n_estimators': [54, 55, 56, 57, 58, 59, 60, 62],\n",
        "                 'max_depth': [12, 13, 14, 15, 16, 17]\n",
        "             }\n",
        "\n",
        "rf = RandomForestRegressor(random_state=2, max_features = 'sqrt')\n",
        "grid_rf = GridSearchCV(rf, param_grid, cv=5)\n",
        "grid_rf.fit(rf_train_x, rf_train_y)"
      ],
      "execution_count": 40,
      "outputs": [
        {
          "output_type": "execute_result",
          "data": {
            "text/plain": [
              "GridSearchCV(cv=5, error_score='raise-deprecating',\n",
              "       estimator=RandomForestRegressor(bootstrap=True, criterion='mse', max_depth=None,\n",
              "           max_features='sqrt', max_leaf_nodes=None,\n",
              "           min_impurity_decrease=0.0, min_impurity_split=None,\n",
              "           min_samples_leaf=1, min_samples_split=2,\n",
              "           min_weight_fraction_leaf=0.0, n_estimators='warn', n_jobs=None,\n",
              "           oob_score=False, random_state=2, verbose=0, warm_start=False),\n",
              "       fit_params=None, iid='warn', n_jobs=None,\n",
              "       param_grid={'n_estimators': [54, 55, 56, 57, 58, 59, 60, 62], 'max_depth': [12, 13, 14, 15, 16, 17]},\n",
              "       pre_dispatch='2*n_jobs', refit=True, return_train_score='warn',\n",
              "       scoring=None, verbose=0)"
            ]
          },
          "metadata": {},
          "execution_count": 40
        }
      ]
    },
    {
      "cell_type": "code",
      "metadata": {
        "id": "B9QWbT9KMARk",
        "colab": {
          "base_uri": "https://localhost:8080/"
        },
        "outputId": "90fd3d68-8087-4463-b690-e05e3a1f4a83"
      },
      "source": [
        "grid_rf.best_params_ "
      ],
      "execution_count": 41,
      "outputs": [
        {
          "output_type": "execute_result",
          "data": {
            "text/plain": [
              "{'max_depth': 14, 'n_estimators': 55}"
            ]
          },
          "metadata": {},
          "execution_count": 41
        }
      ]
    },
    {
      "cell_type": "code",
      "metadata": {
        "id": "qM1kpgXqMARn",
        "colab": {
          "base_uri": "https://localhost:8080/"
        },
        "outputId": "9a280926-c337-41fe-b094-cd2ec33fe8b7"
      },
      "source": [
        "grid_rf.cv_results_"
      ],
      "execution_count": 42,
      "outputs": [
        {
          "output_type": "stream",
          "text": [
            "/usr/local/lib/python2.7/dist-packages/sklearn/utils/deprecation.py:125: FutureWarning: You are accessing a training score ('mean_train_score'), which will not be available by default any more in 0.21. If you need training scores, please set return_train_score=True\n",
            "  warnings.warn(*warn_args, **warn_kwargs)\n",
            "/usr/local/lib/python2.7/dist-packages/sklearn/utils/deprecation.py:125: FutureWarning: You are accessing a training score ('split0_train_score'), which will not be available by default any more in 0.21. If you need training scores, please set return_train_score=True\n",
            "  warnings.warn(*warn_args, **warn_kwargs)\n",
            "/usr/local/lib/python2.7/dist-packages/sklearn/utils/deprecation.py:125: FutureWarning: You are accessing a training score ('split1_train_score'), which will not be available by default any more in 0.21. If you need training scores, please set return_train_score=True\n",
            "  warnings.warn(*warn_args, **warn_kwargs)\n",
            "/usr/local/lib/python2.7/dist-packages/sklearn/utils/deprecation.py:125: FutureWarning: You are accessing a training score ('split2_train_score'), which will not be available by default any more in 0.21. If you need training scores, please set return_train_score=True\n",
            "  warnings.warn(*warn_args, **warn_kwargs)\n",
            "/usr/local/lib/python2.7/dist-packages/sklearn/utils/deprecation.py:125: FutureWarning: You are accessing a training score ('split3_train_score'), which will not be available by default any more in 0.21. If you need training scores, please set return_train_score=True\n",
            "  warnings.warn(*warn_args, **warn_kwargs)\n",
            "/usr/local/lib/python2.7/dist-packages/sklearn/utils/deprecation.py:125: FutureWarning: You are accessing a training score ('split4_train_score'), which will not be available by default any more in 0.21. If you need training scores, please set return_train_score=True\n",
            "  warnings.warn(*warn_args, **warn_kwargs)\n",
            "/usr/local/lib/python2.7/dist-packages/sklearn/utils/deprecation.py:125: FutureWarning: You are accessing a training score ('std_train_score'), which will not be available by default any more in 0.21. If you need training scores, please set return_train_score=True\n",
            "  warnings.warn(*warn_args, **warn_kwargs)\n"
          ],
          "name": "stderr"
        },
        {
          "output_type": "execute_result",
          "data": {
            "text/plain": [
              "{'mean_fit_time': array([0.20194316, 0.20451822, 0.20788894, 0.21459942, 0.21685243,\n",
              "        0.21859918, 0.22701583, 0.23211541, 0.21325493, 0.21500878,\n",
              "        0.21741757, 0.2209456 , 0.23106923, 0.23225737, 0.23637705,\n",
              "        0.24444461, 0.24053011, 0.22510538, 0.23014321, 0.23311577,\n",
              "        0.23835311, 0.24250836, 0.2450654 , 0.25727453, 0.2322298 ,\n",
              "        0.23616347, 0.24192343, 0.24803143, 0.25244317, 0.25517855,\n",
              "        0.26660337, 0.26898766, 0.24407682, 0.2453402 , 0.25211983,\n",
              "        0.25662761, 0.26014376, 0.26747341, 0.26909742, 0.29143777,\n",
              "        0.24823723, 0.25350833, 0.26041303, 0.26408143, 0.27111378,\n",
              "        0.27126036, 0.28076763, 0.28816333]),\n",
              " 'mean_score_time': array([0.00808501, 0.00814934, 0.00840969, 0.00830827, 0.00842457,\n",
              "        0.00916057, 0.0092936 , 0.00917082, 0.00832906, 0.00878677,\n",
              "        0.00855536, 0.00878496, 0.0092103 , 0.00951209, 0.00954719,\n",
              "        0.01048765, 0.00893316, 0.00887399, 0.009056  , 0.00915399,\n",
              "        0.00922904, 0.00953045, 0.00964179, 0.0104948 , 0.00979185,\n",
              "        0.00987034, 0.01001263, 0.01054258, 0.01049523, 0.01050835,\n",
              "        0.01086955, 0.01045933, 0.0097744 , 0.00972786, 0.00993056,\n",
              "        0.010285  , 0.0105866 , 0.01030636, 0.01045313, 0.0107162 ,\n",
              "        0.00995235, 0.01039858, 0.01114221, 0.01038337, 0.01125026,\n",
              "        0.01080899, 0.01084437, 0.01112647]),\n",
              " 'mean_test_score': array([0.52765939, 0.52986418, 0.5310042 , 0.52942151, 0.5291002 ,\n",
              "        0.52972028, 0.52974572, 0.52814607, 0.51095009, 0.51423648,\n",
              "        0.51531617, 0.51322975, 0.51401159, 0.51410111, 0.5130039 ,\n",
              "        0.50814567, 0.53509243, 0.53745196, 0.53705252, 0.53336597,\n",
              "        0.53629431, 0.53357212, 0.53394696, 0.53309336, 0.50309897,\n",
              "        0.505758  , 0.50765854, 0.50614838, 0.50713192, 0.50609285,\n",
              "        0.50732988, 0.50571725, 0.5125176 , 0.51568448, 0.51806781,\n",
              "        0.51541851, 0.51626624, 0.51653358, 0.51394871, 0.51136621,\n",
              "        0.49176898, 0.49572964, 0.49653448, 0.49521617, 0.49923811,\n",
              "        0.49997921, 0.499859  , 0.49814625]),\n",
              " 'mean_train_score': array([0.90952734, 0.9097996 , 0.91103047, 0.91204881, 0.91180765,\n",
              "        0.91118318, 0.91231937, 0.91297582, 0.9089396 , 0.9093938 ,\n",
              "        0.91016001, 0.91145628, 0.91128566, 0.91092792, 0.91199365,\n",
              "        0.91277472, 0.91528953, 0.91560275, 0.91620456, 0.91743465,\n",
              "        0.91765099, 0.91739401, 0.91840149, 0.91903335, 0.91722305,\n",
              "        0.9175435 , 0.91807264, 0.91942746, 0.91925303, 0.91865398,\n",
              "        0.91986497, 0.9205178 , 0.91790917, 0.91825002, 0.91889307,\n",
              "        0.9202358 , 0.92053466, 0.91975095, 0.92109274, 0.92193618,\n",
              "        0.91624103, 0.91679032, 0.91757211, 0.91890146, 0.91899538,\n",
              "        0.91850606, 0.91986045, 0.92068292]),\n",
              " 'param_max_depth': masked_array(data=[12, 12, 12, 12, 12, 12, 12, 12, 13, 13, 13, 13, 13, 13,\n",
              "                    13, 13, 14, 14, 14, 14, 14, 14, 14, 14, 15, 15, 15, 15,\n",
              "                    15, 15, 15, 15, 16, 16, 16, 16, 16, 16, 16, 16, 17, 17,\n",
              "                    17, 17, 17, 17, 17, 17],\n",
              "              mask=[False, False, False, False, False, False, False, False,\n",
              "                    False, False, False, False, False, False, False, False,\n",
              "                    False, False, False, False, False, False, False, False,\n",
              "                    False, False, False, False, False, False, False, False,\n",
              "                    False, False, False, False, False, False, False, False,\n",
              "                    False, False, False, False, False, False, False, False],\n",
              "        fill_value='?',\n",
              "             dtype=object),\n",
              " 'param_n_estimators': masked_array(data=[54, 55, 56, 57, 58, 59, 60, 62, 54, 55, 56, 57, 58, 59,\n",
              "                    60, 62, 54, 55, 56, 57, 58, 59, 60, 62, 54, 55, 56, 57,\n",
              "                    58, 59, 60, 62, 54, 55, 56, 57, 58, 59, 60, 62, 54, 55,\n",
              "                    56, 57, 58, 59, 60, 62],\n",
              "              mask=[False, False, False, False, False, False, False, False,\n",
              "                    False, False, False, False, False, False, False, False,\n",
              "                    False, False, False, False, False, False, False, False,\n",
              "                    False, False, False, False, False, False, False, False,\n",
              "                    False, False, False, False, False, False, False, False,\n",
              "                    False, False, False, False, False, False, False, False],\n",
              "        fill_value='?',\n",
              "             dtype=object),\n",
              " 'params': [{'max_depth': 12, 'n_estimators': 54},\n",
              "  {'max_depth': 12, 'n_estimators': 55},\n",
              "  {'max_depth': 12, 'n_estimators': 56},\n",
              "  {'max_depth': 12, 'n_estimators': 57},\n",
              "  {'max_depth': 12, 'n_estimators': 58},\n",
              "  {'max_depth': 12, 'n_estimators': 59},\n",
              "  {'max_depth': 12, 'n_estimators': 60},\n",
              "  {'max_depth': 12, 'n_estimators': 62},\n",
              "  {'max_depth': 13, 'n_estimators': 54},\n",
              "  {'max_depth': 13, 'n_estimators': 55},\n",
              "  {'max_depth': 13, 'n_estimators': 56},\n",
              "  {'max_depth': 13, 'n_estimators': 57},\n",
              "  {'max_depth': 13, 'n_estimators': 58},\n",
              "  {'max_depth': 13, 'n_estimators': 59},\n",
              "  {'max_depth': 13, 'n_estimators': 60},\n",
              "  {'max_depth': 13, 'n_estimators': 62},\n",
              "  {'max_depth': 14, 'n_estimators': 54},\n",
              "  {'max_depth': 14, 'n_estimators': 55},\n",
              "  {'max_depth': 14, 'n_estimators': 56},\n",
              "  {'max_depth': 14, 'n_estimators': 57},\n",
              "  {'max_depth': 14, 'n_estimators': 58},\n",
              "  {'max_depth': 14, 'n_estimators': 59},\n",
              "  {'max_depth': 14, 'n_estimators': 60},\n",
              "  {'max_depth': 14, 'n_estimators': 62},\n",
              "  {'max_depth': 15, 'n_estimators': 54},\n",
              "  {'max_depth': 15, 'n_estimators': 55},\n",
              "  {'max_depth': 15, 'n_estimators': 56},\n",
              "  {'max_depth': 15, 'n_estimators': 57},\n",
              "  {'max_depth': 15, 'n_estimators': 58},\n",
              "  {'max_depth': 15, 'n_estimators': 59},\n",
              "  {'max_depth': 15, 'n_estimators': 60},\n",
              "  {'max_depth': 15, 'n_estimators': 62},\n",
              "  {'max_depth': 16, 'n_estimators': 54},\n",
              "  {'max_depth': 16, 'n_estimators': 55},\n",
              "  {'max_depth': 16, 'n_estimators': 56},\n",
              "  {'max_depth': 16, 'n_estimators': 57},\n",
              "  {'max_depth': 16, 'n_estimators': 58},\n",
              "  {'max_depth': 16, 'n_estimators': 59},\n",
              "  {'max_depth': 16, 'n_estimators': 60},\n",
              "  {'max_depth': 16, 'n_estimators': 62},\n",
              "  {'max_depth': 17, 'n_estimators': 54},\n",
              "  {'max_depth': 17, 'n_estimators': 55},\n",
              "  {'max_depth': 17, 'n_estimators': 56},\n",
              "  {'max_depth': 17, 'n_estimators': 57},\n",
              "  {'max_depth': 17, 'n_estimators': 58},\n",
              "  {'max_depth': 17, 'n_estimators': 59},\n",
              "  {'max_depth': 17, 'n_estimators': 60},\n",
              "  {'max_depth': 17, 'n_estimators': 62}],\n",
              " 'rank_test_score': array([16, 10,  9, 13, 14, 12, 11, 15, 31, 23, 22, 27, 25, 24, 28, 32,  4,\n",
              "         1,  2,  7,  3,  6,  5,  8, 40, 38, 33, 36, 35, 37, 34, 39, 29, 20,\n",
              "        17, 21, 19, 18, 26, 30, 48, 46, 45, 47, 43, 41, 42, 44],\n",
              "       dtype=int32),\n",
              " 'split0_test_score': array([0.42301795, 0.42715398, 0.42669942, 0.42156912, 0.41917115,\n",
              "        0.42237084, 0.42565869, 0.42818025, 0.43043043, 0.43416186,\n",
              "        0.43619781, 0.43140079, 0.42665508, 0.42591358, 0.42994387,\n",
              "        0.43108146, 0.40257283, 0.40745229, 0.4095722 , 0.40480644,\n",
              "        0.40848151, 0.40767618, 0.40921328, 0.41094359, 0.42931509,\n",
              "        0.43340381, 0.43053384, 0.42452152, 0.4233848 , 0.42536618,\n",
              "        0.42496738, 0.42785167, 0.42701586, 0.4307846 , 0.43498147,\n",
              "        0.43006578, 0.42894377, 0.43042114, 0.4288876 , 0.42964792,\n",
              "        0.41599939, 0.41920476, 0.41575876, 0.41013424, 0.41737253,\n",
              "        0.4190225 , 0.42171591, 0.42426228]),\n",
              " 'split0_train_score': array([0.92548316, 0.92499722, 0.92573812, 0.92669808, 0.92625867,\n",
              "        0.92539537, 0.92538033, 0.92597595, 0.92431863, 0.92400088,\n",
              "        0.92432537, 0.92562622, 0.92503773, 0.9244583 , 0.92427074,\n",
              "        0.92472465, 0.93293104, 0.93245139, 0.93327264, 0.9343581 ,\n",
              "        0.93397384, 0.93332719, 0.93314928, 0.93336084, 0.93549724,\n",
              "        0.93508189, 0.93542153, 0.93621256, 0.93546816, 0.93452036,\n",
              "        0.93456577, 0.93478053, 0.93552884, 0.93511446, 0.93537662,\n",
              "        0.93628386, 0.93609818, 0.93556971, 0.93559556, 0.93631573,\n",
              "        0.93192191, 0.93155403, 0.93203917, 0.93305851, 0.93289495,\n",
              "        0.9325743 , 0.93306397, 0.9334145 ]),\n",
              " 'split1_test_score': array([0.47012626, 0.47467032, 0.47527819, 0.47428102, 0.47119363,\n",
              "        0.47001554, 0.46762924, 0.46898939, 0.4030352 , 0.40898265,\n",
              "        0.40663481, 0.40556739, 0.40838204, 0.40884434, 0.40703155,\n",
              "        0.40563049, 0.44545   , 0.44979216, 0.45129895, 0.44311522,\n",
              "        0.44447863, 0.43965376, 0.44246556, 0.44705402, 0.40137442,\n",
              "        0.40667956, 0.40819228, 0.4010897 , 0.40446861, 0.40520882,\n",
              "        0.40415839, 0.40666833, 0.41009086, 0.41545427, 0.41669336,\n",
              "        0.41648064, 0.42126523, 0.42188342, 0.41465434, 0.41741173,\n",
              "        0.34689932, 0.35621471, 0.36306516, 0.35429478, 0.35669947,\n",
              "        0.36022957, 0.35976153, 0.36203176]),\n",
              " 'split1_train_score': array([0.91550057, 0.91487404, 0.91512799, 0.91542169, 0.91512462,\n",
              "        0.91420514, 0.9148994 , 0.91604883, 0.91175113, 0.91138413,\n",
              "        0.9118807 , 0.91281684, 0.91273889, 0.91211106, 0.91318986,\n",
              "        0.91457331, 0.9147947 , 0.91403534, 0.91433973, 0.91527174,\n",
              "        0.916141  , 0.91707502, 0.9175675 , 0.91869627, 0.91795305,\n",
              "        0.91712073, 0.91743978, 0.91912076, 0.91910863, 0.91889727,\n",
              "        0.92018186, 0.92146701, 0.91925012, 0.9183503 , 0.91878897,\n",
              "        0.92033773, 0.92004527, 0.91937185, 0.92056656, 0.92183947,\n",
              "        0.91484397, 0.91445993, 0.91524615, 0.91606797, 0.91661293,\n",
              "        0.91660174, 0.91793439, 0.91961098]),\n",
              " 'split2_test_score': array([0.71633063, 0.72005232, 0.72203968, 0.72281764, 0.72796029,\n",
              "        0.72344875, 0.72275761, 0.72423366, 0.71210696, 0.71634445,\n",
              "        0.71537714, 0.72118911, 0.7244592 , 0.7225416 , 0.71873095,\n",
              "        0.71527851, 0.71569362, 0.71943224, 0.7204273 , 0.71997974,\n",
              "        0.72347399, 0.72446333, 0.72471916, 0.72586592, 0.6960515 ,\n",
              "        0.70100408, 0.69919628, 0.70166845, 0.70429673, 0.70447212,\n",
              "        0.70587189, 0.70481248, 0.69351934, 0.69899393, 0.70149377,\n",
              "        0.69784382, 0.7035952 , 0.70440713, 0.70277036, 0.70582813,\n",
              "        0.68826798, 0.6944656 , 0.69293257, 0.69667672, 0.70102136,\n",
              "        0.70003263, 0.6960922 , 0.69837994]),\n",
              " 'split2_train_score': array([0.89919051, 0.89985364, 0.90191347, 0.9025231 , 0.90237918,\n",
              "        0.90155975, 0.90283039, 0.90293355, 0.90054112, 0.9013051 ,\n",
              "        0.90218705, 0.90326729, 0.9023555 , 0.90145443, 0.90250205,\n",
              "        0.90236723, 0.90445655, 0.90537124, 0.90614474, 0.90707542,\n",
              "        0.90733719, 0.90634063, 0.9080092 , 0.90834655, 0.90460102,\n",
              "        0.90572544, 0.90631626, 0.90756932, 0.90713868, 0.90627943,\n",
              "        0.90760779, 0.90778002, 0.90189388, 0.90316564, 0.90405802,\n",
              "        0.90564527, 0.90531   , 0.90441123, 0.90628302, 0.90721509,\n",
              "        0.90854242, 0.9096005 , 0.91012659, 0.91148104, 0.91103265,\n",
              "        0.91045982, 0.91208799, 0.91261142]),\n",
              " 'split3_test_score': array([0.48721848, 0.48971135, 0.48826336, 0.48529506, 0.48325443,\n",
              "        0.48548139, 0.48334105, 0.48308613, 0.5005854 , 0.50359234,\n",
              "        0.50175857, 0.49986865, 0.50053907, 0.49740141, 0.49219877,\n",
              "        0.48960027, 0.5257186 , 0.530646  , 0.53040502, 0.52456258,\n",
              "        0.5243599 , 0.52032659, 0.52016741, 0.52088599, 0.50146658,\n",
              "        0.50509301, 0.50911552, 0.50684781, 0.50341392, 0.49670997,\n",
              "        0.49570429, 0.49699629, 0.48708448, 0.49080795, 0.49198289,\n",
              "        0.49243751, 0.49218222, 0.49035119, 0.48726834, 0.48642052,\n",
              "        0.47644048, 0.47989052, 0.48464479, 0.48270057, 0.48465825,\n",
              "        0.48127121, 0.48379824, 0.48312651]),\n",
              " 'split3_train_score': array([0.90226686, 0.90314044, 0.90437155, 0.90608025, 0.90571283,\n",
              "        0.90579717, 0.90776431, 0.90889206, 0.90360907, 0.90461203,\n",
              "        0.90496486, 0.90673093, 0.90689475, 0.90732059, 0.9092897 ,\n",
              "        0.91114371, 0.91504022, 0.91589528, 0.9166267 , 0.91814291,\n",
              "        0.9177607 , 0.91763366, 0.91936238, 0.92047342, 0.91059637,\n",
              "        0.91152929, 0.91221782, 0.91407043, 0.91342705, 0.91269658,\n",
              "        0.91461326, 0.91613769, 0.91589848, 0.91678475, 0.91744535,\n",
              "        0.91874073, 0.91945979, 0.91849203, 0.92031963, 0.92165862,\n",
              "        0.90937882, 0.91042498, 0.91121936, 0.91323286, 0.91310422,\n",
              "        0.91238518, 0.91415682, 0.91549364]),\n",
              " 'split4_test_score': array([0.54156018, 0.53767998, 0.54268954, 0.54309488, 0.54387064,\n",
              "        0.54724118, 0.54929807, 0.5361803 , 0.5085716 , 0.50807362,\n",
              "        0.51659241, 0.50809255, 0.50999393, 0.51578002, 0.51708697,\n",
              "        0.49909247, 0.58609522, 0.57999562, 0.57360808, 0.57441866,\n",
              "        0.58073072, 0.57578813, 0.57321109, 0.56074256, 0.48725864,\n",
              "        0.4825705 , 0.49123027, 0.49659995, 0.50007789, 0.49867969,\n",
              "        0.50592615, 0.4922211 , 0.5448888 , 0.54238461, 0.54518924,\n",
              "        0.54026787, 0.53533659, 0.53559338, 0.53615556, 0.51749194,\n",
              "        0.53127729, 0.52890099, 0.52630039, 0.5323148 , 0.53647603,\n",
              "        0.53937398, 0.53796318, 0.52294676]),\n",
              " 'split4_train_score': array([0.90519558, 0.90613265, 0.90800121, 0.90952091, 0.90956294,\n",
              "        0.90895849, 0.91072241, 0.91102871, 0.90447806, 0.90566686,\n",
              "        0.90744205, 0.90884011, 0.90940142, 0.90929523, 0.91071589,\n",
              "        0.91106472, 0.90922515, 0.9102605 , 0.91063897, 0.91232509,\n",
              "        0.91304221, 0.91259358, 0.9139191 , 0.91428969, 0.91746755,\n",
              "        0.91826013, 0.9189678 , 0.92016421, 0.92112262, 0.92087626,\n",
              "        0.9223562 , 0.92242374, 0.91697454, 0.91783498, 0.91879638,\n",
              "        0.92017139, 0.92176008, 0.92090996, 0.92269893, 0.92265201,\n",
              "        0.91651801, 0.91791219, 0.91922926, 0.92066689, 0.92133213,\n",
              "        0.92050927, 0.92205906, 0.92228404]),\n",
              " 'std_fit_time': array([0.0015159 , 0.00377733, 0.00313112, 0.00252199, 0.00647778,\n",
              "        0.00202079, 0.00615695, 0.00614823, 0.00238468, 0.00188299,\n",
              "        0.00209864, 0.00170515, 0.00519352, 0.003235  , 0.00416237,\n",
              "        0.00669254, 0.03859676, 0.00386193, 0.00254224, 0.00287935,\n",
              "        0.00241017, 0.00377759, 0.0025719 , 0.01060066, 0.00456093,\n",
              "        0.00208648, 0.00321971, 0.00299609, 0.00243723, 0.00338199,\n",
              "        0.01045798, 0.0035262 , 0.00363766, 0.00255864, 0.00345248,\n",
              "        0.00264089, 0.00265647, 0.0041003 , 0.00460482, 0.03390475,\n",
              "        0.00315652, 0.00271676, 0.00342494, 0.0026747 , 0.00360514,\n",
              "        0.00194212, 0.00435091, 0.00296226]),\n",
              " 'std_score_time': array([2.64013328e-04, 3.82105179e-05, 4.22561010e-04, 1.90864316e-04,\n",
              "        2.49786556e-04, 4.63663894e-04, 1.71773357e-04, 1.81413472e-04,\n",
              "        1.45431862e-04, 3.91130881e-04, 1.81552352e-04, 2.38895483e-04,\n",
              "        3.22460098e-04, 6.50601686e-04, 3.89988388e-04, 1.79704894e-03,\n",
              "        3.40126397e-04, 1.30824026e-04, 1.87604161e-04, 1.11645757e-04,\n",
              "        9.14723073e-05, 2.89426667e-04, 2.96864952e-04, 8.06462107e-04,\n",
              "        4.08270108e-04, 1.06629617e-04, 1.39963931e-04, 6.20337826e-04,\n",
              "        3.07671667e-04, 3.12077421e-04, 4.59152623e-04, 3.11685753e-04,\n",
              "        1.28868133e-04, 8.83536407e-05, 8.65101937e-05, 4.38603662e-04,\n",
              "        6.99264380e-04, 1.20277861e-04, 8.77048077e-05, 6.77075184e-05,\n",
              "        6.21467925e-05, 2.29705402e-04, 1.64366845e-03, 1.50021488e-04,\n",
              "        1.12807469e-03, 1.23619369e-04, 5.74703719e-05, 1.32004545e-04]),\n",
              " 'std_test_score': array([0.10170181, 0.1014609 , 0.10244403, 0.1041545 , 0.10708561,\n",
              "        0.10480037, 0.10441588, 0.10399032, 0.10839232, 0.10819177,\n",
              "        0.10799913, 0.11115689, 0.11253065, 0.11191578, 0.11040055,\n",
              "        0.10937698, 0.11039805, 0.10917256, 0.10830314, 0.11072264,\n",
              "        0.11131629, 0.1123438 , 0.11143674, 0.10994195, 0.10325763,\n",
              "        0.10367749, 0.10279554, 0.1058835 , 0.10632759, 0.10604554,\n",
              "        0.10679054, 0.10564749, 0.10226398, 0.10219607, 0.10224784,\n",
              "        0.10151873, 0.10268323, 0.10271523, 0.10391029, 0.10393734,\n",
              "        0.11591118, 0.11507285, 0.11311814, 0.11769444, 0.11779453,\n",
              "        0.11666079, 0.11488376, 0.11398362]),\n",
              " 'std_train_score': array([0.00968087, 0.00909319, 0.00859933, 0.00847031, 0.00837754,\n",
              "        0.00821812, 0.00762345, 0.0077429 , 0.00852378, 0.00799388,\n",
              "        0.00776612, 0.00773138, 0.00766563, 0.00761441, 0.00708791,\n",
              "        0.00721021, 0.00965049, 0.00916125, 0.00924285, 0.00921959,\n",
              "        0.00890329, 0.00893584, 0.00833316, 0.00829668, 0.0103708 ,\n",
              "        0.00983997, 0.00974348, 0.00950463, 0.00945671, 0.0094378 ,\n",
              "        0.00894694, 0.00882491, 0.01071127, 0.01014177, 0.00993883,\n",
              "        0.0097229 , 0.00976637, 0.00988546, 0.00930714, 0.00920957,\n",
              "        0.00841756, 0.00796075, 0.00791512, 0.00772998, 0.00777747,\n",
              "        0.00784553, 0.00742723, 0.00718169])}"
            ]
          },
          "metadata": {},
          "execution_count": 42
        }
      ]
    },
    {
      "cell_type": "code",
      "metadata": {
        "scrolled": true,
        "id": "5UU5lIRkMARp",
        "colab": {
          "base_uri": "https://localhost:8080/",
          "height": 283
        },
        "outputId": "38d8bce0-c191-42cb-f2e5-0e25d9fdb9d4"
      },
      "source": [
        "# plot the effect of different number of trees and maximum tree-depth druing cross validation \n",
        "scores = grid_rf.cv_results_['mean_test_score']\n",
        "\n",
        "n_est = [54, 55, 56, 57, 58, 59, 60, 62]\n",
        "m_depth=[12, 13, 14, 15, 16, 17]\n",
        "scores = np.array(scores).reshape(len(m_depth), len(n_est))\n",
        "fig = plt.figure()\n",
        "ax = plt.subplot(111)\n",
        "for ind, i in enumerate(m_depth):\n",
        "    plt.plot(n_est, scores[ind], '-o', label='n estimator.' + str(i),)\n",
        "    \n",
        "ax.legend(loc='center left', bbox_to_anchor=(1, 0.5))\n",
        "plt.xlabel('Mean score')\n",
        "plt.ylabel('Max depth')\n",
        "plt.grid(True)\n",
        "plt.show()\n",
        "# savefig('rf_1')"
      ],
      "execution_count": 43,
      "outputs": [
        {
          "output_type": "display_data",
          "data": {
            "image/png": "[encoded data removed]",
            "text/plain": [
              "<Figure size 432x288 with 1 Axes>"
            ]
          },
          "metadata": {
            "needs_background": "light"
          }
        }
      ]
    },
    {
      "cell_type": "code",
      "metadata": {
        "id": "jGrDSpHIMARs",
        "colab": {
          "base_uri": "https://localhost:8080/"
        },
        "outputId": "a7658360-09de-4a9e-b56f-e801ebee8f74"
      },
      "source": [
        "# add both training and validation data together as the new training data\n",
        "rf = RandomForestRegressor(random_state=2, max_features = 'sqrt', max_depth= 14, n_estimators=55)\n",
        "rf.fit(model_train_x, model_train_y)"
      ],
      "execution_count": 44,
      "outputs": [
        {
          "output_type": "execute_result",
          "data": {
            "text/plain": [
              "RandomForestRegressor(bootstrap=True, criterion='mse', max_depth=14,\n",
              "           max_features='sqrt', max_leaf_nodes=None,\n",
              "           min_impurity_decrease=0.0, min_impurity_split=None,\n",
              "           min_samples_leaf=1, min_samples_split=2,\n",
              "           min_weight_fraction_leaf=0.0, n_estimators=55, n_jobs=None,\n",
              "           oob_score=False, random_state=2, verbose=0, warm_start=False)"
            ]
          },
          "metadata": {},
          "execution_count": 44
        }
      ]
    },
    {
      "cell_type": "markdown",
      "metadata": {
        "id": "b2uR7duZMARv"
      },
      "source": [
        "The best rf model have n_estimator = 14, and max_depth = 55."
      ]
    },
    {
      "cell_type": "markdown",
      "metadata": {
        "id": "5GKoFIayMARw"
      },
      "source": [
        "# Part 4: Model Evaluation\n",
        "Test data is the reserved 15% of the whole dataset, and has never been seen by the above models. "
      ]
    },
    {
      "cell_type": "markdown",
      "metadata": {
        "id": "nnleTat0MARx"
      },
      "source": [
        "## 4.1 Lasso test with linear features (lasso_f)"
      ]
    },
    {
      "cell_type": "code",
      "metadata": {
        "id": "ZaXPW0ObMARy",
        "colab": {
          "base_uri": "https://localhost:8080/"
        },
        "outputId": "27601e70-73e3-44a6-b1c7-62e504b5f7f4"
      },
      "source": [
        "# Lasso_f test (with linear features)\n",
        "\n",
        "lasso_f_score = lasso_f.score(model_test_x, model_test_y)\n",
        "pred_y = lasso_f.predict(model_test_x)\n",
        "\n",
        "# The mean squared error and root mean square error\n",
        "MSE_lasso_f = mean_squared_error(model_test_y, pred_y)\n",
        "RMSE_lasso_f = sqrt(mean_squared_error(model_test_y, pred_y))\n",
        "\n",
        "print 'lasso_f score: ', lasso_f_score\n",
        "print 'Mean square error of lasso_f: ', MSE_lasso_f\n",
        "print 'Root mean squared error of lasso_f:', RMSE_lasso_f\n",
        "# print ('Coefficients of lasso_f: ', lasso_f.coef_)"
      ],
      "execution_count": 45,
      "outputs": [
        {
          "output_type": "stream",
          "text": [
            "lasso_f score:  0.09954927178753736\n",
            "Mean square error of lasso_f:  238953191.99910027\n",
            "Root mean squared error of lasso_f: 15458.1108807\n"
          ],
          "name": "stdout"
        }
      ]
    },
    {
      "cell_type": "markdown",
      "metadata": {
        "id": "wZZOpFo4MAR8"
      },
      "source": [
        "## 4.2 Lasso test with polynomial features (lasso_fp)"
      ]
    },
    {
      "cell_type": "code",
      "metadata": {
        "id": "ttmrMRrLMAR9",
        "colab": {
          "base_uri": "https://localhost:8080/"
        },
        "outputId": "8bceaecc-c08e-4c79-c223-4bd7a16e4bea"
      },
      "source": [
        "# Lasso_fp test (with polynomial features)\n",
        "model_test_xp = poly.fit_transform(model_test_x)\n",
        "pred_y = lasso_fp.predict(model_test_xp)\n",
        "\n",
        "lasso_fp_score = lasso_fp.score(model_test_xp, model_test_y)\n",
        "MSE_lasso_fp = mean_squared_error(model_test_y, pred_y)\n",
        "RMSE_lasso_fp = sqrt(mean_squared_error(model_test_y, pred_y))\n",
        "\n",
        "print 'lasso_fp score: ', lasso_fp_score\n",
        "print 'Mean square error of lasso_fp: ', MSE_lasso_fp\n",
        "print 'Root mean squared error of lasso_fp:', RMSE_lasso_fp\n",
        "# print ('Coefficients of lasso_fp: ', lasso_fp.coef_)"
      ],
      "execution_count": 46,
      "outputs": [
        {
          "output_type": "stream",
          "text": [
            "lasso_fp score:  -0.08392274794824894\n",
            "Mean square error of lasso_fp:  287641280.5138598\n",
            "Root mean squared error of lasso_fp: 16959.9905812\n"
          ],
          "name": "stdout"
        }
      ]
    },
    {
      "cell_type": "markdown",
      "metadata": {
        "id": "Knre359zMASA"
      },
      "source": [
        "## 4.3 Ridge test with linear features (ridge_f)"
      ]
    },
    {
      "cell_type": "code",
      "metadata": {
        "id": "g0tZ8wfpMASC",
        "colab": {
          "base_uri": "https://localhost:8080/"
        },
        "outputId": "3ecad4d9-ba25-4731-b3bc-5ec1227c3f18"
      },
      "source": [
        "# ridge_f test (with linear features)\n",
        "\n",
        "ridge_f_score = ridge_f.score(model_test_x, model_test_y)\n",
        "pred_y = ridge_f.predict(model_test_x)\n",
        "\n",
        "# The mean squared error and root mean square error\n",
        "MSE_ridge_f = mean_squared_error(model_test_y, pred_y)\n",
        "RMSE_ridge_f = sqrt(mean_squared_error(model_test_y, pred_y))\n",
        "\n",
        "print 'ridge_f score: ', ridge_f_score\n",
        "print 'Mean square error of ridge_f: ', MSE_ridge_f\n",
        "print 'Root mean squared error of ridge_f:', RMSE_ridge_f\n",
        "# print ('Coefficients of ridge_f: ', ridge_f.coef_)"
      ],
      "execution_count": 47,
      "outputs": [
        {
          "output_type": "stream",
          "text": [
            "ridge_f score:  0.11379706231843745\n",
            "Mean square error of ridge_f:  235172246.61294714\n",
            "Root mean squared error of ridge_f: 15335.3267527\n"
          ],
          "name": "stdout"
        }
      ]
    },
    {
      "cell_type": "markdown",
      "metadata": {
        "id": "s1G86vKAMASG"
      },
      "source": [
        "## 4.4 Ridge test with polynomial features (ridge_fp)"
      ]
    },
    {
      "cell_type": "code",
      "metadata": {
        "id": "hQPs4SA7MASH",
        "colab": {
          "base_uri": "https://localhost:8080/"
        },
        "outputId": "1f8bc11b-24a7-4e2c-cc86-ce635e950282"
      },
      "source": [
        "# ridge_fp test (with polynomial features)\n",
        "model_test_xp = poly.fit_transform(model_test_x)\n",
        "\n",
        "ridge_fp_score = ridge_fp.score(model_test_xp, model_test_y)\n",
        "MSE_ridge_fp = mean_squared_error(model_test_y, pred_y)\n",
        "RMSE_ridge_fp = sqrt(mean_squared_error(model_test_y, pred_y))\n",
        "\n",
        "pred_y = ridge_fp.predict(model_test_xp)\n",
        "print 'ridge_fp score: ', ridge_f_score\n",
        "print 'Mean square error of ridge_fp: ', MSE_ridge_fp\n",
        "print 'Root mean squared error of ridge_fp:', RMSE_ridge_fp\n",
        "#print ('Coefficients of ridge_fp: ', ridge_fp.coef_)"
      ],
      "execution_count": 48,
      "outputs": [
        {
          "output_type": "stream",
          "text": [
            "ridge_fp score:  0.11379706231843745\n",
            "Mean square error of ridge_fp:  235172246.61294714\n",
            "Root mean squared error of ridge_fp: 15335.3267527\n"
          ],
          "name": "stdout"
        }
      ]
    },
    {
      "cell_type": "markdown",
      "metadata": {
        "id": "DZZV39-TMASI"
      },
      "source": [
        "## 4.5 Random forest test (rf)"
      ]
    },
    {
      "cell_type": "code",
      "metadata": {
        "id": "kTi6MMhYMASJ",
        "colab": {
          "base_uri": "https://localhost:8080/"
        },
        "outputId": "d4b7728d-e0b7-4cc8-da61-3d44cf51a0ed"
      },
      "source": [
        "rf_score = rf.score(model_test_x, model_test_y)\n",
        "\n",
        "pred_y = rf.predict(model_test_x)\n",
        "MSE_rf = mean_squared_error(model_test_y, pred_y)\n",
        "RMSE_rf = sqrt(mean_squared_error(model_test_y, pred_y))\n",
        "\n",
        "# The mean squared error and root mean square error\n",
        "print 'rf score: ', rf_score\n",
        "print 'Mean square error of rf: ', MSE_rf\n",
        "print 'Root mean squared error of rf:', RMSE_rf\n",
        "# print('Coefficients: \\n', ridge_fp.coef_)"
      ],
      "execution_count": 49,
      "outputs": [
        {
          "output_type": "stream",
          "text": [
            "rf score:  0.5098577869271956\n",
            "Mean square error of rf:  130069356.02101581\n",
            "Root mean squared error of rf: 11404.7953082\n"
          ],
          "name": "stdout"
        }
      ]
    },
    {
      "cell_type": "markdown",
      "metadata": {
        "id": "ASC1coN0MASL"
      },
      "source": [
        "## 4.6 Comparison of the 5 models\n",
        "Compared the max_score, mean squared error (MSE), and root mean squared error (RMSE) of 5 models. Random forest model rf returns the beset prediction accuracy."
      ]
    },
    {
      "cell_type": "code",
      "metadata": {
        "id": "9Gftt2eIMASM",
        "colab": {
          "base_uri": "https://localhost:8080/",
          "height": 840
        },
        "outputId": "a04cf100-52dd-4e12-a18f-00caca9c37d9"
      },
      "source": [
        "lst_score = [lasso_f_score, lasso_fp_score, ridge_f_score, ridge_fp_score, rf_score]\n",
        "MSE_lst =  [MSE_lasso_f, MSE_lasso_fp, MSE_ridge_f, MSE_ridge_fp, MSE_rf]\n",
        "RMSE_lst =  [RMSE_lasso_f, RMSE_lasso_fp, RMSE_ridge_f, RMSE_ridge_fp, RMSE_rf]\n",
        "model_lst = ['Lasso_linear','Lasso poly', 'Ridge linear', 'Ridge poly', 'Random forest']\n",
        "\n",
        "plt.figure(1)\n",
        "plt.plot(model_lst, lst_score, 'ro')\n",
        "plt.legend(loc = 9)\n",
        "plt.legend(['r-squre / score'])\n",
        "plt.xlabel('model names',fontsize =16)\n",
        "plt.ylabel('score / r square', fontsize =16)\n",
        "plt.grid(True)\n",
        "plt.show()\n",
        "\n",
        "plt.figure(2)\n",
        "plt.plot(model_lst, MSE_lst, 'g^')\n",
        "plt.legend(loc = 9)\n",
        "plt.legend(['mean square error (MSE)'])\n",
        "plt.xlabel('model names', fontsize =16)\n",
        "plt.ylabel('mean square error', fontsize =16)\n",
        "plt.grid(True)\n",
        "plt.show()\n",
        "\n",
        "plt.figure(3)\n",
        "plt.plot(model_lst, RMSE_lst, 'bs')\n",
        "plt.legend(loc = 9)\n",
        "plt.legend(['root mean square error (RMSE)'])\n",
        "plt.xlabel('model names', fontsize =16)\n",
        "plt.ylabel('root mean square error', fontsize =16)\n",
        "plt.grid(True)\n",
        "plt.show()"
      ],
      "execution_count": 50,
      "outputs": [
        {
          "output_type": "display_data",
          "data": {
            "image/png": "[encoded data removed]",
            "text/plain": [
              "<Figure size 432x288 with 1 Axes>"
            ]
          },
          "metadata": {
            "needs_background": "light"
          }
        },
        {
          "output_type": "display_data",
          "data": {
            "image/png": "[encoded data removed]",
            "text/plain": [
              "<Figure size 432x288 with 1 Axes>"
            ]
          },
          "metadata": {
            "needs_background": "light"
          }
        },
        {
          "output_type": "display_data",
          "data": {
            "image/png": "[encoded data removed]",
            "text/plain": [
              "<Figure size 432x288 with 1 Axes>"
            ]
          },
          "metadata": {
            "needs_background": "light"
          }
        }
      ]
    },
    {
      "cell_type": "markdown",
      "metadata": {
        "id": "6c8d8mJIMASP"
      },
      "source": [
        "\n",
        "# 5. Feature importance\n",
        "Random forest(RF) shows the best prediction accuracy. Therefore, the feature importance will be extracted from the RF model. "
      ]
    },
    {
      "cell_type": "code",
      "metadata": {
        "id": "_utPLvNCMASP",
        "colab": {
          "base_uri": "https://localhost:8080/",
          "height": 1000
        },
        "outputId": "eeb8f26c-dc29-471f-c8bb-b04791bf8e5a"
      },
      "source": [
        "importances = rf.feature_importances_\n",
        "std = np.std([tree.feature_importances_ for tree in rf.estimators_], axis=0)\n",
        "indices = np.argsort(importances)[::-1]\n",
        "feature_name = model_test_x.columns.get_values()\n",
        "\n",
        "# Print the feature ranking\n",
        "print(\"Feature importance ranking:\")\n",
        "\n",
        "for f in range(model_test_x.shape[1]):\n",
        "    print(\"%d. feature %d %s (%f)\" % (f + 1, indices[f],  feature_name[f], importances[indices[f]]))\n",
        "    \n",
        "plt.figure(1)\n",
        "plt.bar(feature_name[:11], importances[indices[:11]])\n",
        "plt.xticks(rotation=90)\n",
        "plt.show()"
      ],
      "execution_count": 51,
      "outputs": [
        {
          "output_type": "stream",
          "text": [
            "Feature importance ranking:\n",
            "1. feature 2 weighted_categorical_position (0.153114)\n",
            "2. feature 0 weighted_horizontal_poition (0.125979)\n",
            "3. feature 1 imdb_votes (0.122217)\n",
            "4. feature 7 budget (0.058824)\n",
            "5. feature 8 boxoffice (0.056730)\n",
            "6. feature 3 imdb_rating (0.055224)\n",
            "7. feature 4 duration_in_mins (0.054734)\n",
            "8. feature 6 metacritic_score (0.042676)\n",
            "9. feature 9 star_category (0.039899)\n",
            "10. feature 5 lionsgate (0.032440)\n",
            "11. feature 11 mgm (0.027291)\n",
            "12. feature 53 other (0.025557)\n",
            "13. feature 10 paramount (0.020731)\n",
            "14. feature 42 G (0.017618)\n",
            "15. feature 28 NC-17 (0.012257)\n",
            "16. feature 18 NotRated (0.011334)\n",
            "17. feature 27 PG (0.010325)\n",
            "18. feature 49 PG-13 (0.007859)\n",
            "19. feature 52 R (0.007672)\n",
            "20. feature 23 BAFTA (0.007548)\n",
            "21. feature 30 Golden Globe (0.006129)\n",
            "22. feature 15 Oscar (0.005517)\n",
            "23. feature 29 no award (0.005429)\n",
            "24. feature 51 other award (0.005089)\n",
            "25. feature 17 Action (0.005000)\n",
            "26. feature 50 Adventure (0.004992)\n",
            "27. feature 24 Animation (0.004810)\n",
            "28. feature 20 Comedy (0.004593)\n",
            "29. feature 25 Crime (0.004481)\n",
            "30. feature 22 Documentary (0.004423)\n",
            "31. feature 44 Drama (0.004416)\n",
            "32. feature 47 Fantasy (0.004400)\n",
            "33. feature 35 Foreign/International (0.004393)\n",
            "34. feature 48 Horror (0.004375)\n",
            "35. feature 33 Independent (0.003766)\n",
            "36. feature 39 Kids & Family (0.003637)\n",
            "37. feature 43 Music (0.003517)\n",
            "38. feature 21 Musicals (0.003489)\n",
            "39. feature 38 Mystery (0.003154)\n",
            "40. feature 12 Romance (0.002994)\n",
            "41. feature 54 Sci-Fi (0.002889)\n",
            "42. feature 16 Sport (0.002814)\n",
            "43. feature 26 Thriller (0.002650)\n",
            "44. feature 36 War (0.002333)\n",
            "45. feature 40 Western (0.002305)\n",
            "46. feature 46 Misc_gen (0.002291)\n",
            "47. feature 41 1916-1974 (0.001740)\n",
            "48. feature 31 1974-1991 (0.001313)\n",
            "49. feature 55 1991-2001 (0.000945)\n",
            "50. feature 37 2001-2006 (0.000642)\n",
            "51. feature 34 2006-2008 (0.000609)\n",
            "52. feature 14 2008-2010 (0.000422)\n",
            "53. feature 13 2010-2012 (0.000219)\n",
            "54. feature 32 2012-2013 (0.000096)\n",
            "55. feature 19 2013-2014 (0.000078)\n",
            "56. feature 45 2014-2017 (0.000020)\n"
          ],
          "name": "stdout"
        },
        {
          "output_type": "display_data",
          "data": {
            "image/png": "[encoded data removed]",
            "text/plain": [
              "<Figure size 432x288 with 1 Axes>"
            ]
          },
          "metadata": {
            "needs_background": "light"
          }
        }
      ]
    }
  ]
}